{
 "cells": [
  {
   "cell_type": "markdown",
   "metadata": {},
   "source": [
    "# Dathaton FIAP - PASSOS MÁGICOS"
   ]
  },
  {
   "cell_type": "markdown",
   "metadata": {},
   "source": [
    "## Importing Libraries"
   ]
  },
  {
   "cell_type": "code",
   "execution_count": 41,
   "metadata": {},
   "outputs": [],
   "source": [
    "from dotenv import load_dotenv\n",
    "\n",
    "import os\n",
    "from pathlib import Path\n",
    "\n",
    "import pandas as pd\n",
    "\n",
    "from pycaret.classification import setup, compare_models, predict_model, tune_model, finalize_model, plot_model, evaluate_model, save_model, load_model\n",
    "\n",
    "import psycopg2 as ps"
   ]
  },
  {
   "cell_type": "markdown",
   "metadata": {},
   "source": [
    "## Loading Data"
   ]
  },
  {
   "cell_type": "code",
   "execution_count": 42,
   "metadata": {},
   "outputs": [],
   "source": [
    "load_dotenv()\n",
    "\n",
    "DB_KEY = os.getenv(\"DB_KEY\")\n",
    "DB_NAME = os.getenv(\"DB_NAME\")"
   ]
  },
  {
   "cell_type": "code",
   "execution_count": 43,
   "metadata": {},
   "outputs": [],
   "source": [
    "conn = ps.connect(\n",
    "    dbname='PEDE_PASSOS',\n",
    "    user=DB_NAME,\n",
    "    host='localhost',\n",
    "    port='5432',\n",
    "    password=DB_KEY)"
   ]
  },
  {
   "cell_type": "code",
   "execution_count": 44,
   "metadata": {},
   "outputs": [],
   "source": [
    "data = pd.read_sql(\"SELECT * FROM pede_passos.students_avaliation\", con=conn, )"
   ]
  },
  {
   "cell_type": "code",
   "execution_count": 45,
   "metadata": {},
   "outputs": [],
   "source": [
    "# path = Path('../data/raw/PEDE_PASSOS_DATASET_FIAP.csv')\n",
    "\n",
    "# data = pd.read_csv(path, sep=';')"
   ]
  },
  {
   "cell_type": "markdown",
   "metadata": {},
   "source": [
    "## Data Wrangling"
   ]
  },
  {
   "cell_type": "code",
   "execution_count": 46,
   "metadata": {},
   "outputs": [],
   "source": [
    "melt_data = data.melt(id_vars=['NOME'], var_name='feature', value_name='value')\n",
    "melt_data.rename(columns={'NOME': 'name'}, inplace=True)\n",
    "melt_data['feature'] = melt_data['feature'].astype(str)\n",
    "melt_data[['feature', 'year']] = melt_data['feature'].str.rsplit('_', n=1, expand=True)"
   ]
  },
  {
   "cell_type": "code",
   "execution_count": 47,
   "metadata": {},
   "outputs": [],
   "source": [
    "fase = melt_data"
   ]
  },
  {
   "cell_type": "code",
   "execution_count": 48,
   "metadata": {},
   "outputs": [],
   "source": [
    "fase['feature'] = fase['feature'].str.replace('FASE_TURMA', 'FASE')\n",
    "fase = fase[fase['feature']=='FASE']\n",
    "fase['value'] = fase.loc[fase['year']=='2020']['value'].str[:-1]"
   ]
  },
  {
   "cell_type": "code",
   "execution_count": 49,
   "metadata": {},
   "outputs": [],
   "source": [
    "fase.dropna(inplace=True, axis=0, how='any')\n",
    "fase['value'] = pd.to_numeric(fase['value'], errors='coerce')\n",
    "fase.dropna(subset=['value'], inplace=True)\n",
    "\n",
    "scholars = fase[fase['value'] <= 7]\n",
    "academics = fase[fase['value'] > 7]"
   ]
  },
  {
   "cell_type": "code",
   "execution_count": 27,
   "metadata": {},
   "outputs": [],
   "source": [
    "melt_data['id'] = melt_data['name'] + '_' + melt_data['year']\n",
    "melt_data.set_index('id', inplace=True)\n",
    "\n",
    "melt_data.drop(columns=['name', 'year'], inplace=True)"
   ]
  },
  {
   "cell_type": "code",
   "execution_count": 28,
   "metadata": {},
   "outputs": [],
   "source": [
    "values_to_keep = ['IAA', 'IEG', 'IPS', 'IDA', 'IPP','IPV', 'IAN', 'PEDRA']\n",
    "\n",
    "melt_data = melt_data[melt_data['feature'].isin(values_to_keep)]\n",
    "\n",
    "melt_data = melt_data.pivot(columns='feature', values='value')\n",
    "melt_data.columns.name = None"
   ]
  },
  {
   "cell_type": "code",
   "execution_count": 29,
   "metadata": {},
   "outputs": [],
   "source": [
    "melt_data.dropna(axis=0, subset='PEDRA', inplace=True)\n",
    "\n",
    "pedras = ['Ágata', 'Topázio', 'Ametista', 'Quartzo']\n",
    "\n",
    "melt_data = melt_data[melt_data['PEDRA'].isin(pedras)]"
   ]
  },
  {
   "cell_type": "code",
   "execution_count": 30,
   "metadata": {},
   "outputs": [],
   "source": [
    "for col in melt_data.columns:\n",
    "\tif col != 'PEDRA':\n",
    "\t\tmelt_data[col] = pd.to_numeric(melt_data[col], errors='coerce')\n",
    "melt_data = melt_data.dropna()"
   ]
  },
  {
   "cell_type": "code",
   "execution_count": 31,
   "metadata": {},
   "outputs": [],
   "source": [
    "target = {'Quartzo': 0, 'Ágata': 1, 'Ametista': 2, 'Topázio': 3}\n",
    "\n",
    "melt_data['PEDRA'] = melt_data['PEDRA'].map(target)"
   ]
  },
  {
   "cell_type": "markdown",
   "metadata": {},
   "source": [
    "## Data Modeling"
   ]
  },
  {
   "cell_type": "code",
   "execution_count": null,
   "metadata": {},
   "outputs": [
    {
     "data": {
      "text/html": [
       "<style type=\"text/css\">\n",
       "#T_55e4a_row8_col1 {\n",
       "  background-color: lightgreen;\n",
       "}\n",
       "</style>\n",
       "<table id=\"T_55e4a\">\n",
       "  <thead>\n",
       "    <tr>\n",
       "      <th class=\"blank level0\" >&nbsp;</th>\n",
       "      <th id=\"T_55e4a_level0_col0\" class=\"col_heading level0 col0\" >Description</th>\n",
       "      <th id=\"T_55e4a_level0_col1\" class=\"col_heading level0 col1\" >Value</th>\n",
       "    </tr>\n",
       "  </thead>\n",
       "  <tbody>\n",
       "    <tr>\n",
       "      <th id=\"T_55e4a_level0_row0\" class=\"row_heading level0 row0\" >0</th>\n",
       "      <td id=\"T_55e4a_row0_col0\" class=\"data row0 col0\" >Session id</td>\n",
       "      <td id=\"T_55e4a_row0_col1\" class=\"data row0 col1\" >123</td>\n",
       "    </tr>\n",
       "    <tr>\n",
       "      <th id=\"T_55e4a_level0_row1\" class=\"row_heading level0 row1\" >1</th>\n",
       "      <td id=\"T_55e4a_row1_col0\" class=\"data row1 col0\" >Target</td>\n",
       "      <td id=\"T_55e4a_row1_col1\" class=\"data row1 col1\" >PEDRA</td>\n",
       "    </tr>\n",
       "    <tr>\n",
       "      <th id=\"T_55e4a_level0_row2\" class=\"row_heading level0 row2\" >2</th>\n",
       "      <td id=\"T_55e4a_row2_col0\" class=\"data row2 col0\" >Target type</td>\n",
       "      <td id=\"T_55e4a_row2_col1\" class=\"data row2 col1\" >Multiclass</td>\n",
       "    </tr>\n",
       "    <tr>\n",
       "      <th id=\"T_55e4a_level0_row3\" class=\"row_heading level0 row3\" >3</th>\n",
       "      <td id=\"T_55e4a_row3_col0\" class=\"data row3 col0\" >Original data shape</td>\n",
       "      <td id=\"T_55e4a_row3_col1\" class=\"data row3 col1\" >(2273, 8)</td>\n",
       "    </tr>\n",
       "    <tr>\n",
       "      <th id=\"T_55e4a_level0_row4\" class=\"row_heading level0 row4\" >4</th>\n",
       "      <td id=\"T_55e4a_row4_col0\" class=\"data row4 col0\" >Transformed data shape</td>\n",
       "      <td id=\"T_55e4a_row4_col1\" class=\"data row4 col1\" >(2273, 8)</td>\n",
       "    </tr>\n",
       "    <tr>\n",
       "      <th id=\"T_55e4a_level0_row5\" class=\"row_heading level0 row5\" >5</th>\n",
       "      <td id=\"T_55e4a_row5_col0\" class=\"data row5 col0\" >Transformed train set shape</td>\n",
       "      <td id=\"T_55e4a_row5_col1\" class=\"data row5 col1\" >(1591, 8)</td>\n",
       "    </tr>\n",
       "    <tr>\n",
       "      <th id=\"T_55e4a_level0_row6\" class=\"row_heading level0 row6\" >6</th>\n",
       "      <td id=\"T_55e4a_row6_col0\" class=\"data row6 col0\" >Transformed test set shape</td>\n",
       "      <td id=\"T_55e4a_row6_col1\" class=\"data row6 col1\" >(682, 8)</td>\n",
       "    </tr>\n",
       "    <tr>\n",
       "      <th id=\"T_55e4a_level0_row7\" class=\"row_heading level0 row7\" >7</th>\n",
       "      <td id=\"T_55e4a_row7_col0\" class=\"data row7 col0\" >Numeric features</td>\n",
       "      <td id=\"T_55e4a_row7_col1\" class=\"data row7 col1\" >7</td>\n",
       "    </tr>\n",
       "    <tr>\n",
       "      <th id=\"T_55e4a_level0_row8\" class=\"row_heading level0 row8\" >8</th>\n",
       "      <td id=\"T_55e4a_row8_col0\" class=\"data row8 col0\" >Preprocess</td>\n",
       "      <td id=\"T_55e4a_row8_col1\" class=\"data row8 col1\" >True</td>\n",
       "    </tr>\n",
       "    <tr>\n",
       "      <th id=\"T_55e4a_level0_row9\" class=\"row_heading level0 row9\" >9</th>\n",
       "      <td id=\"T_55e4a_row9_col0\" class=\"data row9 col0\" >Imputation type</td>\n",
       "      <td id=\"T_55e4a_row9_col1\" class=\"data row9 col1\" >simple</td>\n",
       "    </tr>\n",
       "    <tr>\n",
       "      <th id=\"T_55e4a_level0_row10\" class=\"row_heading level0 row10\" >10</th>\n",
       "      <td id=\"T_55e4a_row10_col0\" class=\"data row10 col0\" >Numeric imputation</td>\n",
       "      <td id=\"T_55e4a_row10_col1\" class=\"data row10 col1\" >mean</td>\n",
       "    </tr>\n",
       "    <tr>\n",
       "      <th id=\"T_55e4a_level0_row11\" class=\"row_heading level0 row11\" >11</th>\n",
       "      <td id=\"T_55e4a_row11_col0\" class=\"data row11 col0\" >Categorical imputation</td>\n",
       "      <td id=\"T_55e4a_row11_col1\" class=\"data row11 col1\" >mode</td>\n",
       "    </tr>\n",
       "    <tr>\n",
       "      <th id=\"T_55e4a_level0_row12\" class=\"row_heading level0 row12\" >12</th>\n",
       "      <td id=\"T_55e4a_row12_col0\" class=\"data row12 col0\" >Fold Generator</td>\n",
       "      <td id=\"T_55e4a_row12_col1\" class=\"data row12 col1\" >StratifiedKFold</td>\n",
       "    </tr>\n",
       "    <tr>\n",
       "      <th id=\"T_55e4a_level0_row13\" class=\"row_heading level0 row13\" >13</th>\n",
       "      <td id=\"T_55e4a_row13_col0\" class=\"data row13 col0\" >Fold Number</td>\n",
       "      <td id=\"T_55e4a_row13_col1\" class=\"data row13 col1\" >10</td>\n",
       "    </tr>\n",
       "    <tr>\n",
       "      <th id=\"T_55e4a_level0_row14\" class=\"row_heading level0 row14\" >14</th>\n",
       "      <td id=\"T_55e4a_row14_col0\" class=\"data row14 col0\" >CPU Jobs</td>\n",
       "      <td id=\"T_55e4a_row14_col1\" class=\"data row14 col1\" >-1</td>\n",
       "    </tr>\n",
       "    <tr>\n",
       "      <th id=\"T_55e4a_level0_row15\" class=\"row_heading level0 row15\" >15</th>\n",
       "      <td id=\"T_55e4a_row15_col0\" class=\"data row15 col0\" >Use GPU</td>\n",
       "      <td id=\"T_55e4a_row15_col1\" class=\"data row15 col1\" >False</td>\n",
       "    </tr>\n",
       "    <tr>\n",
       "      <th id=\"T_55e4a_level0_row16\" class=\"row_heading level0 row16\" >16</th>\n",
       "      <td id=\"T_55e4a_row16_col0\" class=\"data row16 col0\" >Log Experiment</td>\n",
       "      <td id=\"T_55e4a_row16_col1\" class=\"data row16 col1\" >False</td>\n",
       "    </tr>\n",
       "    <tr>\n",
       "      <th id=\"T_55e4a_level0_row17\" class=\"row_heading level0 row17\" >17</th>\n",
       "      <td id=\"T_55e4a_row17_col0\" class=\"data row17 col0\" >Experiment Name</td>\n",
       "      <td id=\"T_55e4a_row17_col1\" class=\"data row17 col1\" >pedra_prediction</td>\n",
       "    </tr>\n",
       "    <tr>\n",
       "      <th id=\"T_55e4a_level0_row18\" class=\"row_heading level0 row18\" >18</th>\n",
       "      <td id=\"T_55e4a_row18_col0\" class=\"data row18 col0\" >USI</td>\n",
       "      <td id=\"T_55e4a_row18_col1\" class=\"data row18 col1\" >b794</td>\n",
       "    </tr>\n",
       "  </tbody>\n",
       "</table>\n"
      ],
      "text/plain": [
       "<pandas.io.formats.style.Styler at 0x3116d0790>"
      ]
     },
     "metadata": {},
     "output_type": "display_data"
    },
    {
     "data": {
      "text/html": [],
      "text/plain": [
       "<IPython.core.display.HTML object>"
      ]
     },
     "metadata": {},
     "output_type": "display_data"
    },
    {
     "data": {
      "text/html": [
       "<style type=\"text/css\">\n",
       "#T_a807a th {\n",
       "  text-align: left;\n",
       "}\n",
       "#T_a807a_row0_col0, #T_a807a_row0_col2, #T_a807a_row1_col0, #T_a807a_row1_col1, #T_a807a_row1_col2, #T_a807a_row1_col3, #T_a807a_row1_col4, #T_a807a_row1_col5, #T_a807a_row1_col6, #T_a807a_row1_col7, #T_a807a_row2_col0, #T_a807a_row2_col1, #T_a807a_row2_col3, #T_a807a_row2_col4, #T_a807a_row2_col5, #T_a807a_row2_col6, #T_a807a_row2_col7, #T_a807a_row3_col0, #T_a807a_row3_col1, #T_a807a_row3_col2, #T_a807a_row3_col3, #T_a807a_row3_col4, #T_a807a_row3_col5, #T_a807a_row3_col6, #T_a807a_row3_col7, #T_a807a_row4_col0, #T_a807a_row4_col1, #T_a807a_row4_col2, #T_a807a_row4_col3, #T_a807a_row4_col4, #T_a807a_row4_col5, #T_a807a_row4_col6, #T_a807a_row4_col7, #T_a807a_row5_col0, #T_a807a_row5_col1, #T_a807a_row5_col2, #T_a807a_row5_col3, #T_a807a_row5_col4, #T_a807a_row5_col5, #T_a807a_row5_col6, #T_a807a_row5_col7, #T_a807a_row6_col0, #T_a807a_row6_col1, #T_a807a_row6_col2, #T_a807a_row6_col3, #T_a807a_row6_col4, #T_a807a_row6_col5, #T_a807a_row6_col6, #T_a807a_row6_col7, #T_a807a_row7_col0, #T_a807a_row7_col1, #T_a807a_row7_col2, #T_a807a_row7_col3, #T_a807a_row7_col4, #T_a807a_row7_col5, #T_a807a_row7_col6, #T_a807a_row7_col7, #T_a807a_row8_col0, #T_a807a_row8_col1, #T_a807a_row8_col2, #T_a807a_row8_col3, #T_a807a_row8_col4, #T_a807a_row8_col5, #T_a807a_row8_col6, #T_a807a_row8_col7, #T_a807a_row9_col0, #T_a807a_row9_col1, #T_a807a_row9_col2, #T_a807a_row9_col3, #T_a807a_row9_col4, #T_a807a_row9_col5, #T_a807a_row9_col6, #T_a807a_row9_col7, #T_a807a_row10_col0, #T_a807a_row10_col1, #T_a807a_row10_col2, #T_a807a_row10_col3, #T_a807a_row10_col4, #T_a807a_row10_col5, #T_a807a_row10_col6, #T_a807a_row10_col7, #T_a807a_row11_col0, #T_a807a_row11_col1, #T_a807a_row11_col2, #T_a807a_row11_col3, #T_a807a_row11_col4, #T_a807a_row11_col5, #T_a807a_row11_col6, #T_a807a_row11_col7, #T_a807a_row12_col0, #T_a807a_row12_col1, #T_a807a_row12_col2, #T_a807a_row12_col3, #T_a807a_row12_col4, #T_a807a_row12_col5, #T_a807a_row12_col6, #T_a807a_row12_col7, #T_a807a_row13_col0, #T_a807a_row13_col1, #T_a807a_row13_col2, #T_a807a_row13_col3, #T_a807a_row13_col4, #T_a807a_row13_col5, #T_a807a_row13_col6, #T_a807a_row13_col7 {\n",
       "  text-align: left;\n",
       "}\n",
       "#T_a807a_row0_col1, #T_a807a_row0_col3, #T_a807a_row0_col4, #T_a807a_row0_col5, #T_a807a_row0_col6, #T_a807a_row0_col7, #T_a807a_row2_col2 {\n",
       "  text-align: left;\n",
       "  background-color: yellow;\n",
       "}\n",
       "#T_a807a_row0_col8, #T_a807a_row1_col8, #T_a807a_row2_col8, #T_a807a_row3_col8, #T_a807a_row4_col8, #T_a807a_row7_col8, #T_a807a_row8_col8, #T_a807a_row9_col8, #T_a807a_row10_col8, #T_a807a_row12_col8 {\n",
       "  text-align: left;\n",
       "  background-color: lightgrey;\n",
       "}\n",
       "#T_a807a_row5_col8, #T_a807a_row6_col8, #T_a807a_row11_col8, #T_a807a_row13_col8 {\n",
       "  text-align: left;\n",
       "  background-color: yellow;\n",
       "  background-color: lightgrey;\n",
       "}\n",
       "</style>\n",
       "<table id=\"T_a807a\">\n",
       "  <thead>\n",
       "    <tr>\n",
       "      <th class=\"blank level0\" >&nbsp;</th>\n",
       "      <th id=\"T_a807a_level0_col0\" class=\"col_heading level0 col0\" >Model</th>\n",
       "      <th id=\"T_a807a_level0_col1\" class=\"col_heading level0 col1\" >Accuracy</th>\n",
       "      <th id=\"T_a807a_level0_col2\" class=\"col_heading level0 col2\" >AUC</th>\n",
       "      <th id=\"T_a807a_level0_col3\" class=\"col_heading level0 col3\" >Recall</th>\n",
       "      <th id=\"T_a807a_level0_col4\" class=\"col_heading level0 col4\" >Prec.</th>\n",
       "      <th id=\"T_a807a_level0_col5\" class=\"col_heading level0 col5\" >F1</th>\n",
       "      <th id=\"T_a807a_level0_col6\" class=\"col_heading level0 col6\" >Kappa</th>\n",
       "      <th id=\"T_a807a_level0_col7\" class=\"col_heading level0 col7\" >MCC</th>\n",
       "      <th id=\"T_a807a_level0_col8\" class=\"col_heading level0 col8\" >TT (Sec)</th>\n",
       "    </tr>\n",
       "  </thead>\n",
       "  <tbody>\n",
       "    <tr>\n",
       "      <th id=\"T_a807a_level0_row0\" class=\"row_heading level0 row0\" >lr</th>\n",
       "      <td id=\"T_a807a_row0_col0\" class=\"data row0 col0\" >Logistic Regression</td>\n",
       "      <td id=\"T_a807a_row0_col1\" class=\"data row0 col1\" >0.8711</td>\n",
       "      <td id=\"T_a807a_row0_col2\" class=\"data row0 col2\" >0.0000</td>\n",
       "      <td id=\"T_a807a_row0_col3\" class=\"data row0 col3\" >0.8711</td>\n",
       "      <td id=\"T_a807a_row0_col4\" class=\"data row0 col4\" >0.8726</td>\n",
       "      <td id=\"T_a807a_row0_col5\" class=\"data row0 col5\" >0.8706</td>\n",
       "      <td id=\"T_a807a_row0_col6\" class=\"data row0 col6\" >0.8147</td>\n",
       "      <td id=\"T_a807a_row0_col7\" class=\"data row0 col7\" >0.8156</td>\n",
       "      <td id=\"T_a807a_row0_col8\" class=\"data row0 col8\" >0.3640</td>\n",
       "    </tr>\n",
       "    <tr>\n",
       "      <th id=\"T_a807a_level0_row1\" class=\"row_heading level0 row1\" >lightgbm</th>\n",
       "      <td id=\"T_a807a_row1_col0\" class=\"data row1 col0\" >Light Gradient Boosting Machine</td>\n",
       "      <td id=\"T_a807a_row1_col1\" class=\"data row1 col1\" >0.8630</td>\n",
       "      <td id=\"T_a807a_row1_col2\" class=\"data row1 col2\" >0.9713</td>\n",
       "      <td id=\"T_a807a_row1_col3\" class=\"data row1 col3\" >0.8630</td>\n",
       "      <td id=\"T_a807a_row1_col4\" class=\"data row1 col4\" >0.8650</td>\n",
       "      <td id=\"T_a807a_row1_col5\" class=\"data row1 col5\" >0.8624</td>\n",
       "      <td id=\"T_a807a_row1_col6\" class=\"data row1 col6\" >0.8027</td>\n",
       "      <td id=\"T_a807a_row1_col7\" class=\"data row1 col7\" >0.8037</td>\n",
       "      <td id=\"T_a807a_row1_col8\" class=\"data row1 col8\" >0.8650</td>\n",
       "    </tr>\n",
       "    <tr>\n",
       "      <th id=\"T_a807a_level0_row2\" class=\"row_heading level0 row2\" >et</th>\n",
       "      <td id=\"T_a807a_row2_col0\" class=\"data row2 col0\" >Extra Trees Classifier</td>\n",
       "      <td id=\"T_a807a_row2_col1\" class=\"data row2 col1\" >0.8624</td>\n",
       "      <td id=\"T_a807a_row2_col2\" class=\"data row2 col2\" >0.9754</td>\n",
       "      <td id=\"T_a807a_row2_col3\" class=\"data row2 col3\" >0.8624</td>\n",
       "      <td id=\"T_a807a_row2_col4\" class=\"data row2 col4\" >0.8643</td>\n",
       "      <td id=\"T_a807a_row2_col5\" class=\"data row2 col5\" >0.8614</td>\n",
       "      <td id=\"T_a807a_row2_col6\" class=\"data row2 col6\" >0.8004</td>\n",
       "      <td id=\"T_a807a_row2_col7\" class=\"data row2 col7\" >0.8017</td>\n",
       "      <td id=\"T_a807a_row2_col8\" class=\"data row2 col8\" >0.0320</td>\n",
       "    </tr>\n",
       "    <tr>\n",
       "      <th id=\"T_a807a_level0_row3\" class=\"row_heading level0 row3\" >rf</th>\n",
       "      <td id=\"T_a807a_row3_col0\" class=\"data row3 col0\" >Random Forest Classifier</td>\n",
       "      <td id=\"T_a807a_row3_col1\" class=\"data row3 col1\" >0.8479</td>\n",
       "      <td id=\"T_a807a_row3_col2\" class=\"data row3 col2\" >0.9715</td>\n",
       "      <td id=\"T_a807a_row3_col3\" class=\"data row3 col3\" >0.8479</td>\n",
       "      <td id=\"T_a807a_row3_col4\" class=\"data row3 col4\" >0.8503</td>\n",
       "      <td id=\"T_a807a_row3_col5\" class=\"data row3 col5\" >0.8470</td>\n",
       "      <td id=\"T_a807a_row3_col6\" class=\"data row3 col6\" >0.7797</td>\n",
       "      <td id=\"T_a807a_row3_col7\" class=\"data row3 col7\" >0.7810</td>\n",
       "      <td id=\"T_a807a_row3_col8\" class=\"data row3 col8\" >0.0380</td>\n",
       "    </tr>\n",
       "    <tr>\n",
       "      <th id=\"T_a807a_level0_row4\" class=\"row_heading level0 row4\" >gbc</th>\n",
       "      <td id=\"T_a807a_row4_col0\" class=\"data row4 col0\" >Gradient Boosting Classifier</td>\n",
       "      <td id=\"T_a807a_row4_col1\" class=\"data row4 col1\" >0.8435</td>\n",
       "      <td id=\"T_a807a_row4_col2\" class=\"data row4 col2\" >0.0000</td>\n",
       "      <td id=\"T_a807a_row4_col3\" class=\"data row4 col3\" >0.8435</td>\n",
       "      <td id=\"T_a807a_row4_col4\" class=\"data row4 col4\" >0.8457</td>\n",
       "      <td id=\"T_a807a_row4_col5\" class=\"data row4 col5\" >0.8425</td>\n",
       "      <td id=\"T_a807a_row4_col6\" class=\"data row4 col6\" >0.7729</td>\n",
       "      <td id=\"T_a807a_row4_col7\" class=\"data row4 col7\" >0.7743</td>\n",
       "      <td id=\"T_a807a_row4_col8\" class=\"data row4 col8\" >0.1250</td>\n",
       "    </tr>\n",
       "    <tr>\n",
       "      <th id=\"T_a807a_level0_row5\" class=\"row_heading level0 row5\" >lda</th>\n",
       "      <td id=\"T_a807a_row5_col0\" class=\"data row5 col0\" >Linear Discriminant Analysis</td>\n",
       "      <td id=\"T_a807a_row5_col1\" class=\"data row5 col1\" >0.8422</td>\n",
       "      <td id=\"T_a807a_row5_col2\" class=\"data row5 col2\" >0.0000</td>\n",
       "      <td id=\"T_a807a_row5_col3\" class=\"data row5 col3\" >0.8422</td>\n",
       "      <td id=\"T_a807a_row5_col4\" class=\"data row5 col4\" >0.8477</td>\n",
       "      <td id=\"T_a807a_row5_col5\" class=\"data row5 col5\" >0.8396</td>\n",
       "      <td id=\"T_a807a_row5_col6\" class=\"data row5 col6\" >0.7691</td>\n",
       "      <td id=\"T_a807a_row5_col7\" class=\"data row5 col7\" >0.7727</td>\n",
       "      <td id=\"T_a807a_row5_col8\" class=\"data row5 col8\" >0.0040</td>\n",
       "    </tr>\n",
       "    <tr>\n",
       "      <th id=\"T_a807a_level0_row6\" class=\"row_heading level0 row6\" >qda</th>\n",
       "      <td id=\"T_a807a_row6_col0\" class=\"data row6 col0\" >Quadratic Discriminant Analysis</td>\n",
       "      <td id=\"T_a807a_row6_col1\" class=\"data row6 col1\" >0.8353</td>\n",
       "      <td id=\"T_a807a_row6_col2\" class=\"data row6 col2\" >0.0000</td>\n",
       "      <td id=\"T_a807a_row6_col3\" class=\"data row6 col3\" >0.8353</td>\n",
       "      <td id=\"T_a807a_row6_col4\" class=\"data row6 col4\" >0.8372</td>\n",
       "      <td id=\"T_a807a_row6_col5\" class=\"data row6 col5\" >0.8347</td>\n",
       "      <td id=\"T_a807a_row6_col6\" class=\"data row6 col6\" >0.7630</td>\n",
       "      <td id=\"T_a807a_row6_col7\" class=\"data row6 col7\" >0.7641</td>\n",
       "      <td id=\"T_a807a_row6_col8\" class=\"data row6 col8\" >0.0040</td>\n",
       "    </tr>\n",
       "    <tr>\n",
       "      <th id=\"T_a807a_level0_row7\" class=\"row_heading level0 row7\" >knn</th>\n",
       "      <td id=\"T_a807a_row7_col0\" class=\"data row7 col0\" >K Neighbors Classifier</td>\n",
       "      <td id=\"T_a807a_row7_col1\" class=\"data row7 col1\" >0.8328</td>\n",
       "      <td id=\"T_a807a_row7_col2\" class=\"data row7 col2\" >0.9613</td>\n",
       "      <td id=\"T_a807a_row7_col3\" class=\"data row7 col3\" >0.8328</td>\n",
       "      <td id=\"T_a807a_row7_col4\" class=\"data row7 col4\" >0.8345</td>\n",
       "      <td id=\"T_a807a_row7_col5\" class=\"data row7 col5\" >0.8320</td>\n",
       "      <td id=\"T_a807a_row7_col6\" class=\"data row7 col6\" >0.7583</td>\n",
       "      <td id=\"T_a807a_row7_col7\" class=\"data row7 col7\" >0.7595</td>\n",
       "      <td id=\"T_a807a_row7_col8\" class=\"data row7 col8\" >0.0100</td>\n",
       "    </tr>\n",
       "    <tr>\n",
       "      <th id=\"T_a807a_level0_row8\" class=\"row_heading level0 row8\" >nb</th>\n",
       "      <td id=\"T_a807a_row8_col0\" class=\"data row8 col0\" >Naive Bayes</td>\n",
       "      <td id=\"T_a807a_row8_col1\" class=\"data row8 col1\" >0.7750</td>\n",
       "      <td id=\"T_a807a_row8_col2\" class=\"data row8 col2\" >0.9313</td>\n",
       "      <td id=\"T_a807a_row8_col3\" class=\"data row8 col3\" >0.7750</td>\n",
       "      <td id=\"T_a807a_row8_col4\" class=\"data row8 col4\" >0.7789</td>\n",
       "      <td id=\"T_a807a_row8_col5\" class=\"data row8 col5\" >0.7720</td>\n",
       "      <td id=\"T_a807a_row8_col6\" class=\"data row8 col6\" >0.6700</td>\n",
       "      <td id=\"T_a807a_row8_col7\" class=\"data row8 col7\" >0.6736</td>\n",
       "      <td id=\"T_a807a_row8_col8\" class=\"data row8 col8\" >0.0050</td>\n",
       "    </tr>\n",
       "    <tr>\n",
       "      <th id=\"T_a807a_level0_row9\" class=\"row_heading level0 row9\" >dt</th>\n",
       "      <td id=\"T_a807a_row9_col0\" class=\"data row9 col0\" >Decision Tree Classifier</td>\n",
       "      <td id=\"T_a807a_row9_col1\" class=\"data row9 col1\" >0.7687</td>\n",
       "      <td id=\"T_a807a_row9_col2\" class=\"data row9 col2\" >0.8312</td>\n",
       "      <td id=\"T_a807a_row9_col3\" class=\"data row9 col3\" >0.7687</td>\n",
       "      <td id=\"T_a807a_row9_col4\" class=\"data row9 col4\" >0.7706</td>\n",
       "      <td id=\"T_a807a_row9_col5\" class=\"data row9 col5\" >0.7678</td>\n",
       "      <td id=\"T_a807a_row9_col6\" class=\"data row9 col6\" >0.6682</td>\n",
       "      <td id=\"T_a807a_row9_col7\" class=\"data row9 col7\" >0.6694</td>\n",
       "      <td id=\"T_a807a_row9_col8\" class=\"data row9 col8\" >0.0060</td>\n",
       "    </tr>\n",
       "    <tr>\n",
       "      <th id=\"T_a807a_level0_row10\" class=\"row_heading level0 row10\" >ada</th>\n",
       "      <td id=\"T_a807a_row10_col0\" class=\"data row10 col0\" >Ada Boost Classifier</td>\n",
       "      <td id=\"T_a807a_row10_col1\" class=\"data row10 col1\" >0.7008</td>\n",
       "      <td id=\"T_a807a_row10_col2\" class=\"data row10 col2\" >0.0000</td>\n",
       "      <td id=\"T_a807a_row10_col3\" class=\"data row10 col3\" >0.7008</td>\n",
       "      <td id=\"T_a807a_row10_col4\" class=\"data row10 col4\" >0.7064</td>\n",
       "      <td id=\"T_a807a_row10_col5\" class=\"data row10 col5\" >0.6937</td>\n",
       "      <td id=\"T_a807a_row10_col6\" class=\"data row10 col6\" >0.5807</td>\n",
       "      <td id=\"T_a807a_row10_col7\" class=\"data row10 col7\" >0.5877</td>\n",
       "      <td id=\"T_a807a_row10_col8\" class=\"data row10 col8\" >0.0160</td>\n",
       "    </tr>\n",
       "    <tr>\n",
       "      <th id=\"T_a807a_level0_row11\" class=\"row_heading level0 row11\" >ridge</th>\n",
       "      <td id=\"T_a807a_row11_col0\" class=\"data row11 col0\" >Ridge Classifier</td>\n",
       "      <td id=\"T_a807a_row11_col1\" class=\"data row11 col1\" >0.6430</td>\n",
       "      <td id=\"T_a807a_row11_col2\" class=\"data row11 col2\" >0.0000</td>\n",
       "      <td id=\"T_a807a_row11_col3\" class=\"data row11 col3\" >0.6430</td>\n",
       "      <td id=\"T_a807a_row11_col4\" class=\"data row11 col4\" >0.5864</td>\n",
       "      <td id=\"T_a807a_row11_col5\" class=\"data row11 col5\" >0.5558</td>\n",
       "      <td id=\"T_a807a_row11_col6\" class=\"data row11 col6\" >0.4387</td>\n",
       "      <td id=\"T_a807a_row11_col7\" class=\"data row11 col7\" >0.5040</td>\n",
       "      <td id=\"T_a807a_row11_col8\" class=\"data row11 col8\" >0.0040</td>\n",
       "    </tr>\n",
       "    <tr>\n",
       "      <th id=\"T_a807a_level0_row12\" class=\"row_heading level0 row12\" >svm</th>\n",
       "      <td id=\"T_a807a_row12_col0\" class=\"data row12 col0\" >SVM - Linear Kernel</td>\n",
       "      <td id=\"T_a807a_row12_col1\" class=\"data row12 col1\" >0.6236</td>\n",
       "      <td id=\"T_a807a_row12_col2\" class=\"data row12 col2\" >0.0000</td>\n",
       "      <td id=\"T_a807a_row12_col3\" class=\"data row12 col3\" >0.6236</td>\n",
       "      <td id=\"T_a807a_row12_col4\" class=\"data row12 col4\" >0.7433</td>\n",
       "      <td id=\"T_a807a_row12_col5\" class=\"data row12 col5\" >0.5565</td>\n",
       "      <td id=\"T_a807a_row12_col6\" class=\"data row12 col6\" >0.4732</td>\n",
       "      <td id=\"T_a807a_row12_col7\" class=\"data row12 col7\" >0.5462</td>\n",
       "      <td id=\"T_a807a_row12_col8\" class=\"data row12 col8\" >0.0080</td>\n",
       "    </tr>\n",
       "    <tr>\n",
       "      <th id=\"T_a807a_level0_row13\" class=\"row_heading level0 row13\" >dummy</th>\n",
       "      <td id=\"T_a807a_row13_col0\" class=\"data row13 col0\" >Dummy Classifier</td>\n",
       "      <td id=\"T_a807a_row13_col1\" class=\"data row13 col1\" >0.4305</td>\n",
       "      <td id=\"T_a807a_row13_col2\" class=\"data row13 col2\" >0.5000</td>\n",
       "      <td id=\"T_a807a_row13_col3\" class=\"data row13 col3\" >0.4305</td>\n",
       "      <td id=\"T_a807a_row13_col4\" class=\"data row13 col4\" >0.1854</td>\n",
       "      <td id=\"T_a807a_row13_col5\" class=\"data row13 col5\" >0.2592</td>\n",
       "      <td id=\"T_a807a_row13_col6\" class=\"data row13 col6\" >0.0000</td>\n",
       "      <td id=\"T_a807a_row13_col7\" class=\"data row13 col7\" >0.0000</td>\n",
       "      <td id=\"T_a807a_row13_col8\" class=\"data row13 col8\" >0.0040</td>\n",
       "    </tr>\n",
       "  </tbody>\n",
       "</table>\n"
      ],
      "text/plain": [
       "<pandas.io.formats.style.Styler at 0x3117b1ff0>"
      ]
     },
     "metadata": {},
     "output_type": "display_data"
    },
    {
     "data": {
      "text/html": [],
      "text/plain": [
       "<IPython.core.display.HTML object>"
      ]
     },
     "metadata": {},
     "output_type": "display_data"
    },
    {
     "data": {
      "text/html": [],
      "text/plain": [
       "<IPython.core.display.HTML object>"
      ]
     },
     "metadata": {},
     "output_type": "display_data"
    },
    {
     "data": {
      "text/html": [
       "<style type=\"text/css\">\n",
       "#T_8ed27_row10_col0, #T_8ed27_row10_col1, #T_8ed27_row10_col2, #T_8ed27_row10_col3, #T_8ed27_row10_col4, #T_8ed27_row10_col5, #T_8ed27_row10_col6 {\n",
       "  background: yellow;\n",
       "}\n",
       "</style>\n",
       "<table id=\"T_8ed27\">\n",
       "  <thead>\n",
       "    <tr>\n",
       "      <th class=\"blank level0\" >&nbsp;</th>\n",
       "      <th id=\"T_8ed27_level0_col0\" class=\"col_heading level0 col0\" >Accuracy</th>\n",
       "      <th id=\"T_8ed27_level0_col1\" class=\"col_heading level0 col1\" >AUC</th>\n",
       "      <th id=\"T_8ed27_level0_col2\" class=\"col_heading level0 col2\" >Recall</th>\n",
       "      <th id=\"T_8ed27_level0_col3\" class=\"col_heading level0 col3\" >Prec.</th>\n",
       "      <th id=\"T_8ed27_level0_col4\" class=\"col_heading level0 col4\" >F1</th>\n",
       "      <th id=\"T_8ed27_level0_col5\" class=\"col_heading level0 col5\" >Kappa</th>\n",
       "      <th id=\"T_8ed27_level0_col6\" class=\"col_heading level0 col6\" >MCC</th>\n",
       "    </tr>\n",
       "    <tr>\n",
       "      <th class=\"index_name level0\" >Fold</th>\n",
       "      <th class=\"blank col0\" >&nbsp;</th>\n",
       "      <th class=\"blank col1\" >&nbsp;</th>\n",
       "      <th class=\"blank col2\" >&nbsp;</th>\n",
       "      <th class=\"blank col3\" >&nbsp;</th>\n",
       "      <th class=\"blank col4\" >&nbsp;</th>\n",
       "      <th class=\"blank col5\" >&nbsp;</th>\n",
       "      <th class=\"blank col6\" >&nbsp;</th>\n",
       "    </tr>\n",
       "  </thead>\n",
       "  <tbody>\n",
       "    <tr>\n",
       "      <th id=\"T_8ed27_level0_row0\" class=\"row_heading level0 row0\" >0</th>\n",
       "      <td id=\"T_8ed27_row0_col0\" class=\"data row0 col0\" >0.8875</td>\n",
       "      <td id=\"T_8ed27_row0_col1\" class=\"data row0 col1\" >0.0000</td>\n",
       "      <td id=\"T_8ed27_row0_col2\" class=\"data row0 col2\" >0.8875</td>\n",
       "      <td id=\"T_8ed27_row0_col3\" class=\"data row0 col3\" >0.8883</td>\n",
       "      <td id=\"T_8ed27_row0_col4\" class=\"data row0 col4\" >0.8862</td>\n",
       "      <td id=\"T_8ed27_row0_col5\" class=\"data row0 col5\" >0.8369</td>\n",
       "      <td id=\"T_8ed27_row0_col6\" class=\"data row0 col6\" >0.8381</td>\n",
       "    </tr>\n",
       "    <tr>\n",
       "      <th id=\"T_8ed27_level0_row1\" class=\"row_heading level0 row1\" >1</th>\n",
       "      <td id=\"T_8ed27_row1_col0\" class=\"data row1 col0\" >0.8679</td>\n",
       "      <td id=\"T_8ed27_row1_col1\" class=\"data row1 col1\" >0.0000</td>\n",
       "      <td id=\"T_8ed27_row1_col2\" class=\"data row1 col2\" >0.8679</td>\n",
       "      <td id=\"T_8ed27_row1_col3\" class=\"data row1 col3\" >0.8733</td>\n",
       "      <td id=\"T_8ed27_row1_col4\" class=\"data row1 col4\" >0.8689</td>\n",
       "      <td id=\"T_8ed27_row1_col5\" class=\"data row1 col5\" >0.8124</td>\n",
       "      <td id=\"T_8ed27_row1_col6\" class=\"data row1 col6\" >0.8139</td>\n",
       "    </tr>\n",
       "    <tr>\n",
       "      <th id=\"T_8ed27_level0_row2\" class=\"row_heading level0 row2\" >2</th>\n",
       "      <td id=\"T_8ed27_row2_col0\" class=\"data row2 col0\" >0.9057</td>\n",
       "      <td id=\"T_8ed27_row2_col1\" class=\"data row2 col1\" >0.0000</td>\n",
       "      <td id=\"T_8ed27_row2_col2\" class=\"data row2 col2\" >0.9057</td>\n",
       "      <td id=\"T_8ed27_row2_col3\" class=\"data row2 col3\" >0.9074</td>\n",
       "      <td id=\"T_8ed27_row2_col4\" class=\"data row2 col4\" >0.9056</td>\n",
       "      <td id=\"T_8ed27_row2_col5\" class=\"data row2 col5\" >0.8645</td>\n",
       "      <td id=\"T_8ed27_row2_col6\" class=\"data row2 col6\" >0.8649</td>\n",
       "    </tr>\n",
       "    <tr>\n",
       "      <th id=\"T_8ed27_level0_row3\" class=\"row_heading level0 row3\" >3</th>\n",
       "      <td id=\"T_8ed27_row3_col0\" class=\"data row3 col0\" >0.8491</td>\n",
       "      <td id=\"T_8ed27_row3_col1\" class=\"data row3 col1\" >0.0000</td>\n",
       "      <td id=\"T_8ed27_row3_col2\" class=\"data row3 col2\" >0.8491</td>\n",
       "      <td id=\"T_8ed27_row3_col3\" class=\"data row3 col3\" >0.8487</td>\n",
       "      <td id=\"T_8ed27_row3_col4\" class=\"data row3 col4\" >0.8487</td>\n",
       "      <td id=\"T_8ed27_row3_col5\" class=\"data row3 col5\" >0.7830</td>\n",
       "      <td id=\"T_8ed27_row3_col6\" class=\"data row3 col6\" >0.7831</td>\n",
       "    </tr>\n",
       "    <tr>\n",
       "      <th id=\"T_8ed27_level0_row4\" class=\"row_heading level0 row4\" >4</th>\n",
       "      <td id=\"T_8ed27_row4_col0\" class=\"data row4 col0\" >0.8742</td>\n",
       "      <td id=\"T_8ed27_row4_col1\" class=\"data row4 col1\" >0.0000</td>\n",
       "      <td id=\"T_8ed27_row4_col2\" class=\"data row4 col2\" >0.8742</td>\n",
       "      <td id=\"T_8ed27_row4_col3\" class=\"data row4 col3\" >0.8783</td>\n",
       "      <td id=\"T_8ed27_row4_col4\" class=\"data row4 col4\" >0.8746</td>\n",
       "      <td id=\"T_8ed27_row4_col5\" class=\"data row4 col5\" >0.8221</td>\n",
       "      <td id=\"T_8ed27_row4_col6\" class=\"data row4 col6\" >0.8234</td>\n",
       "    </tr>\n",
       "    <tr>\n",
       "      <th id=\"T_8ed27_level0_row5\" class=\"row_heading level0 row5\" >5</th>\n",
       "      <td id=\"T_8ed27_row5_col0\" class=\"data row5 col0\" >0.8616</td>\n",
       "      <td id=\"T_8ed27_row5_col1\" class=\"data row5 col1\" >0.0000</td>\n",
       "      <td id=\"T_8ed27_row5_col2\" class=\"data row5 col2\" >0.8616</td>\n",
       "      <td id=\"T_8ed27_row5_col3\" class=\"data row5 col3\" >0.8654</td>\n",
       "      <td id=\"T_8ed27_row5_col4\" class=\"data row5 col4\" >0.8617</td>\n",
       "      <td id=\"T_8ed27_row5_col5\" class=\"data row5 col5\" >0.8034</td>\n",
       "      <td id=\"T_8ed27_row5_col6\" class=\"data row5 col6\" >0.8049</td>\n",
       "    </tr>\n",
       "    <tr>\n",
       "      <th id=\"T_8ed27_level0_row6\" class=\"row_heading level0 row6\" >6</th>\n",
       "      <td id=\"T_8ed27_row6_col0\" class=\"data row6 col0\" >0.8616</td>\n",
       "      <td id=\"T_8ed27_row6_col1\" class=\"data row6 col1\" >0.0000</td>\n",
       "      <td id=\"T_8ed27_row6_col2\" class=\"data row6 col2\" >0.8616</td>\n",
       "      <td id=\"T_8ed27_row6_col3\" class=\"data row6 col3\" >0.8612</td>\n",
       "      <td id=\"T_8ed27_row6_col4\" class=\"data row6 col4\" >0.8610</td>\n",
       "      <td id=\"T_8ed27_row6_col5\" class=\"data row6 col5\" >0.8019</td>\n",
       "      <td id=\"T_8ed27_row6_col6\" class=\"data row6 col6\" >0.8022</td>\n",
       "    </tr>\n",
       "    <tr>\n",
       "      <th id=\"T_8ed27_level0_row7\" class=\"row_heading level0 row7\" >7</th>\n",
       "      <td id=\"T_8ed27_row7_col0\" class=\"data row7 col0\" >0.8491</td>\n",
       "      <td id=\"T_8ed27_row7_col1\" class=\"data row7 col1\" >0.0000</td>\n",
       "      <td id=\"T_8ed27_row7_col2\" class=\"data row7 col2\" >0.8491</td>\n",
       "      <td id=\"T_8ed27_row7_col3\" class=\"data row7 col3\" >0.8530</td>\n",
       "      <td id=\"T_8ed27_row7_col4\" class=\"data row7 col4\" >0.8492</td>\n",
       "      <td id=\"T_8ed27_row7_col5\" class=\"data row7 col5\" >0.7827</td>\n",
       "      <td id=\"T_8ed27_row7_col6\" class=\"data row7 col6\" >0.7837</td>\n",
       "    </tr>\n",
       "    <tr>\n",
       "      <th id=\"T_8ed27_level0_row8\" class=\"row_heading level0 row8\" >8</th>\n",
       "      <td id=\"T_8ed27_row8_col0\" class=\"data row8 col0\" >0.8805</td>\n",
       "      <td id=\"T_8ed27_row8_col1\" class=\"data row8 col1\" >0.0000</td>\n",
       "      <td id=\"T_8ed27_row8_col2\" class=\"data row8 col2\" >0.8805</td>\n",
       "      <td id=\"T_8ed27_row8_col3\" class=\"data row8 col3\" >0.8795</td>\n",
       "      <td id=\"T_8ed27_row8_col4\" class=\"data row8 col4\" >0.8794</td>\n",
       "      <td id=\"T_8ed27_row8_col5\" class=\"data row8 col5\" >0.8279</td>\n",
       "      <td id=\"T_8ed27_row8_col6\" class=\"data row8 col6\" >0.8284</td>\n",
       "    </tr>\n",
       "    <tr>\n",
       "      <th id=\"T_8ed27_level0_row9\" class=\"row_heading level0 row9\" >9</th>\n",
       "      <td id=\"T_8ed27_row9_col0\" class=\"data row9 col0\" >0.8805</td>\n",
       "      <td id=\"T_8ed27_row9_col1\" class=\"data row9 col1\" >0.0000</td>\n",
       "      <td id=\"T_8ed27_row9_col2\" class=\"data row9 col2\" >0.8805</td>\n",
       "      <td id=\"T_8ed27_row9_col3\" class=\"data row9 col3\" >0.8820</td>\n",
       "      <td id=\"T_8ed27_row9_col4\" class=\"data row9 col4\" >0.8791</td>\n",
       "      <td id=\"T_8ed27_row9_col5\" class=\"data row9 col5\" >0.8271</td>\n",
       "      <td id=\"T_8ed27_row9_col6\" class=\"data row9 col6\" >0.8286</td>\n",
       "    </tr>\n",
       "    <tr>\n",
       "      <th id=\"T_8ed27_level0_row10\" class=\"row_heading level0 row10\" >Mean</th>\n",
       "      <td id=\"T_8ed27_row10_col0\" class=\"data row10 col0\" >0.8718</td>\n",
       "      <td id=\"T_8ed27_row10_col1\" class=\"data row10 col1\" >0.0000</td>\n",
       "      <td id=\"T_8ed27_row10_col2\" class=\"data row10 col2\" >0.8718</td>\n",
       "      <td id=\"T_8ed27_row10_col3\" class=\"data row10 col3\" >0.8737</td>\n",
       "      <td id=\"T_8ed27_row10_col4\" class=\"data row10 col4\" >0.8714</td>\n",
       "      <td id=\"T_8ed27_row10_col5\" class=\"data row10 col5\" >0.8162</td>\n",
       "      <td id=\"T_8ed27_row10_col6\" class=\"data row10 col6\" >0.8171</td>\n",
       "    </tr>\n",
       "    <tr>\n",
       "      <th id=\"T_8ed27_level0_row11\" class=\"row_heading level0 row11\" >Std</th>\n",
       "      <td id=\"T_8ed27_row11_col0\" class=\"data row11 col0\" >0.0168</td>\n",
       "      <td id=\"T_8ed27_row11_col1\" class=\"data row11 col1\" >0.0000</td>\n",
       "      <td id=\"T_8ed27_row11_col2\" class=\"data row11 col2\" >0.0168</td>\n",
       "      <td id=\"T_8ed27_row11_col3\" class=\"data row11 col3\" >0.0166</td>\n",
       "      <td id=\"T_8ed27_row11_col4\" class=\"data row11 col4\" >0.0166</td>\n",
       "      <td id=\"T_8ed27_row11_col5\" class=\"data row11 col5\" >0.0238</td>\n",
       "      <td id=\"T_8ed27_row11_col6\" class=\"data row11 col6\" >0.0238</td>\n",
       "    </tr>\n",
       "  </tbody>\n",
       "</table>\n"
      ],
      "text/plain": [
       "<pandas.io.formats.style.Styler at 0x3086e91e0>"
      ]
     },
     "metadata": {},
     "output_type": "display_data"
    },
    {
     "data": {
      "text/html": [],
      "text/plain": [
       "<IPython.core.display.HTML object>"
      ]
     },
     "metadata": {},
     "output_type": "display_data"
    },
    {
     "name": "stdout",
     "output_type": "stream",
     "text": [
      "Fitting 10 folds for each of 10 candidates, totalling 100 fits\n"
     ]
    }
   ],
   "source": [
    "# Configurar o ambiente de PyCaret\n",
    "clf = setup(data=melt_data, target='PEDRA', session_id=123, experiment_name='pedra_prediction')\n",
    "\n",
    "# Comparar todos os modelos disponíveis e selecionar o melhor\n",
    "best_model = compare_models()\n",
    "\n",
    "# Afinar o melhor modelo\n",
    "tuned_model = tune_model(best_model)\n",
    "\n",
    "# Finalizar o modelo\n",
    "final_model = finalize_model(tuned_model)"
   ]
  },
  {
   "cell_type": "markdown",
   "metadata": {},
   "source": [
    "## Evaluation"
   ]
  },
  {
   "cell_type": "code",
   "execution_count": 33,
   "metadata": {},
   "outputs": [
    {
     "data": {
      "application/vnd.jupyter.widget-view+json": {
       "model_id": "50a62d6e54b040a9a1314c6dc0f68259",
       "version_major": 2,
       "version_minor": 0
      },
      "text/plain": [
       "interactive(children=(ToggleButtons(description='Plot Type:', icons=('',), options=(('Pipeline Plot', 'pipelin…"
      ]
     },
     "metadata": {},
     "output_type": "display_data"
    }
   ],
   "source": [
    "# Avaliar o modelo final\n",
    "evaluate_model(final_model)"
   ]
  },
  {
   "cell_type": "code",
   "execution_count": 34,
   "metadata": {},
   "outputs": [
    {
     "name": "stdout",
     "output_type": "stream",
     "text": [
      "Transformation Pipeline and Model Successfully Saved\n"
     ]
    },
    {
     "data": {
      "text/plain": [
       "(Pipeline(memory=Memory(location=None),\n",
       "          steps=[('numerical_imputer',\n",
       "                  TransformerWrapper(exclude=None,\n",
       "                                     include=['IAA', 'IAN', 'IDA', 'IEG', 'IPP',\n",
       "                                              'IPS', 'IPV'],\n",
       "                                     transformer=SimpleImputer(add_indicator=False,\n",
       "                                                               copy=True,\n",
       "                                                               fill_value=None,\n",
       "                                                               keep_empty_features=False,\n",
       "                                                               missing_values=nan,\n",
       "                                                               strategy='mean'))),\n",
       "                 ('categorical_imputer',\n",
       "                  TransformerWrapper(exclude=None, include=[...\n",
       "                                                               fill_value=None,\n",
       "                                                               keep_empty_features=False,\n",
       "                                                               missing_values=nan,\n",
       "                                                               strategy='most_frequent'))),\n",
       "                 ('actual_estimator',\n",
       "                  LogisticRegression(C=7.863, class_weight={}, dual=False,\n",
       "                                     fit_intercept=True, intercept_scaling=1,\n",
       "                                     l1_ratio=None, max_iter=1000,\n",
       "                                     multi_class='auto', n_jobs=None,\n",
       "                                     penalty='l2', random_state=123,\n",
       "                                     solver='lbfgs', tol=0.0001, verbose=0,\n",
       "                                     warm_start=False))],\n",
       "          verbose=False),\n",
       " '../models/lr_pedra_classification.pkl')"
      ]
     },
     "execution_count": 34,
     "metadata": {},
     "output_type": "execute_result"
    }
   ],
   "source": [
    "# Salvar o modelo\n",
    "save_model(final_model, '../models/lr_pedra_classification')"
   ]
  }
 ],
 "metadata": {
  "kernelspec": {
   "display_name": "passos_magicos",
   "language": "python",
   "name": "python3"
  },
  "language_info": {
   "codemirror_mode": {
    "name": "ipython",
    "version": 3
   },
   "file_extension": ".py",
   "mimetype": "text/x-python",
   "name": "python",
   "nbconvert_exporter": "python",
   "pygments_lexer": "ipython3",
   "version": "3.10.16"
  }
 },
 "nbformat": 4,
 "nbformat_minor": 2
}
