{
 "cells": [
  {
   "cell_type": "code",
   "execution_count": 7,
   "metadata": {},
   "outputs": [],
   "source": [
    "from dotenv import load_dotenv\n",
    "import os\n",
    "from pathlib import Path\n",
    "import psycopg2\n",
    "\n",
    "import pandas as pd"
   ]
  },
  {
   "cell_type": "code",
   "execution_count": 2,
   "metadata": {},
   "outputs": [],
   "source": [
    "# Getting the database variables from the .env file\n",
    "load_dotenv()\n",
    "\n",
    "DB_KEY = os.getenv(\"DB_KEY\")\n",
    "DB_NAME = os.getenv(\"DB_NAME\")\n",
    "\n",
    "# Connecting to the database\n",
    "conn = psycopg2.connect(\n",
    "    dbname='PEDE_PASSOS',\n",
    "    user=DB_NAME,\n",
    "    host='localhost',\n",
    "    port='5432',\n",
    "    password=DB_KEY)"
   ]
  },
  {
   "cell_type": "code",
   "execution_count": 10,
   "metadata": {},
   "outputs": [
    {
     "name": "stderr",
     "output_type": "stream",
     "text": [
      "/var/folders/s8/p68_rlhj54bb1q_xvzdsc1m40000gn/T/ipykernel_74089/281504888.py:2: UserWarning: pandas only supports SQLAlchemy connectable (engine/connection) or database string URI or sqlite3 DBAPI2 connection. Other DBAPI2 objects are not tested. Please consider using SQLAlchemy.\n",
      "  data = pd.read_sql(\"SELECT * FROM pede_passos.students_grades\", con=conn)\n"
     ]
    }
   ],
   "source": [
    "# Reading the data from the database\n",
    "data = pd.read_sql(\"SELECT * FROM pede_passos.students_grades\", con=conn)\n",
    "\n",
    "db_data_path = Path('../data/interim/students_grades.csv')\n",
    "\n",
    "data.to_csv(db_data_path, index=False)"
   ]
  },
  {
   "cell_type": "code",
   "execution_count": null,
   "metadata": {},
   "outputs": [],
   "source": []
  }
 ],
 "metadata": {
  "kernelspec": {
   "display_name": "passos-magicos-project",
   "language": "python",
   "name": "python3"
  },
  "language_info": {
   "codemirror_mode": {
    "name": "ipython",
    "version": 3
   },
   "file_extension": ".py",
   "mimetype": "text/x-python",
   "name": "python",
   "nbconvert_exporter": "python",
   "pygments_lexer": "ipython3",
   "version": "3.10.16"
  }
 },
 "nbformat": 4,
 "nbformat_minor": 2
}
