{
 "cells": [
  {
   "cell_type": "markdown",
   "metadata": {},
   "source": [
    "## Libraries"
   ]
  },
  {
   "cell_type": "code",
   "execution_count": 2,
   "metadata": {},
   "outputs": [],
   "source": [
    "from pathlib import Path\n",
    "\n",
    "import pandas as pd\n",
    "\n",
    "from plotly.subplots import make_subplots\n",
    "import plotly.graph_objects as go\n",
    "import plotly.express as px\n",
    "import plotly.io as pio\n",
    "import seaborn as sns\n",
    "\n",
    "import numpy as np\n",
    "from matplotlib.colors import LinearSegmentedColormap\n",
    "\n",
    "from pycaret.classification import setup, compare_models, predict_model, tune_model, finalize_model, plot_model, evaluate_model, save_model, load_model"
   ]
  },
  {
   "cell_type": "code",
   "execution_count": 3,
   "metadata": {},
   "outputs": [],
   "source": [
    "categorical_palette = ['#003f5c', '#2f4b7c', '#665191', '#a05195', '#d45087', '#f95d6a', '#ff7c43', '#ffa600']\n",
    "\n",
    "# sequential_colors = ['#ffd000', '#ffa026', '#ff7144', '#f9455b', '#d71c6d', '#ab0478', '#77107b']\n",
    "# sequential_palette = LinearSegmentedColormap.from_list(\"custom_palette\", sequential_colors)\n",
    "sequential_palette = sns.color_palette('YlGnBu', as_cmap=True)\n",
    "\n",
    "pio.templates[pio.templates.default].layout.colorway = categorical_palette\n",
    "\n",
    "sns_palette = sns.color_palette(categorical_palette)"
   ]
  },
  {
   "cell_type": "markdown",
   "metadata": {},
   "source": [
    "## Get Data"
   ]
  },
  {
   "cell_type": "code",
   "execution_count": 4,
   "metadata": {},
   "outputs": [],
   "source": [
    "path = Path('../data/raw/PEDE_PASSOS_DATASET_FIAP.csv')"
   ]
  },
  {
   "cell_type": "code",
   "execution_count": 5,
   "metadata": {},
   "outputs": [],
   "source": [
    "data = pd.read_csv(path, sep=';')"
   ]
  },
  {
   "cell_type": "code",
   "execution_count": 6,
   "metadata": {},
   "outputs": [
    {
     "data": {
      "text/html": [
       "<div>\n",
       "<style scoped>\n",
       "    .dataframe tbody tr th:only-of-type {\n",
       "        vertical-align: middle;\n",
       "    }\n",
       "\n",
       "    .dataframe tbody tr th {\n",
       "        vertical-align: top;\n",
       "    }\n",
       "\n",
       "    .dataframe thead th {\n",
       "        text-align: right;\n",
       "    }\n",
       "</style>\n",
       "<table border=\"1\" class=\"dataframe\">\n",
       "  <thead>\n",
       "    <tr style=\"text-align: right;\">\n",
       "      <th></th>\n",
       "      <th>INSTITUICAO_ENSINO_ALUNO_2020</th>\n",
       "      <th>NOME</th>\n",
       "      <th>IDADE_ALUNO_2020</th>\n",
       "      <th>ANOS_PM_2020</th>\n",
       "      <th>FASE_TURMA_2020</th>\n",
       "      <th>PONTO_VIRADA_2020</th>\n",
       "      <th>INDE_2020</th>\n",
       "      <th>INDE_CONCEITO_2020</th>\n",
       "      <th>PEDRA_2020</th>\n",
       "      <th>DESTAQUE_IEG_2020</th>\n",
       "      <th>...</th>\n",
       "      <th>IPP_2022</th>\n",
       "      <th>REC_AVA_1_2022</th>\n",
       "      <th>REC_AVA_2_2022</th>\n",
       "      <th>REC_AVA_3_2022</th>\n",
       "      <th>REC_AVA_4_2022</th>\n",
       "      <th>INDICADO_BOLSA_2022</th>\n",
       "      <th>PONTO_VIRADA_2022</th>\n",
       "      <th>IPV_2022</th>\n",
       "      <th>IAN_2022</th>\n",
       "      <th>NIVEL_IDEAL_2022</th>\n",
       "    </tr>\n",
       "  </thead>\n",
       "  <tbody>\n",
       "    <tr>\n",
       "      <th>0</th>\n",
       "      <td>Escola Pública</td>\n",
       "      <td>ALUNO-1</td>\n",
       "      <td>11</td>\n",
       "      <td>2</td>\n",
       "      <td>2H</td>\n",
       "      <td>Não</td>\n",
       "      <td>7.883752</td>\n",
       "      <td>B</td>\n",
       "      <td>Ametista</td>\n",
       "      <td>Seu destaque em 2020: A sua boa entrega das li...</td>\n",
       "      <td>...</td>\n",
       "      <td>NaN</td>\n",
       "      <td>NaN</td>\n",
       "      <td>NaN</td>\n",
       "      <td>NaN</td>\n",
       "      <td>NaN</td>\n",
       "      <td>NaN</td>\n",
       "      <td>NaN</td>\n",
       "      <td>NaN</td>\n",
       "      <td>NaN</td>\n",
       "      <td>NaN</td>\n",
       "    </tr>\n",
       "    <tr>\n",
       "      <th>1</th>\n",
       "      <td>NaN</td>\n",
       "      <td>ALUNO-2</td>\n",
       "      <td>NaN</td>\n",
       "      <td>NaN</td>\n",
       "      <td>NaN</td>\n",
       "      <td>NaN</td>\n",
       "      <td>NaN</td>\n",
       "      <td>NaN</td>\n",
       "      <td>NaN</td>\n",
       "      <td>NaN</td>\n",
       "      <td>...</td>\n",
       "      <td>5.625000</td>\n",
       "      <td>Mantido na Fase + Bolsa</td>\n",
       "      <td>Mantido na Fase atual</td>\n",
       "      <td>NaN</td>\n",
       "      <td>NaN</td>\n",
       "      <td>Sim</td>\n",
       "      <td>Não</td>\n",
       "      <td>7.916665</td>\n",
       "      <td>5.0</td>\n",
       "      <td>Fase 2 (5º e 6º ano)</td>\n",
       "    </tr>\n",
       "    <tr>\n",
       "      <th>2</th>\n",
       "      <td>Escola Pública</td>\n",
       "      <td>ALUNO-3</td>\n",
       "      <td>12</td>\n",
       "      <td>2</td>\n",
       "      <td>3H</td>\n",
       "      <td>Não</td>\n",
       "      <td>7.856389666666666</td>\n",
       "      <td>B</td>\n",
       "      <td>Ametista</td>\n",
       "      <td>Seu destaque em 2020: A sua boa entrega das li...</td>\n",
       "      <td>...</td>\n",
       "      <td>NaN</td>\n",
       "      <td>NaN</td>\n",
       "      <td>NaN</td>\n",
       "      <td>NaN</td>\n",
       "      <td>NaN</td>\n",
       "      <td>NaN</td>\n",
       "      <td>NaN</td>\n",
       "      <td>NaN</td>\n",
       "      <td>NaN</td>\n",
       "      <td>NaN</td>\n",
       "    </tr>\n",
       "    <tr>\n",
       "      <th>3</th>\n",
       "      <td>Escola Pública</td>\n",
       "      <td>ALUNO-4</td>\n",
       "      <td>10</td>\n",
       "      <td>2</td>\n",
       "      <td>1D</td>\n",
       "      <td>Não</td>\n",
       "      <td>5.076252</td>\n",
       "      <td>D</td>\n",
       "      <td>Quartzo</td>\n",
       "      <td>Ponto a melhorar em 2021: Melhorar a sua entre...</td>\n",
       "      <td>...</td>\n",
       "      <td>6.250000</td>\n",
       "      <td>Promovido de Fase</td>\n",
       "      <td>Mantido na Fase atual</td>\n",
       "      <td>Promovido de Fase</td>\n",
       "      <td>NaN</td>\n",
       "      <td>Não</td>\n",
       "      <td>Não</td>\n",
       "      <td>8.055553</td>\n",
       "      <td>5.0</td>\n",
       "      <td>Fase 3 (7º e 8º ano)</td>\n",
       "    </tr>\n",
       "    <tr>\n",
       "      <th>4</th>\n",
       "      <td>Escola Pública</td>\n",
       "      <td>ALUNO-5</td>\n",
       "      <td>10</td>\n",
       "      <td>1</td>\n",
       "      <td>2M</td>\n",
       "      <td>Não</td>\n",
       "      <td>8.077085</td>\n",
       "      <td>B</td>\n",
       "      <td>Ametista</td>\n",
       "      <td>Seu destaque em 2020: A sua boa entrega das li...</td>\n",
       "      <td>...</td>\n",
       "      <td>6.458333</td>\n",
       "      <td>Mantido na Fase atual</td>\n",
       "      <td>Promovido de Fase</td>\n",
       "      <td>Mantido na Fase atual</td>\n",
       "      <td>NaN</td>\n",
       "      <td>Não</td>\n",
       "      <td>Não</td>\n",
       "      <td>7.833337</td>\n",
       "      <td>5.0</td>\n",
       "      <td>Fase 3 (7º e 8º ano)</td>\n",
       "    </tr>\n",
       "  </tbody>\n",
       "</table>\n",
       "<p>5 rows × 69 columns</p>\n",
       "</div>"
      ],
      "text/plain": [
       "  INSTITUICAO_ENSINO_ALUNO_2020     NOME IDADE_ALUNO_2020 ANOS_PM_2020  \\\n",
       "0                Escola Pública  ALUNO-1               11            2   \n",
       "1                           NaN  ALUNO-2              NaN          NaN   \n",
       "2                Escola Pública  ALUNO-3               12            2   \n",
       "3                Escola Pública  ALUNO-4               10            2   \n",
       "4                Escola Pública  ALUNO-5               10            1   \n",
       "\n",
       "  FASE_TURMA_2020 PONTO_VIRADA_2020          INDE_2020 INDE_CONCEITO_2020  \\\n",
       "0              2H               Não           7.883752                  B   \n",
       "1             NaN               NaN                NaN                NaN   \n",
       "2              3H               Não  7.856389666666666                  B   \n",
       "3              1D               Não           5.076252                  D   \n",
       "4              2M               Não           8.077085                  B   \n",
       "\n",
       "  PEDRA_2020                                  DESTAQUE_IEG_2020  ...  \\\n",
       "0   Ametista  Seu destaque em 2020: A sua boa entrega das li...  ...   \n",
       "1        NaN                                                NaN  ...   \n",
       "2   Ametista  Seu destaque em 2020: A sua boa entrega das li...  ...   \n",
       "3    Quartzo  Ponto a melhorar em 2021: Melhorar a sua entre...  ...   \n",
       "4   Ametista  Seu destaque em 2020: A sua boa entrega das li...  ...   \n",
       "\n",
       "   IPP_2022           REC_AVA_1_2022         REC_AVA_2_2022  \\\n",
       "0       NaN                      NaN                    NaN   \n",
       "1  5.625000  Mantido na Fase + Bolsa  Mantido na Fase atual   \n",
       "2       NaN                      NaN                    NaN   \n",
       "3  6.250000        Promovido de Fase  Mantido na Fase atual   \n",
       "4  6.458333    Mantido na Fase atual      Promovido de Fase   \n",
       "\n",
       "          REC_AVA_3_2022 REC_AVA_4_2022 INDICADO_BOLSA_2022 PONTO_VIRADA_2022  \\\n",
       "0                    NaN            NaN                 NaN               NaN   \n",
       "1                    NaN            NaN                 Sim               Não   \n",
       "2                    NaN            NaN                 NaN               NaN   \n",
       "3      Promovido de Fase            NaN                 Não               Não   \n",
       "4  Mantido na Fase atual            NaN                 Não               Não   \n",
       "\n",
       "   IPV_2022 IAN_2022      NIVEL_IDEAL_2022  \n",
       "0       NaN      NaN                   NaN  \n",
       "1  7.916665      5.0  Fase 2 (5º e 6º ano)  \n",
       "2       NaN      NaN                   NaN  \n",
       "3  8.055553      5.0  Fase 3 (7º e 8º ano)  \n",
       "4  7.833337      5.0  Fase 3 (7º e 8º ano)  \n",
       "\n",
       "[5 rows x 69 columns]"
      ]
     },
     "execution_count": 6,
     "metadata": {},
     "output_type": "execute_result"
    }
   ],
   "source": [
    "data.head()"
   ]
  },
  {
   "cell_type": "code",
   "execution_count": 7,
   "metadata": {},
   "outputs": [
    {
     "data": {
      "text/plain": [
       "Index(['INSTITUICAO_ENSINO_ALUNO_2020', 'NOME', 'IDADE_ALUNO_2020',\n",
       "       'ANOS_PM_2020', 'FASE_TURMA_2020', 'PONTO_VIRADA_2020', 'INDE_2020',\n",
       "       'INDE_CONCEITO_2020', 'PEDRA_2020', 'DESTAQUE_IEG_2020',\n",
       "       'DESTAQUE_IDA_2020', 'DESTAQUE_IPV_2020', 'IAA_2020', 'IEG_2020',\n",
       "       'IPS_2020', 'IDA_2020', 'IPP_2020', 'IPV_2020', 'IAN_2020', 'FASE_2021',\n",
       "       'TURMA_2021', 'INSTITUICAO_ENSINO_ALUNO_2021',\n",
       "       'SINALIZADOR_INGRESSANTE_2021', 'PEDRA_2021', 'INDE_2021', 'IAA_2021',\n",
       "       'IEG_2021', 'IPS_2021', 'IDA_2021', 'IPP_2021', 'REC_EQUIPE_1_2021',\n",
       "       'REC_EQUIPE_2_2021', 'REC_EQUIPE_3_2021', 'REC_EQUIPE_4_2021',\n",
       "       'PONTO_VIRADA_2021', 'IPV_2021', 'IAN_2021', 'NIVEL_IDEAL_2021',\n",
       "       'DEFASAGEM_2021', 'FASE_2022', 'TURMA_2022', 'ANO_INGRESSO_2022',\n",
       "       'BOLSISTA_2022', 'INDE_2022', 'CG_2022', 'CF_2022', 'CT_2022',\n",
       "       'PEDRA_2022', 'DESTAQUE_IEG_2022', 'DESTAQUE_IDA_2022',\n",
       "       'DESTAQUE_IPV_2022', 'IAA_2022', 'IEG_2022', 'IPS_2022', 'IDA_2022',\n",
       "       'NOTA_PORT_2022', 'NOTA_MAT_2022', 'NOTA_ING_2022', 'QTD_AVAL_2022',\n",
       "       'IPP_2022', 'REC_AVA_1_2022', 'REC_AVA_2_2022', 'REC_AVA_3_2022',\n",
       "       'REC_AVA_4_2022', 'INDICADO_BOLSA_2022', 'PONTO_VIRADA_2022',\n",
       "       'IPV_2022', 'IAN_2022', 'NIVEL_IDEAL_2022'],\n",
       "      dtype='object')"
      ]
     },
     "execution_count": 7,
     "metadata": {},
     "output_type": "execute_result"
    }
   ],
   "source": [
    "data.columns"
   ]
  },
  {
   "cell_type": "code",
   "execution_count": 8,
   "metadata": {},
   "outputs": [
    {
     "name": "stdout",
     "output_type": "stream",
     "text": [
      "<class 'pandas.core.frame.DataFrame'>\n",
      "RangeIndex: 1349 entries, 0 to 1348\n",
      "Data columns (total 69 columns):\n",
      " #   Column                         Non-Null Count  Dtype  \n",
      "---  ------                         --------------  -----  \n",
      " 0   INSTITUICAO_ENSINO_ALUNO_2020  728 non-null    object \n",
      " 1   NOME                           1349 non-null   object \n",
      " 2   IDADE_ALUNO_2020               728 non-null    object \n",
      " 3   ANOS_PM_2020                   728 non-null    object \n",
      " 4   FASE_TURMA_2020                728 non-null    object \n",
      " 5   PONTO_VIRADA_2020              702 non-null    object \n",
      " 6   INDE_2020                      728 non-null    object \n",
      " 7   INDE_CONCEITO_2020             728 non-null    object \n",
      " 8   PEDRA_2020                     728 non-null    object \n",
      " 9   DESTAQUE_IEG_2020              728 non-null    object \n",
      " 10  DESTAQUE_IDA_2020              728 non-null    object \n",
      " 11  DESTAQUE_IPV_2020              703 non-null    object \n",
      " 12  IAA_2020                       728 non-null    object \n",
      " 13  IEG_2020                       728 non-null    object \n",
      " 14  IPS_2020                       728 non-null    object \n",
      " 15  IDA_2020                       728 non-null    object \n",
      " 16  IPP_2020                       728 non-null    object \n",
      " 17  IPV_2020                       728 non-null    object \n",
      " 18  IAN_2020                       728 non-null    object \n",
      " 19  FASE_2021                      686 non-null    float64\n",
      " 20  TURMA_2021                     686 non-null    object \n",
      " 21  INSTITUICAO_ENSINO_ALUNO_2021  686 non-null    object \n",
      " 22  SINALIZADOR_INGRESSANTE_2021   686 non-null    object \n",
      " 23  PEDRA_2021                     686 non-null    object \n",
      " 24  INDE_2021                      686 non-null    object \n",
      " 25  IAA_2021                       686 non-null    float64\n",
      " 26  IEG_2021                       686 non-null    float64\n",
      " 27  IPS_2021                       686 non-null    float64\n",
      " 28  IDA_2021                       686 non-null    float64\n",
      " 29  IPP_2021                       686 non-null    float64\n",
      " 30  REC_EQUIPE_1_2021              686 non-null    object \n",
      " 31  REC_EQUIPE_2_2021              686 non-null    object \n",
      " 32  REC_EQUIPE_3_2021              686 non-null    object \n",
      " 33  REC_EQUIPE_4_2021              686 non-null    object \n",
      " 34  PONTO_VIRADA_2021              686 non-null    object \n",
      " 35  IPV_2021                       686 non-null    float64\n",
      " 36  IAN_2021                       686 non-null    float64\n",
      " 37  NIVEL_IDEAL_2021               686 non-null    object \n",
      " 38  DEFASAGEM_2021                 686 non-null    float64\n",
      " 39  FASE_2022                      862 non-null    float64\n",
      " 40  TURMA_2022                     862 non-null    object \n",
      " 41  ANO_INGRESSO_2022              862 non-null    float64\n",
      " 42  BOLSISTA_2022                  862 non-null    object \n",
      " 43  INDE_2022                      862 non-null    float64\n",
      " 44  CG_2022                        862 non-null    float64\n",
      " 45  CF_2022                        862 non-null    float64\n",
      " 46  CT_2022                        862 non-null    float64\n",
      " 47  PEDRA_2022                     862 non-null    object \n",
      " 48  DESTAQUE_IEG_2022              862 non-null    object \n",
      " 49  DESTAQUE_IDA_2022              862 non-null    object \n",
      " 50  DESTAQUE_IPV_2022              862 non-null    object \n",
      " 51  IAA_2022                       862 non-null    float64\n",
      " 52  IEG_2022                       862 non-null    float64\n",
      " 53  IPS_2022                       862 non-null    float64\n",
      " 54  IDA_2022                       862 non-null    float64\n",
      " 55  NOTA_PORT_2022                 860 non-null    float64\n",
      " 56  NOTA_MAT_2022                  860 non-null    float64\n",
      " 57  NOTA_ING_2022                  285 non-null    float64\n",
      " 58  QTD_AVAL_2022                  862 non-null    float64\n",
      " 59  IPP_2022                       862 non-null    float64\n",
      " 60  REC_AVA_1_2022                 862 non-null    object \n",
      " 61  REC_AVA_2_2022                 862 non-null    object \n",
      " 62  REC_AVA_3_2022                 626 non-null    object \n",
      " 63  REC_AVA_4_2022                 285 non-null    object \n",
      " 64  INDICADO_BOLSA_2022            862 non-null    object \n",
      " 65  PONTO_VIRADA_2022              862 non-null    object \n",
      " 66  IPV_2022                       862 non-null    float64\n",
      " 67  IAN_2022                       862 non-null    float64\n",
      " 68  NIVEL_IDEAL_2022               862 non-null    object \n",
      "dtypes: float64(26), object(43)\n",
      "memory usage: 727.3+ KB\n"
     ]
    }
   ],
   "source": [
    "data.info()"
   ]
  },
  {
   "cell_type": "code",
   "execution_count": 9,
   "metadata": {},
   "outputs": [],
   "source": [
    "long_data = pd.melt(data, id_vars=['NOME', 'IDADE_ALUNO_2020'], var_name='VARIAVEL', value_name='VALOR')"
   ]
  },
  {
   "cell_type": "code",
   "execution_count": 10,
   "metadata": {},
   "outputs": [
    {
     "data": {
      "text/html": [
       "<div>\n",
       "<style scoped>\n",
       "    .dataframe tbody tr th:only-of-type {\n",
       "        vertical-align: middle;\n",
       "    }\n",
       "\n",
       "    .dataframe tbody tr th {\n",
       "        vertical-align: top;\n",
       "    }\n",
       "\n",
       "    .dataframe thead th {\n",
       "        text-align: right;\n",
       "    }\n",
       "</style>\n",
       "<table border=\"1\" class=\"dataframe\">\n",
       "  <thead>\n",
       "    <tr style=\"text-align: right;\">\n",
       "      <th></th>\n",
       "      <th>NOME</th>\n",
       "      <th>IDADE_ALUNO_2020</th>\n",
       "      <th>VARIAVEL</th>\n",
       "      <th>VALOR</th>\n",
       "    </tr>\n",
       "  </thead>\n",
       "  <tbody>\n",
       "    <tr>\n",
       "      <th>0</th>\n",
       "      <td>ALUNO-1</td>\n",
       "      <td>11</td>\n",
       "      <td>INSTITUICAO_ENSINO_ALUNO_2020</td>\n",
       "      <td>Escola Pública</td>\n",
       "    </tr>\n",
       "    <tr>\n",
       "      <th>1</th>\n",
       "      <td>ALUNO-2</td>\n",
       "      <td>NaN</td>\n",
       "      <td>INSTITUICAO_ENSINO_ALUNO_2020</td>\n",
       "      <td>NaN</td>\n",
       "    </tr>\n",
       "    <tr>\n",
       "      <th>2</th>\n",
       "      <td>ALUNO-3</td>\n",
       "      <td>12</td>\n",
       "      <td>INSTITUICAO_ENSINO_ALUNO_2020</td>\n",
       "      <td>Escola Pública</td>\n",
       "    </tr>\n",
       "    <tr>\n",
       "      <th>3</th>\n",
       "      <td>ALUNO-4</td>\n",
       "      <td>10</td>\n",
       "      <td>INSTITUICAO_ENSINO_ALUNO_2020</td>\n",
       "      <td>Escola Pública</td>\n",
       "    </tr>\n",
       "    <tr>\n",
       "      <th>4</th>\n",
       "      <td>ALUNO-5</td>\n",
       "      <td>10</td>\n",
       "      <td>INSTITUICAO_ENSINO_ALUNO_2020</td>\n",
       "      <td>Escola Pública</td>\n",
       "    </tr>\n",
       "  </tbody>\n",
       "</table>\n",
       "</div>"
      ],
      "text/plain": [
       "      NOME IDADE_ALUNO_2020                       VARIAVEL           VALOR\n",
       "0  ALUNO-1               11  INSTITUICAO_ENSINO_ALUNO_2020  Escola Pública\n",
       "1  ALUNO-2              NaN  INSTITUICAO_ENSINO_ALUNO_2020             NaN\n",
       "2  ALUNO-3               12  INSTITUICAO_ENSINO_ALUNO_2020  Escola Pública\n",
       "3  ALUNO-4               10  INSTITUICAO_ENSINO_ALUNO_2020  Escola Pública\n",
       "4  ALUNO-5               10  INSTITUICAO_ENSINO_ALUNO_2020  Escola Pública"
      ]
     },
     "execution_count": 10,
     "metadata": {},
     "output_type": "execute_result"
    }
   ],
   "source": [
    "long_data.head()"
   ]
  },
  {
   "cell_type": "code",
   "execution_count": 11,
   "metadata": {},
   "outputs": [],
   "source": [
    "long_data[['VARIAVEL', 'ANO']] = long_data['VARIAVEL'].str.rsplit('_', n=1, expand=True)"
   ]
  },
  {
   "cell_type": "code",
   "execution_count": 12,
   "metadata": {},
   "outputs": [
    {
     "data": {
      "text/html": [
       "<div>\n",
       "<style scoped>\n",
       "    .dataframe tbody tr th:only-of-type {\n",
       "        vertical-align: middle;\n",
       "    }\n",
       "\n",
       "    .dataframe tbody tr th {\n",
       "        vertical-align: top;\n",
       "    }\n",
       "\n",
       "    .dataframe thead th {\n",
       "        text-align: right;\n",
       "    }\n",
       "</style>\n",
       "<table border=\"1\" class=\"dataframe\">\n",
       "  <thead>\n",
       "    <tr style=\"text-align: right;\">\n",
       "      <th></th>\n",
       "      <th>NOME</th>\n",
       "      <th>IDADE_ALUNO_2020</th>\n",
       "      <th>VARIAVEL</th>\n",
       "      <th>VALOR</th>\n",
       "      <th>ANO</th>\n",
       "    </tr>\n",
       "  </thead>\n",
       "  <tbody>\n",
       "    <tr>\n",
       "      <th>0</th>\n",
       "      <td>ALUNO-1</td>\n",
       "      <td>11</td>\n",
       "      <td>INSTITUICAO_ENSINO_ALUNO</td>\n",
       "      <td>Escola Pública</td>\n",
       "      <td>2020</td>\n",
       "    </tr>\n",
       "    <tr>\n",
       "      <th>1</th>\n",
       "      <td>ALUNO-2</td>\n",
       "      <td>NaN</td>\n",
       "      <td>INSTITUICAO_ENSINO_ALUNO</td>\n",
       "      <td>NaN</td>\n",
       "      <td>2020</td>\n",
       "    </tr>\n",
       "    <tr>\n",
       "      <th>2</th>\n",
       "      <td>ALUNO-3</td>\n",
       "      <td>12</td>\n",
       "      <td>INSTITUICAO_ENSINO_ALUNO</td>\n",
       "      <td>Escola Pública</td>\n",
       "      <td>2020</td>\n",
       "    </tr>\n",
       "    <tr>\n",
       "      <th>3</th>\n",
       "      <td>ALUNO-4</td>\n",
       "      <td>10</td>\n",
       "      <td>INSTITUICAO_ENSINO_ALUNO</td>\n",
       "      <td>Escola Pública</td>\n",
       "      <td>2020</td>\n",
       "    </tr>\n",
       "    <tr>\n",
       "      <th>4</th>\n",
       "      <td>ALUNO-5</td>\n",
       "      <td>10</td>\n",
       "      <td>INSTITUICAO_ENSINO_ALUNO</td>\n",
       "      <td>Escola Pública</td>\n",
       "      <td>2020</td>\n",
       "    </tr>\n",
       "  </tbody>\n",
       "</table>\n",
       "</div>"
      ],
      "text/plain": [
       "      NOME IDADE_ALUNO_2020                  VARIAVEL           VALOR   ANO\n",
       "0  ALUNO-1               11  INSTITUICAO_ENSINO_ALUNO  Escola Pública  2020\n",
       "1  ALUNO-2              NaN  INSTITUICAO_ENSINO_ALUNO             NaN  2020\n",
       "2  ALUNO-3               12  INSTITUICAO_ENSINO_ALUNO  Escola Pública  2020\n",
       "3  ALUNO-4               10  INSTITUICAO_ENSINO_ALUNO  Escola Pública  2020\n",
       "4  ALUNO-5               10  INSTITUICAO_ENSINO_ALUNO  Escola Pública  2020"
      ]
     },
     "execution_count": 12,
     "metadata": {},
     "output_type": "execute_result"
    }
   ],
   "source": [
    "long_data.head()"
   ]
  },
  {
   "cell_type": "code",
   "execution_count": 13,
   "metadata": {},
   "outputs": [
    {
     "data": {
      "text/plain": [
       "array(['INSTITUICAO_ENSINO_ALUNO', 'ANOS_PM', 'FASE_TURMA',\n",
       "       'PONTO_VIRADA', 'INDE', 'INDE_CONCEITO', 'PEDRA', 'DESTAQUE_IEG',\n",
       "       'DESTAQUE_IDA', 'DESTAQUE_IPV', 'IAA', 'IEG', 'IPS', 'IDA', 'IPP',\n",
       "       'IPV', 'IAN', 'FASE', 'TURMA', 'SINALIZADOR_INGRESSANTE',\n",
       "       'REC_EQUIPE_1', 'REC_EQUIPE_2', 'REC_EQUIPE_3', 'REC_EQUIPE_4',\n",
       "       'NIVEL_IDEAL', 'DEFASAGEM', 'ANO_INGRESSO', 'BOLSISTA', 'CG', 'CF',\n",
       "       'CT', 'NOTA_PORT', 'NOTA_MAT', 'NOTA_ING', 'QTD_AVAL', 'REC_AVA_1',\n",
       "       'REC_AVA_2', 'REC_AVA_3', 'REC_AVA_4', 'INDICADO_BOLSA'],\n",
       "      dtype=object)"
      ]
     },
     "execution_count": 13,
     "metadata": {},
     "output_type": "execute_result"
    }
   ],
   "source": [
    "long_data['VARIAVEL'].unique()"
   ]
  },
  {
   "cell_type": "code",
   "execution_count": 14,
   "metadata": {},
   "outputs": [],
   "source": [
    "fig = make_subplots(rows=1, cols=3, subplot_titles=('Pedra 2020', 'Pedra 2021', 'Pedra 2022'), shared_yaxes=True)"
   ]
  },
  {
   "cell_type": "code",
   "execution_count": 15,
   "metadata": {},
   "outputs": [],
   "source": [
    "pedras = ['Ametista', 'Quartzo', 'Topázio', 'Ágata']\n",
    "pedra = long_data[long_data['VALOR'].isin(pedras)]"
   ]
  },
  {
   "cell_type": "code",
   "execution_count": 16,
   "metadata": {},
   "outputs": [
    {
     "data": {
      "application/vnd.plotly.v1+json": {
       "config": {
        "plotlyServerURL": "https://plot.ly"
       },
       "data": [
        {
         "name": "Ano 2020",
         "text": [
          "336 (46.2%)",
          "171 (23.5%)",
          "128 (17.6%)",
          "92 (12.7%)"
         ],
         "textposition": "auto",
         "type": "bar",
         "x": [
          "Ametista",
          "Ágata",
          "Quartzo",
          "Topázio"
         ],
         "xaxis": "x",
         "y": [
          336,
          171,
          128,
          92
         ],
         "yaxis": "y"
        },
        {
         "name": "Ano 2021",
         "text": [
          "295 (43.1%)",
          "178 (26.0%)",
          "110 (16.1%)",
          "101 (14.8%)"
         ],
         "textposition": "auto",
         "type": "bar",
         "x": [
          "Ametista",
          "Ágata",
          "Quartzo",
          "Topázio"
         ],
         "xaxis": "x2",
         "y": [
          295,
          178,
          110,
          101
         ],
         "yaxis": "y2"
        },
        {
         "name": "Ano 2022",
         "text": [
          "348 (40.4%)",
          "250 (29.0%)",
          "134 (15.5%)",
          "130 (15.1%)"
         ],
         "textposition": "auto",
         "type": "bar",
         "x": [
          "Ametista",
          "Ágata",
          "Quartzo",
          "Topázio"
         ],
         "xaxis": "x3",
         "y": [
          348,
          250,
          134,
          130
         ],
         "yaxis": "y3"
        }
       ],
       "layout": {
        "annotations": [
         {
          "font": {
           "size": 16
          },
          "showarrow": false,
          "text": "Pedra 2020",
          "x": 0.14444444444444446,
          "xanchor": "center",
          "xref": "paper",
          "y": 1,
          "yanchor": "bottom",
          "yref": "paper"
         },
         {
          "font": {
           "size": 16
          },
          "showarrow": false,
          "text": "Pedra 2021",
          "x": 0.5,
          "xanchor": "center",
          "xref": "paper",
          "y": 1,
          "yanchor": "bottom",
          "yref": "paper"
         },
         {
          "font": {
           "size": 16
          },
          "showarrow": false,
          "text": "Pedra 2022",
          "x": 0.8555555555555556,
          "xanchor": "center",
          "xref": "paper",
          "y": 1,
          "yanchor": "bottom",
          "yref": "paper"
         }
        ],
        "height": 400,
        "showlegend": false,
        "template": {
         "data": {
          "bar": [
           {
            "error_x": {
             "color": "#2a3f5f"
            },
            "error_y": {
             "color": "#2a3f5f"
            },
            "marker": {
             "line": {
              "color": "#E5ECF6",
              "width": 0.5
             },
             "pattern": {
              "fillmode": "overlay",
              "size": 10,
              "solidity": 0.2
             }
            },
            "type": "bar"
           }
          ],
          "barpolar": [
           {
            "marker": {
             "line": {
              "color": "#E5ECF6",
              "width": 0.5
             },
             "pattern": {
              "fillmode": "overlay",
              "size": 10,
              "solidity": 0.2
             }
            },
            "type": "barpolar"
           }
          ],
          "carpet": [
           {
            "aaxis": {
             "endlinecolor": "#2a3f5f",
             "gridcolor": "white",
             "linecolor": "white",
             "minorgridcolor": "white",
             "startlinecolor": "#2a3f5f"
            },
            "baxis": {
             "endlinecolor": "#2a3f5f",
             "gridcolor": "white",
             "linecolor": "white",
             "minorgridcolor": "white",
             "startlinecolor": "#2a3f5f"
            },
            "type": "carpet"
           }
          ],
          "choropleth": [
           {
            "colorbar": {
             "outlinewidth": 0,
             "ticks": ""
            },
            "type": "choropleth"
           }
          ],
          "contour": [
           {
            "colorbar": {
             "outlinewidth": 0,
             "ticks": ""
            },
            "colorscale": [
             [
              0,
              "#0d0887"
             ],
             [
              0.1111111111111111,
              "#46039f"
             ],
             [
              0.2222222222222222,
              "#7201a8"
             ],
             [
              0.3333333333333333,
              "#9c179e"
             ],
             [
              0.4444444444444444,
              "#bd3786"
             ],
             [
              0.5555555555555556,
              "#d8576b"
             ],
             [
              0.6666666666666666,
              "#ed7953"
             ],
             [
              0.7777777777777778,
              "#fb9f3a"
             ],
             [
              0.8888888888888888,
              "#fdca26"
             ],
             [
              1,
              "#f0f921"
             ]
            ],
            "type": "contour"
           }
          ],
          "contourcarpet": [
           {
            "colorbar": {
             "outlinewidth": 0,
             "ticks": ""
            },
            "type": "contourcarpet"
           }
          ],
          "heatmap": [
           {
            "colorbar": {
             "outlinewidth": 0,
             "ticks": ""
            },
            "colorscale": [
             [
              0,
              "#0d0887"
             ],
             [
              0.1111111111111111,
              "#46039f"
             ],
             [
              0.2222222222222222,
              "#7201a8"
             ],
             [
              0.3333333333333333,
              "#9c179e"
             ],
             [
              0.4444444444444444,
              "#bd3786"
             ],
             [
              0.5555555555555556,
              "#d8576b"
             ],
             [
              0.6666666666666666,
              "#ed7953"
             ],
             [
              0.7777777777777778,
              "#fb9f3a"
             ],
             [
              0.8888888888888888,
              "#fdca26"
             ],
             [
              1,
              "#f0f921"
             ]
            ],
            "type": "heatmap"
           }
          ],
          "heatmapgl": [
           {
            "colorbar": {
             "outlinewidth": 0,
             "ticks": ""
            },
            "colorscale": [
             [
              0,
              "#0d0887"
             ],
             [
              0.1111111111111111,
              "#46039f"
             ],
             [
              0.2222222222222222,
              "#7201a8"
             ],
             [
              0.3333333333333333,
              "#9c179e"
             ],
             [
              0.4444444444444444,
              "#bd3786"
             ],
             [
              0.5555555555555556,
              "#d8576b"
             ],
             [
              0.6666666666666666,
              "#ed7953"
             ],
             [
              0.7777777777777778,
              "#fb9f3a"
             ],
             [
              0.8888888888888888,
              "#fdca26"
             ],
             [
              1,
              "#f0f921"
             ]
            ],
            "type": "heatmapgl"
           }
          ],
          "histogram": [
           {
            "marker": {
             "pattern": {
              "fillmode": "overlay",
              "size": 10,
              "solidity": 0.2
             }
            },
            "type": "histogram"
           }
          ],
          "histogram2d": [
           {
            "colorbar": {
             "outlinewidth": 0,
             "ticks": ""
            },
            "colorscale": [
             [
              0,
              "#0d0887"
             ],
             [
              0.1111111111111111,
              "#46039f"
             ],
             [
              0.2222222222222222,
              "#7201a8"
             ],
             [
              0.3333333333333333,
              "#9c179e"
             ],
             [
              0.4444444444444444,
              "#bd3786"
             ],
             [
              0.5555555555555556,
              "#d8576b"
             ],
             [
              0.6666666666666666,
              "#ed7953"
             ],
             [
              0.7777777777777778,
              "#fb9f3a"
             ],
             [
              0.8888888888888888,
              "#fdca26"
             ],
             [
              1,
              "#f0f921"
             ]
            ],
            "type": "histogram2d"
           }
          ],
          "histogram2dcontour": [
           {
            "colorbar": {
             "outlinewidth": 0,
             "ticks": ""
            },
            "colorscale": [
             [
              0,
              "#0d0887"
             ],
             [
              0.1111111111111111,
              "#46039f"
             ],
             [
              0.2222222222222222,
              "#7201a8"
             ],
             [
              0.3333333333333333,
              "#9c179e"
             ],
             [
              0.4444444444444444,
              "#bd3786"
             ],
             [
              0.5555555555555556,
              "#d8576b"
             ],
             [
              0.6666666666666666,
              "#ed7953"
             ],
             [
              0.7777777777777778,
              "#fb9f3a"
             ],
             [
              0.8888888888888888,
              "#fdca26"
             ],
             [
              1,
              "#f0f921"
             ]
            ],
            "type": "histogram2dcontour"
           }
          ],
          "mesh3d": [
           {
            "colorbar": {
             "outlinewidth": 0,
             "ticks": ""
            },
            "type": "mesh3d"
           }
          ],
          "parcoords": [
           {
            "line": {
             "colorbar": {
              "outlinewidth": 0,
              "ticks": ""
             }
            },
            "type": "parcoords"
           }
          ],
          "pie": [
           {
            "automargin": true,
            "type": "pie"
           }
          ],
          "scatter": [
           {
            "fillpattern": {
             "fillmode": "overlay",
             "size": 10,
             "solidity": 0.2
            },
            "type": "scatter"
           }
          ],
          "scatter3d": [
           {
            "line": {
             "colorbar": {
              "outlinewidth": 0,
              "ticks": ""
             }
            },
            "marker": {
             "colorbar": {
              "outlinewidth": 0,
              "ticks": ""
             }
            },
            "type": "scatter3d"
           }
          ],
          "scattercarpet": [
           {
            "marker": {
             "colorbar": {
              "outlinewidth": 0,
              "ticks": ""
             }
            },
            "type": "scattercarpet"
           }
          ],
          "scattergeo": [
           {
            "marker": {
             "colorbar": {
              "outlinewidth": 0,
              "ticks": ""
             }
            },
            "type": "scattergeo"
           }
          ],
          "scattergl": [
           {
            "marker": {
             "colorbar": {
              "outlinewidth": 0,
              "ticks": ""
             }
            },
            "type": "scattergl"
           }
          ],
          "scattermapbox": [
           {
            "marker": {
             "colorbar": {
              "outlinewidth": 0,
              "ticks": ""
             }
            },
            "type": "scattermapbox"
           }
          ],
          "scatterpolar": [
           {
            "marker": {
             "colorbar": {
              "outlinewidth": 0,
              "ticks": ""
             }
            },
            "type": "scatterpolar"
           }
          ],
          "scatterpolargl": [
           {
            "marker": {
             "colorbar": {
              "outlinewidth": 0,
              "ticks": ""
             }
            },
            "type": "scatterpolargl"
           }
          ],
          "scatterternary": [
           {
            "marker": {
             "colorbar": {
              "outlinewidth": 0,
              "ticks": ""
             }
            },
            "type": "scatterternary"
           }
          ],
          "surface": [
           {
            "colorbar": {
             "outlinewidth": 0,
             "ticks": ""
            },
            "colorscale": [
             [
              0,
              "#0d0887"
             ],
             [
              0.1111111111111111,
              "#46039f"
             ],
             [
              0.2222222222222222,
              "#7201a8"
             ],
             [
              0.3333333333333333,
              "#9c179e"
             ],
             [
              0.4444444444444444,
              "#bd3786"
             ],
             [
              0.5555555555555556,
              "#d8576b"
             ],
             [
              0.6666666666666666,
              "#ed7953"
             ],
             [
              0.7777777777777778,
              "#fb9f3a"
             ],
             [
              0.8888888888888888,
              "#fdca26"
             ],
             [
              1,
              "#f0f921"
             ]
            ],
            "type": "surface"
           }
          ],
          "table": [
           {
            "cells": {
             "fill": {
              "color": "#EBF0F8"
             },
             "line": {
              "color": "white"
             }
            },
            "header": {
             "fill": {
              "color": "#C8D4E3"
             },
             "line": {
              "color": "white"
             }
            },
            "type": "table"
           }
          ]
         },
         "layout": {
          "annotationdefaults": {
           "arrowcolor": "#2a3f5f",
           "arrowhead": 0,
           "arrowwidth": 1
          },
          "autotypenumbers": "strict",
          "coloraxis": {
           "colorbar": {
            "outlinewidth": 0,
            "ticks": ""
           }
          },
          "colorscale": {
           "diverging": [
            [
             0,
             "#8e0152"
            ],
            [
             0.1,
             "#c51b7d"
            ],
            [
             0.2,
             "#de77ae"
            ],
            [
             0.3,
             "#f1b6da"
            ],
            [
             0.4,
             "#fde0ef"
            ],
            [
             0.5,
             "#f7f7f7"
            ],
            [
             0.6,
             "#e6f5d0"
            ],
            [
             0.7,
             "#b8e186"
            ],
            [
             0.8,
             "#7fbc41"
            ],
            [
             0.9,
             "#4d9221"
            ],
            [
             1,
             "#276419"
            ]
           ],
           "sequential": [
            [
             0,
             "#0d0887"
            ],
            [
             0.1111111111111111,
             "#46039f"
            ],
            [
             0.2222222222222222,
             "#7201a8"
            ],
            [
             0.3333333333333333,
             "#9c179e"
            ],
            [
             0.4444444444444444,
             "#bd3786"
            ],
            [
             0.5555555555555556,
             "#d8576b"
            ],
            [
             0.6666666666666666,
             "#ed7953"
            ],
            [
             0.7777777777777778,
             "#fb9f3a"
            ],
            [
             0.8888888888888888,
             "#fdca26"
            ],
            [
             1,
             "#f0f921"
            ]
           ],
           "sequentialminus": [
            [
             0,
             "#0d0887"
            ],
            [
             0.1111111111111111,
             "#46039f"
            ],
            [
             0.2222222222222222,
             "#7201a8"
            ],
            [
             0.3333333333333333,
             "#9c179e"
            ],
            [
             0.4444444444444444,
             "#bd3786"
            ],
            [
             0.5555555555555556,
             "#d8576b"
            ],
            [
             0.6666666666666666,
             "#ed7953"
            ],
            [
             0.7777777777777778,
             "#fb9f3a"
            ],
            [
             0.8888888888888888,
             "#fdca26"
            ],
            [
             1,
             "#f0f921"
            ]
           ]
          },
          "colorway": [
           "#003f5c",
           "#2f4b7c",
           "#665191",
           "#a05195",
           "#d45087",
           "#f95d6a",
           "#ff7c43",
           "#ffa600"
          ],
          "font": {
           "color": "#2a3f5f"
          },
          "geo": {
           "bgcolor": "white",
           "lakecolor": "white",
           "landcolor": "#E5ECF6",
           "showlakes": true,
           "showland": true,
           "subunitcolor": "white"
          },
          "hoverlabel": {
           "align": "left"
          },
          "hovermode": "closest",
          "mapbox": {
           "style": "light"
          },
          "paper_bgcolor": "white",
          "plot_bgcolor": "#E5ECF6",
          "polar": {
           "angularaxis": {
            "gridcolor": "white",
            "linecolor": "white",
            "ticks": ""
           },
           "bgcolor": "#E5ECF6",
           "radialaxis": {
            "gridcolor": "white",
            "linecolor": "white",
            "ticks": ""
           }
          },
          "scene": {
           "xaxis": {
            "backgroundcolor": "#E5ECF6",
            "gridcolor": "white",
            "gridwidth": 2,
            "linecolor": "white",
            "showbackground": true,
            "ticks": "",
            "zerolinecolor": "white"
           },
           "yaxis": {
            "backgroundcolor": "#E5ECF6",
            "gridcolor": "white",
            "gridwidth": 2,
            "linecolor": "white",
            "showbackground": true,
            "ticks": "",
            "zerolinecolor": "white"
           },
           "zaxis": {
            "backgroundcolor": "#E5ECF6",
            "gridcolor": "white",
            "gridwidth": 2,
            "linecolor": "white",
            "showbackground": true,
            "ticks": "",
            "zerolinecolor": "white"
           }
          },
          "shapedefaults": {
           "line": {
            "color": "#2a3f5f"
           }
          },
          "ternary": {
           "aaxis": {
            "gridcolor": "white",
            "linecolor": "white",
            "ticks": ""
           },
           "baxis": {
            "gridcolor": "white",
            "linecolor": "white",
            "ticks": ""
           },
           "bgcolor": "#E5ECF6",
           "caxis": {
            "gridcolor": "white",
            "linecolor": "white",
            "ticks": ""
           }
          },
          "title": {
           "x": 0.05
          },
          "xaxis": {
           "automargin": true,
           "gridcolor": "white",
           "linecolor": "white",
           "ticks": "",
           "title": {
            "standoff": 15
           },
           "zerolinecolor": "white",
           "zerolinewidth": 2
          },
          "yaxis": {
           "automargin": true,
           "gridcolor": "white",
           "linecolor": "white",
           "ticks": "",
           "title": {
            "standoff": 15
           },
           "zerolinecolor": "white",
           "zerolinewidth": 2
          }
         }
        },
        "title": {
         "text": "Classificação de PEDRA por Ano"
        },
        "width": 1200,
        "xaxis": {
         "anchor": "y",
         "domain": [
          0,
          0.2888888888888889
         ]
        },
        "xaxis2": {
         "anchor": "y2",
         "domain": [
          0.35555555555555557,
          0.6444444444444445
         ]
        },
        "xaxis3": {
         "anchor": "y3",
         "domain": [
          0.7111111111111111,
          1
         ]
        },
        "yaxis": {
         "anchor": "x",
         "domain": [
          0,
          1
         ]
        },
        "yaxis2": {
         "anchor": "x2",
         "domain": [
          0,
          1
         ],
         "matches": "y",
         "showticklabels": false
        },
        "yaxis3": {
         "anchor": "x3",
         "domain": [
          0,
          1
         ],
         "matches": "y",
         "showticklabels": false
        }
       }
      }
     },
     "metadata": {},
     "output_type": "display_data"
    }
   ],
   "source": [
    "anos = ['2020', '2021', '2022']\n",
    "\n",
    "for i, ano in enumerate(anos, start=1):\n",
    "    data_ano = pedra[pedra['ANO']==ano]\n",
    "\n",
    "    if data_ano.empty:\n",
    "        print(f\"Nenhum dado válido encontrado para o ano {ano}\")\n",
    "        continue\n",
    "\n",
    "    valores = data_ano['VALOR'].value_counts()\n",
    "    total = valores.sum()\n",
    "\n",
    "    fig.add_trace(\n",
    "        go.Bar(x=valores.index, y=valores.values, name=f'Ano {ano}',\n",
    "               text=[f\"{v} ({v / total:.1%})\" for v in valores.values], textposition='auto'),\n",
    "               row=1, col=i\n",
    "    )\n",
    "\n",
    "fig.update_layout(\n",
    "    title=\"Classificação de PEDRA por Ano\",\n",
    "    height=400,\n",
    "    width=1200,\n",
    "    showlegend=False\n",
    ")\n",
    "\n",
    "fig.show()"
   ]
  },
  {
   "cell_type": "code",
   "execution_count": 17,
   "metadata": {},
   "outputs": [
    {
     "data": {
      "application/vnd.plotly.v1+json": {
       "config": {
        "plotlyServerURL": "https://plot.ly"
       },
       "data": [
        {
         "alignmentgroup": "True",
         "hovertemplate": "Valor=%{x}<br>Quantidade=%{y}<br>text=%{text}<extra></extra>",
         "legendgroup": "",
         "marker": {
          "color": "#003f5c",
          "pattern": {
           "shape": ""
          }
         },
         "name": "",
         "offsetgroup": "",
         "orientation": "v",
         "showlegend": false,
         "text": [
          "336 (46.2%)",
          "171 (23.5%)",
          "128 (17.6%)",
          "92 (12.7%)"
         ],
         "textposition": "outside",
         "type": "bar",
         "x": [
          "Ametista",
          "Ágata",
          "Quartzo",
          "Topázio"
         ],
         "xaxis": "x",
         "y": [
          336,
          171,
          128,
          92
         ],
         "yaxis": "y"
        }
       ],
       "layout": {
        "barmode": "relative",
        "height": 400,
        "legend": {
         "tracegroupgap": 0
        },
        "template": {
         "data": {
          "bar": [
           {
            "error_x": {
             "color": "#2a3f5f"
            },
            "error_y": {
             "color": "#2a3f5f"
            },
            "marker": {
             "line": {
              "color": "#E5ECF6",
              "width": 0.5
             },
             "pattern": {
              "fillmode": "overlay",
              "size": 10,
              "solidity": 0.2
             }
            },
            "type": "bar"
           }
          ],
          "barpolar": [
           {
            "marker": {
             "line": {
              "color": "#E5ECF6",
              "width": 0.5
             },
             "pattern": {
              "fillmode": "overlay",
              "size": 10,
              "solidity": 0.2
             }
            },
            "type": "barpolar"
           }
          ],
          "carpet": [
           {
            "aaxis": {
             "endlinecolor": "#2a3f5f",
             "gridcolor": "white",
             "linecolor": "white",
             "minorgridcolor": "white",
             "startlinecolor": "#2a3f5f"
            },
            "baxis": {
             "endlinecolor": "#2a3f5f",
             "gridcolor": "white",
             "linecolor": "white",
             "minorgridcolor": "white",
             "startlinecolor": "#2a3f5f"
            },
            "type": "carpet"
           }
          ],
          "choropleth": [
           {
            "colorbar": {
             "outlinewidth": 0,
             "ticks": ""
            },
            "type": "choropleth"
           }
          ],
          "contour": [
           {
            "colorbar": {
             "outlinewidth": 0,
             "ticks": ""
            },
            "colorscale": [
             [
              0,
              "#0d0887"
             ],
             [
              0.1111111111111111,
              "#46039f"
             ],
             [
              0.2222222222222222,
              "#7201a8"
             ],
             [
              0.3333333333333333,
              "#9c179e"
             ],
             [
              0.4444444444444444,
              "#bd3786"
             ],
             [
              0.5555555555555556,
              "#d8576b"
             ],
             [
              0.6666666666666666,
              "#ed7953"
             ],
             [
              0.7777777777777778,
              "#fb9f3a"
             ],
             [
              0.8888888888888888,
              "#fdca26"
             ],
             [
              1,
              "#f0f921"
             ]
            ],
            "type": "contour"
           }
          ],
          "contourcarpet": [
           {
            "colorbar": {
             "outlinewidth": 0,
             "ticks": ""
            },
            "type": "contourcarpet"
           }
          ],
          "heatmap": [
           {
            "colorbar": {
             "outlinewidth": 0,
             "ticks": ""
            },
            "colorscale": [
             [
              0,
              "#0d0887"
             ],
             [
              0.1111111111111111,
              "#46039f"
             ],
             [
              0.2222222222222222,
              "#7201a8"
             ],
             [
              0.3333333333333333,
              "#9c179e"
             ],
             [
              0.4444444444444444,
              "#bd3786"
             ],
             [
              0.5555555555555556,
              "#d8576b"
             ],
             [
              0.6666666666666666,
              "#ed7953"
             ],
             [
              0.7777777777777778,
              "#fb9f3a"
             ],
             [
              0.8888888888888888,
              "#fdca26"
             ],
             [
              1,
              "#f0f921"
             ]
            ],
            "type": "heatmap"
           }
          ],
          "heatmapgl": [
           {
            "colorbar": {
             "outlinewidth": 0,
             "ticks": ""
            },
            "colorscale": [
             [
              0,
              "#0d0887"
             ],
             [
              0.1111111111111111,
              "#46039f"
             ],
             [
              0.2222222222222222,
              "#7201a8"
             ],
             [
              0.3333333333333333,
              "#9c179e"
             ],
             [
              0.4444444444444444,
              "#bd3786"
             ],
             [
              0.5555555555555556,
              "#d8576b"
             ],
             [
              0.6666666666666666,
              "#ed7953"
             ],
             [
              0.7777777777777778,
              "#fb9f3a"
             ],
             [
              0.8888888888888888,
              "#fdca26"
             ],
             [
              1,
              "#f0f921"
             ]
            ],
            "type": "heatmapgl"
           }
          ],
          "histogram": [
           {
            "marker": {
             "pattern": {
              "fillmode": "overlay",
              "size": 10,
              "solidity": 0.2
             }
            },
            "type": "histogram"
           }
          ],
          "histogram2d": [
           {
            "colorbar": {
             "outlinewidth": 0,
             "ticks": ""
            },
            "colorscale": [
             [
              0,
              "#0d0887"
             ],
             [
              0.1111111111111111,
              "#46039f"
             ],
             [
              0.2222222222222222,
              "#7201a8"
             ],
             [
              0.3333333333333333,
              "#9c179e"
             ],
             [
              0.4444444444444444,
              "#bd3786"
             ],
             [
              0.5555555555555556,
              "#d8576b"
             ],
             [
              0.6666666666666666,
              "#ed7953"
             ],
             [
              0.7777777777777778,
              "#fb9f3a"
             ],
             [
              0.8888888888888888,
              "#fdca26"
             ],
             [
              1,
              "#f0f921"
             ]
            ],
            "type": "histogram2d"
           }
          ],
          "histogram2dcontour": [
           {
            "colorbar": {
             "outlinewidth": 0,
             "ticks": ""
            },
            "colorscale": [
             [
              0,
              "#0d0887"
             ],
             [
              0.1111111111111111,
              "#46039f"
             ],
             [
              0.2222222222222222,
              "#7201a8"
             ],
             [
              0.3333333333333333,
              "#9c179e"
             ],
             [
              0.4444444444444444,
              "#bd3786"
             ],
             [
              0.5555555555555556,
              "#d8576b"
             ],
             [
              0.6666666666666666,
              "#ed7953"
             ],
             [
              0.7777777777777778,
              "#fb9f3a"
             ],
             [
              0.8888888888888888,
              "#fdca26"
             ],
             [
              1,
              "#f0f921"
             ]
            ],
            "type": "histogram2dcontour"
           }
          ],
          "mesh3d": [
           {
            "colorbar": {
             "outlinewidth": 0,
             "ticks": ""
            },
            "type": "mesh3d"
           }
          ],
          "parcoords": [
           {
            "line": {
             "colorbar": {
              "outlinewidth": 0,
              "ticks": ""
             }
            },
            "type": "parcoords"
           }
          ],
          "pie": [
           {
            "automargin": true,
            "type": "pie"
           }
          ],
          "scatter": [
           {
            "fillpattern": {
             "fillmode": "overlay",
             "size": 10,
             "solidity": 0.2
            },
            "type": "scatter"
           }
          ],
          "scatter3d": [
           {
            "line": {
             "colorbar": {
              "outlinewidth": 0,
              "ticks": ""
             }
            },
            "marker": {
             "colorbar": {
              "outlinewidth": 0,
              "ticks": ""
             }
            },
            "type": "scatter3d"
           }
          ],
          "scattercarpet": [
           {
            "marker": {
             "colorbar": {
              "outlinewidth": 0,
              "ticks": ""
             }
            },
            "type": "scattercarpet"
           }
          ],
          "scattergeo": [
           {
            "marker": {
             "colorbar": {
              "outlinewidth": 0,
              "ticks": ""
             }
            },
            "type": "scattergeo"
           }
          ],
          "scattergl": [
           {
            "marker": {
             "colorbar": {
              "outlinewidth": 0,
              "ticks": ""
             }
            },
            "type": "scattergl"
           }
          ],
          "scattermapbox": [
           {
            "marker": {
             "colorbar": {
              "outlinewidth": 0,
              "ticks": ""
             }
            },
            "type": "scattermapbox"
           }
          ],
          "scatterpolar": [
           {
            "marker": {
             "colorbar": {
              "outlinewidth": 0,
              "ticks": ""
             }
            },
            "type": "scatterpolar"
           }
          ],
          "scatterpolargl": [
           {
            "marker": {
             "colorbar": {
              "outlinewidth": 0,
              "ticks": ""
             }
            },
            "type": "scatterpolargl"
           }
          ],
          "scatterternary": [
           {
            "marker": {
             "colorbar": {
              "outlinewidth": 0,
              "ticks": ""
             }
            },
            "type": "scatterternary"
           }
          ],
          "surface": [
           {
            "colorbar": {
             "outlinewidth": 0,
             "ticks": ""
            },
            "colorscale": [
             [
              0,
              "#0d0887"
             ],
             [
              0.1111111111111111,
              "#46039f"
             ],
             [
              0.2222222222222222,
              "#7201a8"
             ],
             [
              0.3333333333333333,
              "#9c179e"
             ],
             [
              0.4444444444444444,
              "#bd3786"
             ],
             [
              0.5555555555555556,
              "#d8576b"
             ],
             [
              0.6666666666666666,
              "#ed7953"
             ],
             [
              0.7777777777777778,
              "#fb9f3a"
             ],
             [
              0.8888888888888888,
              "#fdca26"
             ],
             [
              1,
              "#f0f921"
             ]
            ],
            "type": "surface"
           }
          ],
          "table": [
           {
            "cells": {
             "fill": {
              "color": "#EBF0F8"
             },
             "line": {
              "color": "white"
             }
            },
            "header": {
             "fill": {
              "color": "#C8D4E3"
             },
             "line": {
              "color": "white"
             }
            },
            "type": "table"
           }
          ]
         },
         "layout": {
          "annotationdefaults": {
           "arrowcolor": "#2a3f5f",
           "arrowhead": 0,
           "arrowwidth": 1
          },
          "autotypenumbers": "strict",
          "coloraxis": {
           "colorbar": {
            "outlinewidth": 0,
            "ticks": ""
           }
          },
          "colorscale": {
           "diverging": [
            [
             0,
             "#8e0152"
            ],
            [
             0.1,
             "#c51b7d"
            ],
            [
             0.2,
             "#de77ae"
            ],
            [
             0.3,
             "#f1b6da"
            ],
            [
             0.4,
             "#fde0ef"
            ],
            [
             0.5,
             "#f7f7f7"
            ],
            [
             0.6,
             "#e6f5d0"
            ],
            [
             0.7,
             "#b8e186"
            ],
            [
             0.8,
             "#7fbc41"
            ],
            [
             0.9,
             "#4d9221"
            ],
            [
             1,
             "#276419"
            ]
           ],
           "sequential": [
            [
             0,
             "#0d0887"
            ],
            [
             0.1111111111111111,
             "#46039f"
            ],
            [
             0.2222222222222222,
             "#7201a8"
            ],
            [
             0.3333333333333333,
             "#9c179e"
            ],
            [
             0.4444444444444444,
             "#bd3786"
            ],
            [
             0.5555555555555556,
             "#d8576b"
            ],
            [
             0.6666666666666666,
             "#ed7953"
            ],
            [
             0.7777777777777778,
             "#fb9f3a"
            ],
            [
             0.8888888888888888,
             "#fdca26"
            ],
            [
             1,
             "#f0f921"
            ]
           ],
           "sequentialminus": [
            [
             0,
             "#0d0887"
            ],
            [
             0.1111111111111111,
             "#46039f"
            ],
            [
             0.2222222222222222,
             "#7201a8"
            ],
            [
             0.3333333333333333,
             "#9c179e"
            ],
            [
             0.4444444444444444,
             "#bd3786"
            ],
            [
             0.5555555555555556,
             "#d8576b"
            ],
            [
             0.6666666666666666,
             "#ed7953"
            ],
            [
             0.7777777777777778,
             "#fb9f3a"
            ],
            [
             0.8888888888888888,
             "#fdca26"
            ],
            [
             1,
             "#f0f921"
            ]
           ]
          },
          "colorway": [
           "#003f5c",
           "#2f4b7c",
           "#665191",
           "#a05195",
           "#d45087",
           "#f95d6a",
           "#ff7c43",
           "#ffa600"
          ],
          "font": {
           "color": "#2a3f5f"
          },
          "geo": {
           "bgcolor": "white",
           "lakecolor": "white",
           "landcolor": "#E5ECF6",
           "showlakes": true,
           "showland": true,
           "subunitcolor": "white"
          },
          "hoverlabel": {
           "align": "left"
          },
          "hovermode": "closest",
          "mapbox": {
           "style": "light"
          },
          "paper_bgcolor": "white",
          "plot_bgcolor": "#E5ECF6",
          "polar": {
           "angularaxis": {
            "gridcolor": "white",
            "linecolor": "white",
            "ticks": ""
           },
           "bgcolor": "#E5ECF6",
           "radialaxis": {
            "gridcolor": "white",
            "linecolor": "white",
            "ticks": ""
           }
          },
          "scene": {
           "xaxis": {
            "backgroundcolor": "#E5ECF6",
            "gridcolor": "white",
            "gridwidth": 2,
            "linecolor": "white",
            "showbackground": true,
            "ticks": "",
            "zerolinecolor": "white"
           },
           "yaxis": {
            "backgroundcolor": "#E5ECF6",
            "gridcolor": "white",
            "gridwidth": 2,
            "linecolor": "white",
            "showbackground": true,
            "ticks": "",
            "zerolinecolor": "white"
           },
           "zaxis": {
            "backgroundcolor": "#E5ECF6",
            "gridcolor": "white",
            "gridwidth": 2,
            "linecolor": "white",
            "showbackground": true,
            "ticks": "",
            "zerolinecolor": "white"
           }
          },
          "shapedefaults": {
           "line": {
            "color": "#2a3f5f"
           }
          },
          "ternary": {
           "aaxis": {
            "gridcolor": "white",
            "linecolor": "white",
            "ticks": ""
           },
           "baxis": {
            "gridcolor": "white",
            "linecolor": "white",
            "ticks": ""
           },
           "bgcolor": "#E5ECF6",
           "caxis": {
            "gridcolor": "white",
            "linecolor": "white",
            "ticks": ""
           }
          },
          "title": {
           "x": 0.05
          },
          "xaxis": {
           "automargin": true,
           "gridcolor": "white",
           "linecolor": "white",
           "ticks": "",
           "title": {
            "standoff": 15
           },
           "zerolinecolor": "white",
           "zerolinewidth": 2
          },
          "yaxis": {
           "automargin": true,
           "gridcolor": "white",
           "linecolor": "white",
           "ticks": "",
           "title": {
            "standoff": 15
           },
           "zerolinecolor": "white",
           "zerolinewidth": 2
          }
         }
        },
        "title": {
         "text": "Classificação de PEDRA - Ano 2020"
        },
        "width": 600,
        "xaxis": {
         "anchor": "y",
         "domain": [
          0,
          1
         ],
         "title": {
          "text": "Valor"
         }
        },
        "yaxis": {
         "anchor": "x",
         "domain": [
          0,
          1
         ],
         "range": [
          0,
          400
         ],
         "title": {
          "text": "Quantidade"
         }
        }
       }
      }
     },
     "metadata": {},
     "output_type": "display_data"
    },
    {
     "data": {
      "application/vnd.plotly.v1+json": {
       "config": {
        "plotlyServerURL": "https://plot.ly"
       },
       "data": [
        {
         "alignmentgroup": "True",
         "hovertemplate": "Valor=%{x}<br>Quantidade=%{y}<br>text=%{text}<extra></extra>",
         "legendgroup": "",
         "marker": {
          "color": "#003f5c",
          "pattern": {
           "shape": ""
          }
         },
         "name": "",
         "offsetgroup": "",
         "orientation": "v",
         "showlegend": false,
         "text": [
          "295 (43.1%)",
          "178 (26.0%)",
          "110 (16.1%)",
          "101 (14.8%)"
         ],
         "textposition": "outside",
         "type": "bar",
         "x": [
          "Ametista",
          "Ágata",
          "Quartzo",
          "Topázio"
         ],
         "xaxis": "x",
         "y": [
          295,
          178,
          110,
          101
         ],
         "yaxis": "y"
        }
       ],
       "layout": {
        "barmode": "relative",
        "height": 400,
        "legend": {
         "tracegroupgap": 0
        },
        "template": {
         "data": {
          "bar": [
           {
            "error_x": {
             "color": "#2a3f5f"
            },
            "error_y": {
             "color": "#2a3f5f"
            },
            "marker": {
             "line": {
              "color": "#E5ECF6",
              "width": 0.5
             },
             "pattern": {
              "fillmode": "overlay",
              "size": 10,
              "solidity": 0.2
             }
            },
            "type": "bar"
           }
          ],
          "barpolar": [
           {
            "marker": {
             "line": {
              "color": "#E5ECF6",
              "width": 0.5
             },
             "pattern": {
              "fillmode": "overlay",
              "size": 10,
              "solidity": 0.2
             }
            },
            "type": "barpolar"
           }
          ],
          "carpet": [
           {
            "aaxis": {
             "endlinecolor": "#2a3f5f",
             "gridcolor": "white",
             "linecolor": "white",
             "minorgridcolor": "white",
             "startlinecolor": "#2a3f5f"
            },
            "baxis": {
             "endlinecolor": "#2a3f5f",
             "gridcolor": "white",
             "linecolor": "white",
             "minorgridcolor": "white",
             "startlinecolor": "#2a3f5f"
            },
            "type": "carpet"
           }
          ],
          "choropleth": [
           {
            "colorbar": {
             "outlinewidth": 0,
             "ticks": ""
            },
            "type": "choropleth"
           }
          ],
          "contour": [
           {
            "colorbar": {
             "outlinewidth": 0,
             "ticks": ""
            },
            "colorscale": [
             [
              0,
              "#0d0887"
             ],
             [
              0.1111111111111111,
              "#46039f"
             ],
             [
              0.2222222222222222,
              "#7201a8"
             ],
             [
              0.3333333333333333,
              "#9c179e"
             ],
             [
              0.4444444444444444,
              "#bd3786"
             ],
             [
              0.5555555555555556,
              "#d8576b"
             ],
             [
              0.6666666666666666,
              "#ed7953"
             ],
             [
              0.7777777777777778,
              "#fb9f3a"
             ],
             [
              0.8888888888888888,
              "#fdca26"
             ],
             [
              1,
              "#f0f921"
             ]
            ],
            "type": "contour"
           }
          ],
          "contourcarpet": [
           {
            "colorbar": {
             "outlinewidth": 0,
             "ticks": ""
            },
            "type": "contourcarpet"
           }
          ],
          "heatmap": [
           {
            "colorbar": {
             "outlinewidth": 0,
             "ticks": ""
            },
            "colorscale": [
             [
              0,
              "#0d0887"
             ],
             [
              0.1111111111111111,
              "#46039f"
             ],
             [
              0.2222222222222222,
              "#7201a8"
             ],
             [
              0.3333333333333333,
              "#9c179e"
             ],
             [
              0.4444444444444444,
              "#bd3786"
             ],
             [
              0.5555555555555556,
              "#d8576b"
             ],
             [
              0.6666666666666666,
              "#ed7953"
             ],
             [
              0.7777777777777778,
              "#fb9f3a"
             ],
             [
              0.8888888888888888,
              "#fdca26"
             ],
             [
              1,
              "#f0f921"
             ]
            ],
            "type": "heatmap"
           }
          ],
          "heatmapgl": [
           {
            "colorbar": {
             "outlinewidth": 0,
             "ticks": ""
            },
            "colorscale": [
             [
              0,
              "#0d0887"
             ],
             [
              0.1111111111111111,
              "#46039f"
             ],
             [
              0.2222222222222222,
              "#7201a8"
             ],
             [
              0.3333333333333333,
              "#9c179e"
             ],
             [
              0.4444444444444444,
              "#bd3786"
             ],
             [
              0.5555555555555556,
              "#d8576b"
             ],
             [
              0.6666666666666666,
              "#ed7953"
             ],
             [
              0.7777777777777778,
              "#fb9f3a"
             ],
             [
              0.8888888888888888,
              "#fdca26"
             ],
             [
              1,
              "#f0f921"
             ]
            ],
            "type": "heatmapgl"
           }
          ],
          "histogram": [
           {
            "marker": {
             "pattern": {
              "fillmode": "overlay",
              "size": 10,
              "solidity": 0.2
             }
            },
            "type": "histogram"
           }
          ],
          "histogram2d": [
           {
            "colorbar": {
             "outlinewidth": 0,
             "ticks": ""
            },
            "colorscale": [
             [
              0,
              "#0d0887"
             ],
             [
              0.1111111111111111,
              "#46039f"
             ],
             [
              0.2222222222222222,
              "#7201a8"
             ],
             [
              0.3333333333333333,
              "#9c179e"
             ],
             [
              0.4444444444444444,
              "#bd3786"
             ],
             [
              0.5555555555555556,
              "#d8576b"
             ],
             [
              0.6666666666666666,
              "#ed7953"
             ],
             [
              0.7777777777777778,
              "#fb9f3a"
             ],
             [
              0.8888888888888888,
              "#fdca26"
             ],
             [
              1,
              "#f0f921"
             ]
            ],
            "type": "histogram2d"
           }
          ],
          "histogram2dcontour": [
           {
            "colorbar": {
             "outlinewidth": 0,
             "ticks": ""
            },
            "colorscale": [
             [
              0,
              "#0d0887"
             ],
             [
              0.1111111111111111,
              "#46039f"
             ],
             [
              0.2222222222222222,
              "#7201a8"
             ],
             [
              0.3333333333333333,
              "#9c179e"
             ],
             [
              0.4444444444444444,
              "#bd3786"
             ],
             [
              0.5555555555555556,
              "#d8576b"
             ],
             [
              0.6666666666666666,
              "#ed7953"
             ],
             [
              0.7777777777777778,
              "#fb9f3a"
             ],
             [
              0.8888888888888888,
              "#fdca26"
             ],
             [
              1,
              "#f0f921"
             ]
            ],
            "type": "histogram2dcontour"
           }
          ],
          "mesh3d": [
           {
            "colorbar": {
             "outlinewidth": 0,
             "ticks": ""
            },
            "type": "mesh3d"
           }
          ],
          "parcoords": [
           {
            "line": {
             "colorbar": {
              "outlinewidth": 0,
              "ticks": ""
             }
            },
            "type": "parcoords"
           }
          ],
          "pie": [
           {
            "automargin": true,
            "type": "pie"
           }
          ],
          "scatter": [
           {
            "fillpattern": {
             "fillmode": "overlay",
             "size": 10,
             "solidity": 0.2
            },
            "type": "scatter"
           }
          ],
          "scatter3d": [
           {
            "line": {
             "colorbar": {
              "outlinewidth": 0,
              "ticks": ""
             }
            },
            "marker": {
             "colorbar": {
              "outlinewidth": 0,
              "ticks": ""
             }
            },
            "type": "scatter3d"
           }
          ],
          "scattercarpet": [
           {
            "marker": {
             "colorbar": {
              "outlinewidth": 0,
              "ticks": ""
             }
            },
            "type": "scattercarpet"
           }
          ],
          "scattergeo": [
           {
            "marker": {
             "colorbar": {
              "outlinewidth": 0,
              "ticks": ""
             }
            },
            "type": "scattergeo"
           }
          ],
          "scattergl": [
           {
            "marker": {
             "colorbar": {
              "outlinewidth": 0,
              "ticks": ""
             }
            },
            "type": "scattergl"
           }
          ],
          "scattermapbox": [
           {
            "marker": {
             "colorbar": {
              "outlinewidth": 0,
              "ticks": ""
             }
            },
            "type": "scattermapbox"
           }
          ],
          "scatterpolar": [
           {
            "marker": {
             "colorbar": {
              "outlinewidth": 0,
              "ticks": ""
             }
            },
            "type": "scatterpolar"
           }
          ],
          "scatterpolargl": [
           {
            "marker": {
             "colorbar": {
              "outlinewidth": 0,
              "ticks": ""
             }
            },
            "type": "scatterpolargl"
           }
          ],
          "scatterternary": [
           {
            "marker": {
             "colorbar": {
              "outlinewidth": 0,
              "ticks": ""
             }
            },
            "type": "scatterternary"
           }
          ],
          "surface": [
           {
            "colorbar": {
             "outlinewidth": 0,
             "ticks": ""
            },
            "colorscale": [
             [
              0,
              "#0d0887"
             ],
             [
              0.1111111111111111,
              "#46039f"
             ],
             [
              0.2222222222222222,
              "#7201a8"
             ],
             [
              0.3333333333333333,
              "#9c179e"
             ],
             [
              0.4444444444444444,
              "#bd3786"
             ],
             [
              0.5555555555555556,
              "#d8576b"
             ],
             [
              0.6666666666666666,
              "#ed7953"
             ],
             [
              0.7777777777777778,
              "#fb9f3a"
             ],
             [
              0.8888888888888888,
              "#fdca26"
             ],
             [
              1,
              "#f0f921"
             ]
            ],
            "type": "surface"
           }
          ],
          "table": [
           {
            "cells": {
             "fill": {
              "color": "#EBF0F8"
             },
             "line": {
              "color": "white"
             }
            },
            "header": {
             "fill": {
              "color": "#C8D4E3"
             },
             "line": {
              "color": "white"
             }
            },
            "type": "table"
           }
          ]
         },
         "layout": {
          "annotationdefaults": {
           "arrowcolor": "#2a3f5f",
           "arrowhead": 0,
           "arrowwidth": 1
          },
          "autotypenumbers": "strict",
          "coloraxis": {
           "colorbar": {
            "outlinewidth": 0,
            "ticks": ""
           }
          },
          "colorscale": {
           "diverging": [
            [
             0,
             "#8e0152"
            ],
            [
             0.1,
             "#c51b7d"
            ],
            [
             0.2,
             "#de77ae"
            ],
            [
             0.3,
             "#f1b6da"
            ],
            [
             0.4,
             "#fde0ef"
            ],
            [
             0.5,
             "#f7f7f7"
            ],
            [
             0.6,
             "#e6f5d0"
            ],
            [
             0.7,
             "#b8e186"
            ],
            [
             0.8,
             "#7fbc41"
            ],
            [
             0.9,
             "#4d9221"
            ],
            [
             1,
             "#276419"
            ]
           ],
           "sequential": [
            [
             0,
             "#0d0887"
            ],
            [
             0.1111111111111111,
             "#46039f"
            ],
            [
             0.2222222222222222,
             "#7201a8"
            ],
            [
             0.3333333333333333,
             "#9c179e"
            ],
            [
             0.4444444444444444,
             "#bd3786"
            ],
            [
             0.5555555555555556,
             "#d8576b"
            ],
            [
             0.6666666666666666,
             "#ed7953"
            ],
            [
             0.7777777777777778,
             "#fb9f3a"
            ],
            [
             0.8888888888888888,
             "#fdca26"
            ],
            [
             1,
             "#f0f921"
            ]
           ],
           "sequentialminus": [
            [
             0,
             "#0d0887"
            ],
            [
             0.1111111111111111,
             "#46039f"
            ],
            [
             0.2222222222222222,
             "#7201a8"
            ],
            [
             0.3333333333333333,
             "#9c179e"
            ],
            [
             0.4444444444444444,
             "#bd3786"
            ],
            [
             0.5555555555555556,
             "#d8576b"
            ],
            [
             0.6666666666666666,
             "#ed7953"
            ],
            [
             0.7777777777777778,
             "#fb9f3a"
            ],
            [
             0.8888888888888888,
             "#fdca26"
            ],
            [
             1,
             "#f0f921"
            ]
           ]
          },
          "colorway": [
           "#003f5c",
           "#2f4b7c",
           "#665191",
           "#a05195",
           "#d45087",
           "#f95d6a",
           "#ff7c43",
           "#ffa600"
          ],
          "font": {
           "color": "#2a3f5f"
          },
          "geo": {
           "bgcolor": "white",
           "lakecolor": "white",
           "landcolor": "#E5ECF6",
           "showlakes": true,
           "showland": true,
           "subunitcolor": "white"
          },
          "hoverlabel": {
           "align": "left"
          },
          "hovermode": "closest",
          "mapbox": {
           "style": "light"
          },
          "paper_bgcolor": "white",
          "plot_bgcolor": "#E5ECF6",
          "polar": {
           "angularaxis": {
            "gridcolor": "white",
            "linecolor": "white",
            "ticks": ""
           },
           "bgcolor": "#E5ECF6",
           "radialaxis": {
            "gridcolor": "white",
            "linecolor": "white",
            "ticks": ""
           }
          },
          "scene": {
           "xaxis": {
            "backgroundcolor": "#E5ECF6",
            "gridcolor": "white",
            "gridwidth": 2,
            "linecolor": "white",
            "showbackground": true,
            "ticks": "",
            "zerolinecolor": "white"
           },
           "yaxis": {
            "backgroundcolor": "#E5ECF6",
            "gridcolor": "white",
            "gridwidth": 2,
            "linecolor": "white",
            "showbackground": true,
            "ticks": "",
            "zerolinecolor": "white"
           },
           "zaxis": {
            "backgroundcolor": "#E5ECF6",
            "gridcolor": "white",
            "gridwidth": 2,
            "linecolor": "white",
            "showbackground": true,
            "ticks": "",
            "zerolinecolor": "white"
           }
          },
          "shapedefaults": {
           "line": {
            "color": "#2a3f5f"
           }
          },
          "ternary": {
           "aaxis": {
            "gridcolor": "white",
            "linecolor": "white",
            "ticks": ""
           },
           "baxis": {
            "gridcolor": "white",
            "linecolor": "white",
            "ticks": ""
           },
           "bgcolor": "#E5ECF6",
           "caxis": {
            "gridcolor": "white",
            "linecolor": "white",
            "ticks": ""
           }
          },
          "title": {
           "x": 0.05
          },
          "xaxis": {
           "automargin": true,
           "gridcolor": "white",
           "linecolor": "white",
           "ticks": "",
           "title": {
            "standoff": 15
           },
           "zerolinecolor": "white",
           "zerolinewidth": 2
          },
          "yaxis": {
           "automargin": true,
           "gridcolor": "white",
           "linecolor": "white",
           "ticks": "",
           "title": {
            "standoff": 15
           },
           "zerolinecolor": "white",
           "zerolinewidth": 2
          }
         }
        },
        "title": {
         "text": "Classificação de PEDRA - Ano 2021"
        },
        "width": 600,
        "xaxis": {
         "anchor": "y",
         "domain": [
          0,
          1
         ],
         "title": {
          "text": "Valor"
         }
        },
        "yaxis": {
         "anchor": "x",
         "domain": [
          0,
          1
         ],
         "range": [
          0,
          400
         ],
         "title": {
          "text": "Quantidade"
         }
        }
       }
      }
     },
     "metadata": {},
     "output_type": "display_data"
    },
    {
     "data": {
      "application/vnd.plotly.v1+json": {
       "config": {
        "plotlyServerURL": "https://plot.ly"
       },
       "data": [
        {
         "alignmentgroup": "True",
         "hovertemplate": "Valor=%{x}<br>Quantidade=%{y}<br>text=%{text}<extra></extra>",
         "legendgroup": "",
         "marker": {
          "color": "#003f5c",
          "pattern": {
           "shape": ""
          }
         },
         "name": "",
         "offsetgroup": "",
         "orientation": "v",
         "showlegend": false,
         "text": [
          "348 (40.4%)",
          "250 (29.0%)",
          "134 (15.5%)",
          "130 (15.1%)"
         ],
         "textposition": "outside",
         "type": "bar",
         "x": [
          "Ametista",
          "Ágata",
          "Quartzo",
          "Topázio"
         ],
         "xaxis": "x",
         "y": [
          348,
          250,
          134,
          130
         ],
         "yaxis": "y"
        }
       ],
       "layout": {
        "barmode": "relative",
        "height": 400,
        "legend": {
         "tracegroupgap": 0
        },
        "template": {
         "data": {
          "bar": [
           {
            "error_x": {
             "color": "#2a3f5f"
            },
            "error_y": {
             "color": "#2a3f5f"
            },
            "marker": {
             "line": {
              "color": "#E5ECF6",
              "width": 0.5
             },
             "pattern": {
              "fillmode": "overlay",
              "size": 10,
              "solidity": 0.2
             }
            },
            "type": "bar"
           }
          ],
          "barpolar": [
           {
            "marker": {
             "line": {
              "color": "#E5ECF6",
              "width": 0.5
             },
             "pattern": {
              "fillmode": "overlay",
              "size": 10,
              "solidity": 0.2
             }
            },
            "type": "barpolar"
           }
          ],
          "carpet": [
           {
            "aaxis": {
             "endlinecolor": "#2a3f5f",
             "gridcolor": "white",
             "linecolor": "white",
             "minorgridcolor": "white",
             "startlinecolor": "#2a3f5f"
            },
            "baxis": {
             "endlinecolor": "#2a3f5f",
             "gridcolor": "white",
             "linecolor": "white",
             "minorgridcolor": "white",
             "startlinecolor": "#2a3f5f"
            },
            "type": "carpet"
           }
          ],
          "choropleth": [
           {
            "colorbar": {
             "outlinewidth": 0,
             "ticks": ""
            },
            "type": "choropleth"
           }
          ],
          "contour": [
           {
            "colorbar": {
             "outlinewidth": 0,
             "ticks": ""
            },
            "colorscale": [
             [
              0,
              "#0d0887"
             ],
             [
              0.1111111111111111,
              "#46039f"
             ],
             [
              0.2222222222222222,
              "#7201a8"
             ],
             [
              0.3333333333333333,
              "#9c179e"
             ],
             [
              0.4444444444444444,
              "#bd3786"
             ],
             [
              0.5555555555555556,
              "#d8576b"
             ],
             [
              0.6666666666666666,
              "#ed7953"
             ],
             [
              0.7777777777777778,
              "#fb9f3a"
             ],
             [
              0.8888888888888888,
              "#fdca26"
             ],
             [
              1,
              "#f0f921"
             ]
            ],
            "type": "contour"
           }
          ],
          "contourcarpet": [
           {
            "colorbar": {
             "outlinewidth": 0,
             "ticks": ""
            },
            "type": "contourcarpet"
           }
          ],
          "heatmap": [
           {
            "colorbar": {
             "outlinewidth": 0,
             "ticks": ""
            },
            "colorscale": [
             [
              0,
              "#0d0887"
             ],
             [
              0.1111111111111111,
              "#46039f"
             ],
             [
              0.2222222222222222,
              "#7201a8"
             ],
             [
              0.3333333333333333,
              "#9c179e"
             ],
             [
              0.4444444444444444,
              "#bd3786"
             ],
             [
              0.5555555555555556,
              "#d8576b"
             ],
             [
              0.6666666666666666,
              "#ed7953"
             ],
             [
              0.7777777777777778,
              "#fb9f3a"
             ],
             [
              0.8888888888888888,
              "#fdca26"
             ],
             [
              1,
              "#f0f921"
             ]
            ],
            "type": "heatmap"
           }
          ],
          "heatmapgl": [
           {
            "colorbar": {
             "outlinewidth": 0,
             "ticks": ""
            },
            "colorscale": [
             [
              0,
              "#0d0887"
             ],
             [
              0.1111111111111111,
              "#46039f"
             ],
             [
              0.2222222222222222,
              "#7201a8"
             ],
             [
              0.3333333333333333,
              "#9c179e"
             ],
             [
              0.4444444444444444,
              "#bd3786"
             ],
             [
              0.5555555555555556,
              "#d8576b"
             ],
             [
              0.6666666666666666,
              "#ed7953"
             ],
             [
              0.7777777777777778,
              "#fb9f3a"
             ],
             [
              0.8888888888888888,
              "#fdca26"
             ],
             [
              1,
              "#f0f921"
             ]
            ],
            "type": "heatmapgl"
           }
          ],
          "histogram": [
           {
            "marker": {
             "pattern": {
              "fillmode": "overlay",
              "size": 10,
              "solidity": 0.2
             }
            },
            "type": "histogram"
           }
          ],
          "histogram2d": [
           {
            "colorbar": {
             "outlinewidth": 0,
             "ticks": ""
            },
            "colorscale": [
             [
              0,
              "#0d0887"
             ],
             [
              0.1111111111111111,
              "#46039f"
             ],
             [
              0.2222222222222222,
              "#7201a8"
             ],
             [
              0.3333333333333333,
              "#9c179e"
             ],
             [
              0.4444444444444444,
              "#bd3786"
             ],
             [
              0.5555555555555556,
              "#d8576b"
             ],
             [
              0.6666666666666666,
              "#ed7953"
             ],
             [
              0.7777777777777778,
              "#fb9f3a"
             ],
             [
              0.8888888888888888,
              "#fdca26"
             ],
             [
              1,
              "#f0f921"
             ]
            ],
            "type": "histogram2d"
           }
          ],
          "histogram2dcontour": [
           {
            "colorbar": {
             "outlinewidth": 0,
             "ticks": ""
            },
            "colorscale": [
             [
              0,
              "#0d0887"
             ],
             [
              0.1111111111111111,
              "#46039f"
             ],
             [
              0.2222222222222222,
              "#7201a8"
             ],
             [
              0.3333333333333333,
              "#9c179e"
             ],
             [
              0.4444444444444444,
              "#bd3786"
             ],
             [
              0.5555555555555556,
              "#d8576b"
             ],
             [
              0.6666666666666666,
              "#ed7953"
             ],
             [
              0.7777777777777778,
              "#fb9f3a"
             ],
             [
              0.8888888888888888,
              "#fdca26"
             ],
             [
              1,
              "#f0f921"
             ]
            ],
            "type": "histogram2dcontour"
           }
          ],
          "mesh3d": [
           {
            "colorbar": {
             "outlinewidth": 0,
             "ticks": ""
            },
            "type": "mesh3d"
           }
          ],
          "parcoords": [
           {
            "line": {
             "colorbar": {
              "outlinewidth": 0,
              "ticks": ""
             }
            },
            "type": "parcoords"
           }
          ],
          "pie": [
           {
            "automargin": true,
            "type": "pie"
           }
          ],
          "scatter": [
           {
            "fillpattern": {
             "fillmode": "overlay",
             "size": 10,
             "solidity": 0.2
            },
            "type": "scatter"
           }
          ],
          "scatter3d": [
           {
            "line": {
             "colorbar": {
              "outlinewidth": 0,
              "ticks": ""
             }
            },
            "marker": {
             "colorbar": {
              "outlinewidth": 0,
              "ticks": ""
             }
            },
            "type": "scatter3d"
           }
          ],
          "scattercarpet": [
           {
            "marker": {
             "colorbar": {
              "outlinewidth": 0,
              "ticks": ""
             }
            },
            "type": "scattercarpet"
           }
          ],
          "scattergeo": [
           {
            "marker": {
             "colorbar": {
              "outlinewidth": 0,
              "ticks": ""
             }
            },
            "type": "scattergeo"
           }
          ],
          "scattergl": [
           {
            "marker": {
             "colorbar": {
              "outlinewidth": 0,
              "ticks": ""
             }
            },
            "type": "scattergl"
           }
          ],
          "scattermapbox": [
           {
            "marker": {
             "colorbar": {
              "outlinewidth": 0,
              "ticks": ""
             }
            },
            "type": "scattermapbox"
           }
          ],
          "scatterpolar": [
           {
            "marker": {
             "colorbar": {
              "outlinewidth": 0,
              "ticks": ""
             }
            },
            "type": "scatterpolar"
           }
          ],
          "scatterpolargl": [
           {
            "marker": {
             "colorbar": {
              "outlinewidth": 0,
              "ticks": ""
             }
            },
            "type": "scatterpolargl"
           }
          ],
          "scatterternary": [
           {
            "marker": {
             "colorbar": {
              "outlinewidth": 0,
              "ticks": ""
             }
            },
            "type": "scatterternary"
           }
          ],
          "surface": [
           {
            "colorbar": {
             "outlinewidth": 0,
             "ticks": ""
            },
            "colorscale": [
             [
              0,
              "#0d0887"
             ],
             [
              0.1111111111111111,
              "#46039f"
             ],
             [
              0.2222222222222222,
              "#7201a8"
             ],
             [
              0.3333333333333333,
              "#9c179e"
             ],
             [
              0.4444444444444444,
              "#bd3786"
             ],
             [
              0.5555555555555556,
              "#d8576b"
             ],
             [
              0.6666666666666666,
              "#ed7953"
             ],
             [
              0.7777777777777778,
              "#fb9f3a"
             ],
             [
              0.8888888888888888,
              "#fdca26"
             ],
             [
              1,
              "#f0f921"
             ]
            ],
            "type": "surface"
           }
          ],
          "table": [
           {
            "cells": {
             "fill": {
              "color": "#EBF0F8"
             },
             "line": {
              "color": "white"
             }
            },
            "header": {
             "fill": {
              "color": "#C8D4E3"
             },
             "line": {
              "color": "white"
             }
            },
            "type": "table"
           }
          ]
         },
         "layout": {
          "annotationdefaults": {
           "arrowcolor": "#2a3f5f",
           "arrowhead": 0,
           "arrowwidth": 1
          },
          "autotypenumbers": "strict",
          "coloraxis": {
           "colorbar": {
            "outlinewidth": 0,
            "ticks": ""
           }
          },
          "colorscale": {
           "diverging": [
            [
             0,
             "#8e0152"
            ],
            [
             0.1,
             "#c51b7d"
            ],
            [
             0.2,
             "#de77ae"
            ],
            [
             0.3,
             "#f1b6da"
            ],
            [
             0.4,
             "#fde0ef"
            ],
            [
             0.5,
             "#f7f7f7"
            ],
            [
             0.6,
             "#e6f5d0"
            ],
            [
             0.7,
             "#b8e186"
            ],
            [
             0.8,
             "#7fbc41"
            ],
            [
             0.9,
             "#4d9221"
            ],
            [
             1,
             "#276419"
            ]
           ],
           "sequential": [
            [
             0,
             "#0d0887"
            ],
            [
             0.1111111111111111,
             "#46039f"
            ],
            [
             0.2222222222222222,
             "#7201a8"
            ],
            [
             0.3333333333333333,
             "#9c179e"
            ],
            [
             0.4444444444444444,
             "#bd3786"
            ],
            [
             0.5555555555555556,
             "#d8576b"
            ],
            [
             0.6666666666666666,
             "#ed7953"
            ],
            [
             0.7777777777777778,
             "#fb9f3a"
            ],
            [
             0.8888888888888888,
             "#fdca26"
            ],
            [
             1,
             "#f0f921"
            ]
           ],
           "sequentialminus": [
            [
             0,
             "#0d0887"
            ],
            [
             0.1111111111111111,
             "#46039f"
            ],
            [
             0.2222222222222222,
             "#7201a8"
            ],
            [
             0.3333333333333333,
             "#9c179e"
            ],
            [
             0.4444444444444444,
             "#bd3786"
            ],
            [
             0.5555555555555556,
             "#d8576b"
            ],
            [
             0.6666666666666666,
             "#ed7953"
            ],
            [
             0.7777777777777778,
             "#fb9f3a"
            ],
            [
             0.8888888888888888,
             "#fdca26"
            ],
            [
             1,
             "#f0f921"
            ]
           ]
          },
          "colorway": [
           "#003f5c",
           "#2f4b7c",
           "#665191",
           "#a05195",
           "#d45087",
           "#f95d6a",
           "#ff7c43",
           "#ffa600"
          ],
          "font": {
           "color": "#2a3f5f"
          },
          "geo": {
           "bgcolor": "white",
           "lakecolor": "white",
           "landcolor": "#E5ECF6",
           "showlakes": true,
           "showland": true,
           "subunitcolor": "white"
          },
          "hoverlabel": {
           "align": "left"
          },
          "hovermode": "closest",
          "mapbox": {
           "style": "light"
          },
          "paper_bgcolor": "white",
          "plot_bgcolor": "#E5ECF6",
          "polar": {
           "angularaxis": {
            "gridcolor": "white",
            "linecolor": "white",
            "ticks": ""
           },
           "bgcolor": "#E5ECF6",
           "radialaxis": {
            "gridcolor": "white",
            "linecolor": "white",
            "ticks": ""
           }
          },
          "scene": {
           "xaxis": {
            "backgroundcolor": "#E5ECF6",
            "gridcolor": "white",
            "gridwidth": 2,
            "linecolor": "white",
            "showbackground": true,
            "ticks": "",
            "zerolinecolor": "white"
           },
           "yaxis": {
            "backgroundcolor": "#E5ECF6",
            "gridcolor": "white",
            "gridwidth": 2,
            "linecolor": "white",
            "showbackground": true,
            "ticks": "",
            "zerolinecolor": "white"
           },
           "zaxis": {
            "backgroundcolor": "#E5ECF6",
            "gridcolor": "white",
            "gridwidth": 2,
            "linecolor": "white",
            "showbackground": true,
            "ticks": "",
            "zerolinecolor": "white"
           }
          },
          "shapedefaults": {
           "line": {
            "color": "#2a3f5f"
           }
          },
          "ternary": {
           "aaxis": {
            "gridcolor": "white",
            "linecolor": "white",
            "ticks": ""
           },
           "baxis": {
            "gridcolor": "white",
            "linecolor": "white",
            "ticks": ""
           },
           "bgcolor": "#E5ECF6",
           "caxis": {
            "gridcolor": "white",
            "linecolor": "white",
            "ticks": ""
           }
          },
          "title": {
           "x": 0.05
          },
          "xaxis": {
           "automargin": true,
           "gridcolor": "white",
           "linecolor": "white",
           "ticks": "",
           "title": {
            "standoff": 15
           },
           "zerolinecolor": "white",
           "zerolinewidth": 2
          },
          "yaxis": {
           "automargin": true,
           "gridcolor": "white",
           "linecolor": "white",
           "ticks": "",
           "title": {
            "standoff": 15
           },
           "zerolinecolor": "white",
           "zerolinewidth": 2
          }
         }
        },
        "title": {
         "text": "Classificação de PEDRA - Ano 2022"
        },
        "width": 600,
        "xaxis": {
         "anchor": "y",
         "domain": [
          0,
          1
         ],
         "title": {
          "text": "Valor"
         }
        },
        "yaxis": {
         "anchor": "x",
         "domain": [
          0,
          1
         ],
         "range": [
          0,
          400
         ],
         "title": {
          "text": "Quantidade"
         }
        }
       }
      }
     },
     "metadata": {},
     "output_type": "display_data"
    }
   ],
   "source": [
    "# Lista de valores válidos\n",
    "valores_validos = ['Ametista', 'Quartzo', 'Topázio', 'Ágata']\n",
    "\n",
    "# Filtrar os dados para apenas valores válidos\n",
    "\n",
    "anos = ['2020', '2021', '2022']\n",
    "\n",
    "for ano in anos:\n",
    "    # Filtrar por ano\n",
    "    data_ano = pedra[pedra['ANO'] == ano]\n",
    "    \n",
    "    if data_ano.empty:\n",
    "        print(f\"Nenhum dado válido encontrado para o ano {ano}\")\n",
    "        continue\n",
    "    \n",
    "    # Contar valores\n",
    "    valores = data_ano['VALOR'].value_counts()\n",
    "    total = valores.sum()  # Total de ocorrências para calcular o percentual\n",
    "    \n",
    "    # Preparar os dados para o gráfico\n",
    "    df_plot = valores.reset_index()\n",
    "    df_plot.columns = ['Valor', 'Quantidade']\n",
    "    df_plot['Percentual'] = df_plot['Quantidade'] / total * 100\n",
    "    \n",
    "    # Criar o gráfico com px\n",
    "    fig = px.bar(\n",
    "        df_plot,\n",
    "        x='Valor',\n",
    "        y='Quantidade',\n",
    "        text=df_plot.apply(lambda row: f\"{row['Quantidade']} ({row['Percentual']:.1f}%)\", axis=1),\n",
    "        title=f\"Classificação de PEDRA - Ano {ano}\",\n",
    "        labels={'Quantidade': 'Quantidade'}\n",
    "    )\n",
    "    \n",
    "    # Ajustar o layout\n",
    "    fig.update_traces(textposition='outside')  # Mostrar rótulos fora das barras\n",
    "    fig.update_layout(\n",
    "        height=400,\n",
    "        width=600,\n",
    "        yaxis=dict(range=[0, 400]),  # Padronizar o eixo Y\n",
    "    )\n",
    "    \n",
    "    # Mostrar o gráfico\n",
    "    fig.show()\n",
    "\n",
    "    fig.write_html(f'../reports/figures/pedra_{ano}.html')"
   ]
  },
  {
   "cell_type": "code",
   "execution_count": 18,
   "metadata": {},
   "outputs": [
    {
     "name": "stdout",
     "output_type": "stream",
     "text": [
      "ANO\n",
      "2020    728\n",
      "2021    686\n",
      "2022    862\n",
      "Name: NOME, dtype: int64\n"
     ]
    }
   ],
   "source": [
    "contagem_com_inde = long_data[(long_data['VARIAVEL'] == 'INDE') & (long_data['VALOR'].notna())].groupby('ANO')['NOME'].nunique()\n",
    "print(contagem_com_inde)"
   ]
  },
  {
   "cell_type": "code",
   "execution_count": 19,
   "metadata": {},
   "outputs": [
    {
     "data": {
      "application/vnd.plotly.v1+json": {
       "config": {
        "plotlyServerURL": "https://plot.ly"
       },
       "data": [
        {
         "alignmentgroup": "True",
         "hovertemplate": "ANO=%{x}<br>y=%{y}<br>text=%{text}<extra></extra>",
         "legendgroup": "",
         "marker": {
          "color": "#003f5c",
          "pattern": {
           "shape": ""
          }
         },
         "name": "",
         "offsetgroup": "",
         "orientation": "v",
         "showlegend": false,
         "text": [
          728,
          686,
          862
         ],
         "textposition": "outside",
         "type": "bar",
         "x": [
          "2020",
          "2021",
          "2022"
         ],
         "xaxis": "x",
         "y": [
          728,
          686,
          862
         ],
         "yaxis": "y"
        }
       ],
       "layout": {
        "barmode": "relative",
        "height": 400,
        "legend": {
         "tracegroupgap": 0
        },
        "template": {
         "data": {
          "bar": [
           {
            "error_x": {
             "color": "#2a3f5f"
            },
            "error_y": {
             "color": "#2a3f5f"
            },
            "marker": {
             "line": {
              "color": "#E5ECF6",
              "width": 0.5
             },
             "pattern": {
              "fillmode": "overlay",
              "size": 10,
              "solidity": 0.2
             }
            },
            "type": "bar"
           }
          ],
          "barpolar": [
           {
            "marker": {
             "line": {
              "color": "#E5ECF6",
              "width": 0.5
             },
             "pattern": {
              "fillmode": "overlay",
              "size": 10,
              "solidity": 0.2
             }
            },
            "type": "barpolar"
           }
          ],
          "carpet": [
           {
            "aaxis": {
             "endlinecolor": "#2a3f5f",
             "gridcolor": "white",
             "linecolor": "white",
             "minorgridcolor": "white",
             "startlinecolor": "#2a3f5f"
            },
            "baxis": {
             "endlinecolor": "#2a3f5f",
             "gridcolor": "white",
             "linecolor": "white",
             "minorgridcolor": "white",
             "startlinecolor": "#2a3f5f"
            },
            "type": "carpet"
           }
          ],
          "choropleth": [
           {
            "colorbar": {
             "outlinewidth": 0,
             "ticks": ""
            },
            "type": "choropleth"
           }
          ],
          "contour": [
           {
            "colorbar": {
             "outlinewidth": 0,
             "ticks": ""
            },
            "colorscale": [
             [
              0,
              "#0d0887"
             ],
             [
              0.1111111111111111,
              "#46039f"
             ],
             [
              0.2222222222222222,
              "#7201a8"
             ],
             [
              0.3333333333333333,
              "#9c179e"
             ],
             [
              0.4444444444444444,
              "#bd3786"
             ],
             [
              0.5555555555555556,
              "#d8576b"
             ],
             [
              0.6666666666666666,
              "#ed7953"
             ],
             [
              0.7777777777777778,
              "#fb9f3a"
             ],
             [
              0.8888888888888888,
              "#fdca26"
             ],
             [
              1,
              "#f0f921"
             ]
            ],
            "type": "contour"
           }
          ],
          "contourcarpet": [
           {
            "colorbar": {
             "outlinewidth": 0,
             "ticks": ""
            },
            "type": "contourcarpet"
           }
          ],
          "heatmap": [
           {
            "colorbar": {
             "outlinewidth": 0,
             "ticks": ""
            },
            "colorscale": [
             [
              0,
              "#0d0887"
             ],
             [
              0.1111111111111111,
              "#46039f"
             ],
             [
              0.2222222222222222,
              "#7201a8"
             ],
             [
              0.3333333333333333,
              "#9c179e"
             ],
             [
              0.4444444444444444,
              "#bd3786"
             ],
             [
              0.5555555555555556,
              "#d8576b"
             ],
             [
              0.6666666666666666,
              "#ed7953"
             ],
             [
              0.7777777777777778,
              "#fb9f3a"
             ],
             [
              0.8888888888888888,
              "#fdca26"
             ],
             [
              1,
              "#f0f921"
             ]
            ],
            "type": "heatmap"
           }
          ],
          "heatmapgl": [
           {
            "colorbar": {
             "outlinewidth": 0,
             "ticks": ""
            },
            "colorscale": [
             [
              0,
              "#0d0887"
             ],
             [
              0.1111111111111111,
              "#46039f"
             ],
             [
              0.2222222222222222,
              "#7201a8"
             ],
             [
              0.3333333333333333,
              "#9c179e"
             ],
             [
              0.4444444444444444,
              "#bd3786"
             ],
             [
              0.5555555555555556,
              "#d8576b"
             ],
             [
              0.6666666666666666,
              "#ed7953"
             ],
             [
              0.7777777777777778,
              "#fb9f3a"
             ],
             [
              0.8888888888888888,
              "#fdca26"
             ],
             [
              1,
              "#f0f921"
             ]
            ],
            "type": "heatmapgl"
           }
          ],
          "histogram": [
           {
            "marker": {
             "pattern": {
              "fillmode": "overlay",
              "size": 10,
              "solidity": 0.2
             }
            },
            "type": "histogram"
           }
          ],
          "histogram2d": [
           {
            "colorbar": {
             "outlinewidth": 0,
             "ticks": ""
            },
            "colorscale": [
             [
              0,
              "#0d0887"
             ],
             [
              0.1111111111111111,
              "#46039f"
             ],
             [
              0.2222222222222222,
              "#7201a8"
             ],
             [
              0.3333333333333333,
              "#9c179e"
             ],
             [
              0.4444444444444444,
              "#bd3786"
             ],
             [
              0.5555555555555556,
              "#d8576b"
             ],
             [
              0.6666666666666666,
              "#ed7953"
             ],
             [
              0.7777777777777778,
              "#fb9f3a"
             ],
             [
              0.8888888888888888,
              "#fdca26"
             ],
             [
              1,
              "#f0f921"
             ]
            ],
            "type": "histogram2d"
           }
          ],
          "histogram2dcontour": [
           {
            "colorbar": {
             "outlinewidth": 0,
             "ticks": ""
            },
            "colorscale": [
             [
              0,
              "#0d0887"
             ],
             [
              0.1111111111111111,
              "#46039f"
             ],
             [
              0.2222222222222222,
              "#7201a8"
             ],
             [
              0.3333333333333333,
              "#9c179e"
             ],
             [
              0.4444444444444444,
              "#bd3786"
             ],
             [
              0.5555555555555556,
              "#d8576b"
             ],
             [
              0.6666666666666666,
              "#ed7953"
             ],
             [
              0.7777777777777778,
              "#fb9f3a"
             ],
             [
              0.8888888888888888,
              "#fdca26"
             ],
             [
              1,
              "#f0f921"
             ]
            ],
            "type": "histogram2dcontour"
           }
          ],
          "mesh3d": [
           {
            "colorbar": {
             "outlinewidth": 0,
             "ticks": ""
            },
            "type": "mesh3d"
           }
          ],
          "parcoords": [
           {
            "line": {
             "colorbar": {
              "outlinewidth": 0,
              "ticks": ""
             }
            },
            "type": "parcoords"
           }
          ],
          "pie": [
           {
            "automargin": true,
            "type": "pie"
           }
          ],
          "scatter": [
           {
            "fillpattern": {
             "fillmode": "overlay",
             "size": 10,
             "solidity": 0.2
            },
            "type": "scatter"
           }
          ],
          "scatter3d": [
           {
            "line": {
             "colorbar": {
              "outlinewidth": 0,
              "ticks": ""
             }
            },
            "marker": {
             "colorbar": {
              "outlinewidth": 0,
              "ticks": ""
             }
            },
            "type": "scatter3d"
           }
          ],
          "scattercarpet": [
           {
            "marker": {
             "colorbar": {
              "outlinewidth": 0,
              "ticks": ""
             }
            },
            "type": "scattercarpet"
           }
          ],
          "scattergeo": [
           {
            "marker": {
             "colorbar": {
              "outlinewidth": 0,
              "ticks": ""
             }
            },
            "type": "scattergeo"
           }
          ],
          "scattergl": [
           {
            "marker": {
             "colorbar": {
              "outlinewidth": 0,
              "ticks": ""
             }
            },
            "type": "scattergl"
           }
          ],
          "scattermapbox": [
           {
            "marker": {
             "colorbar": {
              "outlinewidth": 0,
              "ticks": ""
             }
            },
            "type": "scattermapbox"
           }
          ],
          "scatterpolar": [
           {
            "marker": {
             "colorbar": {
              "outlinewidth": 0,
              "ticks": ""
             }
            },
            "type": "scatterpolar"
           }
          ],
          "scatterpolargl": [
           {
            "marker": {
             "colorbar": {
              "outlinewidth": 0,
              "ticks": ""
             }
            },
            "type": "scatterpolargl"
           }
          ],
          "scatterternary": [
           {
            "marker": {
             "colorbar": {
              "outlinewidth": 0,
              "ticks": ""
             }
            },
            "type": "scatterternary"
           }
          ],
          "surface": [
           {
            "colorbar": {
             "outlinewidth": 0,
             "ticks": ""
            },
            "colorscale": [
             [
              0,
              "#0d0887"
             ],
             [
              0.1111111111111111,
              "#46039f"
             ],
             [
              0.2222222222222222,
              "#7201a8"
             ],
             [
              0.3333333333333333,
              "#9c179e"
             ],
             [
              0.4444444444444444,
              "#bd3786"
             ],
             [
              0.5555555555555556,
              "#d8576b"
             ],
             [
              0.6666666666666666,
              "#ed7953"
             ],
             [
              0.7777777777777778,
              "#fb9f3a"
             ],
             [
              0.8888888888888888,
              "#fdca26"
             ],
             [
              1,
              "#f0f921"
             ]
            ],
            "type": "surface"
           }
          ],
          "table": [
           {
            "cells": {
             "fill": {
              "color": "#EBF0F8"
             },
             "line": {
              "color": "white"
             }
            },
            "header": {
             "fill": {
              "color": "#C8D4E3"
             },
             "line": {
              "color": "white"
             }
            },
            "type": "table"
           }
          ]
         },
         "layout": {
          "annotationdefaults": {
           "arrowcolor": "#2a3f5f",
           "arrowhead": 0,
           "arrowwidth": 1
          },
          "autotypenumbers": "strict",
          "coloraxis": {
           "colorbar": {
            "outlinewidth": 0,
            "ticks": ""
           }
          },
          "colorscale": {
           "diverging": [
            [
             0,
             "#8e0152"
            ],
            [
             0.1,
             "#c51b7d"
            ],
            [
             0.2,
             "#de77ae"
            ],
            [
             0.3,
             "#f1b6da"
            ],
            [
             0.4,
             "#fde0ef"
            ],
            [
             0.5,
             "#f7f7f7"
            ],
            [
             0.6,
             "#e6f5d0"
            ],
            [
             0.7,
             "#b8e186"
            ],
            [
             0.8,
             "#7fbc41"
            ],
            [
             0.9,
             "#4d9221"
            ],
            [
             1,
             "#276419"
            ]
           ],
           "sequential": [
            [
             0,
             "#0d0887"
            ],
            [
             0.1111111111111111,
             "#46039f"
            ],
            [
             0.2222222222222222,
             "#7201a8"
            ],
            [
             0.3333333333333333,
             "#9c179e"
            ],
            [
             0.4444444444444444,
             "#bd3786"
            ],
            [
             0.5555555555555556,
             "#d8576b"
            ],
            [
             0.6666666666666666,
             "#ed7953"
            ],
            [
             0.7777777777777778,
             "#fb9f3a"
            ],
            [
             0.8888888888888888,
             "#fdca26"
            ],
            [
             1,
             "#f0f921"
            ]
           ],
           "sequentialminus": [
            [
             0,
             "#0d0887"
            ],
            [
             0.1111111111111111,
             "#46039f"
            ],
            [
             0.2222222222222222,
             "#7201a8"
            ],
            [
             0.3333333333333333,
             "#9c179e"
            ],
            [
             0.4444444444444444,
             "#bd3786"
            ],
            [
             0.5555555555555556,
             "#d8576b"
            ],
            [
             0.6666666666666666,
             "#ed7953"
            ],
            [
             0.7777777777777778,
             "#fb9f3a"
            ],
            [
             0.8888888888888888,
             "#fdca26"
            ],
            [
             1,
             "#f0f921"
            ]
           ]
          },
          "colorway": [
           "#003f5c",
           "#2f4b7c",
           "#665191",
           "#a05195",
           "#d45087",
           "#f95d6a",
           "#ff7c43",
           "#ffa600"
          ],
          "font": {
           "color": "#2a3f5f"
          },
          "geo": {
           "bgcolor": "white",
           "lakecolor": "white",
           "landcolor": "#E5ECF6",
           "showlakes": true,
           "showland": true,
           "subunitcolor": "white"
          },
          "hoverlabel": {
           "align": "left"
          },
          "hovermode": "closest",
          "mapbox": {
           "style": "light"
          },
          "paper_bgcolor": "white",
          "plot_bgcolor": "#E5ECF6",
          "polar": {
           "angularaxis": {
            "gridcolor": "white",
            "linecolor": "white",
            "ticks": ""
           },
           "bgcolor": "#E5ECF6",
           "radialaxis": {
            "gridcolor": "white",
            "linecolor": "white",
            "ticks": ""
           }
          },
          "scene": {
           "xaxis": {
            "backgroundcolor": "#E5ECF6",
            "gridcolor": "white",
            "gridwidth": 2,
            "linecolor": "white",
            "showbackground": true,
            "ticks": "",
            "zerolinecolor": "white"
           },
           "yaxis": {
            "backgroundcolor": "#E5ECF6",
            "gridcolor": "white",
            "gridwidth": 2,
            "linecolor": "white",
            "showbackground": true,
            "ticks": "",
            "zerolinecolor": "white"
           },
           "zaxis": {
            "backgroundcolor": "#E5ECF6",
            "gridcolor": "white",
            "gridwidth": 2,
            "linecolor": "white",
            "showbackground": true,
            "ticks": "",
            "zerolinecolor": "white"
           }
          },
          "shapedefaults": {
           "line": {
            "color": "#2a3f5f"
           }
          },
          "ternary": {
           "aaxis": {
            "gridcolor": "white",
            "linecolor": "white",
            "ticks": ""
           },
           "baxis": {
            "gridcolor": "white",
            "linecolor": "white",
            "ticks": ""
           },
           "bgcolor": "#E5ECF6",
           "caxis": {
            "gridcolor": "white",
            "linecolor": "white",
            "ticks": ""
           }
          },
          "title": {
           "x": 0.05
          },
          "xaxis": {
           "automargin": true,
           "gridcolor": "white",
           "linecolor": "white",
           "ticks": "",
           "title": {
            "standoff": 15
           },
           "zerolinecolor": "white",
           "zerolinewidth": 2
          },
          "yaxis": {
           "automargin": true,
           "gridcolor": "white",
           "linecolor": "white",
           "ticks": "",
           "title": {
            "standoff": 15
           },
           "zerolinecolor": "white",
           "zerolinewidth": 2
          }
         }
        },
        "title": {
         "text": "Quantidade de alunos com INDE por ano"
        },
        "width": 600,
        "xaxis": {
         "anchor": "y",
         "domain": [
          0,
          1
         ],
         "title": {
          "text": "ANO"
         }
        },
        "yaxis": {
         "anchor": "x",
         "domain": [
          0,
          1
         ],
         "range": [
          0,
          999
         ],
         "title": {}
        }
       }
      }
     },
     "metadata": {},
     "output_type": "display_data"
    }
   ],
   "source": [
    "fig = px.bar(contagem_com_inde, x=contagem_com_inde.index, y=contagem_com_inde.values, text=contagem_com_inde.values, title='Quantidade de alunos com INDE por ano')\n",
    "\n",
    "fig.update_traces(textposition='outside')  # Mostrar rótulos fora das barras\n",
    "fig.update_layout(\n",
    "    height=400,\n",
    "    width=600,\n",
    "    yaxis_title=None,\n",
    "    yaxis=dict(range=[0, 999])\n",
    ")\n",
    "\n",
    "fig.show()\n",
    "fig.write_html('../reports/figures/alunos_por_ano.html')"
   ]
  },
  {
   "cell_type": "code",
   "execution_count": 20,
   "metadata": {},
   "outputs": [
    {
     "data": {
      "text/html": [
       "<div>\n",
       "<style scoped>\n",
       "    .dataframe tbody tr th:only-of-type {\n",
       "        vertical-align: middle;\n",
       "    }\n",
       "\n",
       "    .dataframe tbody tr th {\n",
       "        vertical-align: top;\n",
       "    }\n",
       "\n",
       "    .dataframe thead th {\n",
       "        text-align: right;\n",
       "    }\n",
       "</style>\n",
       "<table border=\"1\" class=\"dataframe\">\n",
       "  <thead>\n",
       "    <tr style=\"text-align: right;\">\n",
       "      <th></th>\n",
       "      <th>NOME</th>\n",
       "      <th>ANO</th>\n",
       "      <th>VARIAVEL</th>\n",
       "      <th>VALOR</th>\n",
       "    </tr>\n",
       "  </thead>\n",
       "  <tbody>\n",
       "    <tr>\n",
       "      <th>5396</th>\n",
       "      <td>ALUNO-1</td>\n",
       "      <td>2020</td>\n",
       "      <td>INDE</td>\n",
       "      <td>7.883752</td>\n",
       "    </tr>\n",
       "    <tr>\n",
       "      <th>5397</th>\n",
       "      <td>ALUNO-2</td>\n",
       "      <td>2020</td>\n",
       "      <td>INDE</td>\n",
       "      <td>NaN</td>\n",
       "    </tr>\n",
       "    <tr>\n",
       "      <th>5398</th>\n",
       "      <td>ALUNO-3</td>\n",
       "      <td>2020</td>\n",
       "      <td>INDE</td>\n",
       "      <td>7.856389666666666</td>\n",
       "    </tr>\n",
       "    <tr>\n",
       "      <th>5399</th>\n",
       "      <td>ALUNO-4</td>\n",
       "      <td>2020</td>\n",
       "      <td>INDE</td>\n",
       "      <td>5.076252</td>\n",
       "    </tr>\n",
       "    <tr>\n",
       "      <th>5400</th>\n",
       "      <td>ALUNO-5</td>\n",
       "      <td>2020</td>\n",
       "      <td>INDE</td>\n",
       "      <td>8.077085</td>\n",
       "    </tr>\n",
       "  </tbody>\n",
       "</table>\n",
       "</div>"
      ],
      "text/plain": [
       "         NOME   ANO VARIAVEL              VALOR\n",
       "5396  ALUNO-1  2020     INDE           7.883752\n",
       "5397  ALUNO-2  2020     INDE                NaN\n",
       "5398  ALUNO-3  2020     INDE  7.856389666666666\n",
       "5399  ALUNO-4  2020     INDE           5.076252\n",
       "5400  ALUNO-5  2020     INDE           8.077085"
      ]
     },
     "execution_count": 20,
     "metadata": {},
     "output_type": "execute_result"
    }
   ],
   "source": [
    "long_data_inde = long_data[['NOME', 'ANO', 'VARIAVEL','VALOR']]\n",
    "long_data_inde = long_data_inde[long_data_inde['VARIAVEL'] == 'INDE']\n",
    "long_data_inde.head()"
   ]
  },
  {
   "cell_type": "code",
   "execution_count": 21,
   "metadata": {},
   "outputs": [],
   "source": [
    "# Convert 'VALOR' column to numeric, forcing errors to NaN\n",
    "long_data_inde['VALOR'] = pd.to_numeric(long_data_inde['VALOR'], errors='coerce')"
   ]
  },
  {
   "cell_type": "code",
   "execution_count": 22,
   "metadata": {},
   "outputs": [
    {
     "data": {
      "image/png": "[encoded data removed]",
      "text/plain": [
       "<Figure size 1000x600 with 1 Axes>"
      ]
     },
     "metadata": {},
     "output_type": "display_data"
    },
    {
     "data": {
      "text/plain": [
       "<Figure size 800x550 with 0 Axes>"
      ]
     },
     "metadata": {},
     "output_type": "display_data"
    },
    {
     "data": {
      "image/png": "[encoded data removed]",
      "text/plain": [
       "<Figure size 1000x600 with 1 Axes>"
      ]
     },
     "metadata": {},
     "output_type": "display_data"
    },
    {
     "data": {
      "text/plain": [
       "<Figure size 800x550 with 0 Axes>"
      ]
     },
     "metadata": {},
     "output_type": "display_data"
    },
    {
     "data": {
      "image/png": "[encoded data removed]",
      "text/plain": [
       "<Figure size 1000x600 with 1 Axes>"
      ]
     },
     "metadata": {},
     "output_type": "display_data"
    },
    {
     "data": {
      "text/plain": [
       "<Figure size 800x550 with 0 Axes>"
      ]
     },
     "metadata": {},
     "output_type": "display_data"
    }
   ],
   "source": [
    "import seaborn as sns\n",
    "\n",
    "# sns.set_palette(\"YlGnBu\")\n",
    "\n",
    "import matplotlib.pyplot as plt\n",
    "\n",
    "# Filtrar os dados para o ano 2022\n",
    "data_ano = long_data_inde[long_data_inde['ANO'] == '2022']\n",
    "\n",
    "# Remover valores NaN\n",
    "data_ano = data_ano.dropna(subset=['VALOR'])\n",
    "\n",
    "# Criar o histograma\n",
    "for ano in anos:\n",
    "    data_ano = long_data_inde[long_data_inde['ANO'] == ano]\n",
    "    \n",
    "    if data_ano.empty:\n",
    "        print(f\"Nenhum dado válido encontrado para o ano {ano}\")\n",
    "        continue\n",
    "    \n",
    "    plt.figure(figsize=(10, 6))\n",
    "    sns.histplot(data_ano['VALOR'], bins=10, color=categorical_palette[4], alpha=0.9, stat='density')\n",
    "    sns.kdeplot(data_ano['VALOR'], color=categorical_palette[7])\n",
    "    mean_val = data_ano['VALOR'].mean()\n",
    "    std_val = data_ano['VALOR'].std()\n",
    "\n",
    "    plt.axvline(mean_val, color=categorical_palette[2], linestyle='--', label=f'Média: {mean_val:.2f}')\n",
    "    plt.axvline(mean_val + std_val, color=categorical_palette[0], linestyle='--', label=f'Média + 1 Desvio Padrão: {mean_val + std_val:.2f}')\n",
    "    plt.axvline(mean_val - std_val, color=categorical_palette[0], linestyle='--', label=f'Média - 1 Desvio Padrão: {mean_val - std_val:.2f}')\n",
    "    plt.legend()\n",
    "    plt.title(f'Histograma de VALOR para o ano {ano}')\n",
    "    plt.xlabel('Nota')\n",
    "    plt.ylabel('Frequência')\n",
    "    plt.ylim(0, 0.46)\n",
    "    \n",
    "    plt.show()\n",
    "\n",
    "    plt.savefig(f'../reports/figures/histograma_{ano}.png')\n"
   ]
  },
  {
   "cell_type": "code",
   "execution_count": 23,
   "metadata": {},
   "outputs": [
    {
     "data": {
      "text/html": [
       "<div>\n",
       "<style scoped>\n",
       "    .dataframe tbody tr th:only-of-type {\n",
       "        vertical-align: middle;\n",
       "    }\n",
       "\n",
       "    .dataframe tbody tr th {\n",
       "        vertical-align: top;\n",
       "    }\n",
       "\n",
       "    .dataframe thead th {\n",
       "        text-align: right;\n",
       "    }\n",
       "</style>\n",
       "<table border=\"1\" class=\"dataframe\">\n",
       "  <thead>\n",
       "    <tr style=\"text-align: right;\">\n",
       "      <th></th>\n",
       "      <th>NOME</th>\n",
       "      <th>IDADE_ALUNO_2020</th>\n",
       "      <th>VARIAVEL</th>\n",
       "      <th>VALOR</th>\n",
       "      <th>ANO</th>\n",
       "    </tr>\n",
       "  </thead>\n",
       "  <tbody>\n",
       "    <tr>\n",
       "      <th>0</th>\n",
       "      <td>ALUNO-1</td>\n",
       "      <td>11</td>\n",
       "      <td>INSTITUICAO_ENSINO_ALUNO</td>\n",
       "      <td>Escola Pública</td>\n",
       "      <td>2020</td>\n",
       "    </tr>\n",
       "    <tr>\n",
       "      <th>1</th>\n",
       "      <td>ALUNO-2</td>\n",
       "      <td>NaN</td>\n",
       "      <td>INSTITUICAO_ENSINO_ALUNO</td>\n",
       "      <td>NaN</td>\n",
       "      <td>2020</td>\n",
       "    </tr>\n",
       "    <tr>\n",
       "      <th>2</th>\n",
       "      <td>ALUNO-3</td>\n",
       "      <td>12</td>\n",
       "      <td>INSTITUICAO_ENSINO_ALUNO</td>\n",
       "      <td>Escola Pública</td>\n",
       "      <td>2020</td>\n",
       "    </tr>\n",
       "    <tr>\n",
       "      <th>3</th>\n",
       "      <td>ALUNO-4</td>\n",
       "      <td>10</td>\n",
       "      <td>INSTITUICAO_ENSINO_ALUNO</td>\n",
       "      <td>Escola Pública</td>\n",
       "      <td>2020</td>\n",
       "    </tr>\n",
       "    <tr>\n",
       "      <th>4</th>\n",
       "      <td>ALUNO-5</td>\n",
       "      <td>10</td>\n",
       "      <td>INSTITUICAO_ENSINO_ALUNO</td>\n",
       "      <td>Escola Pública</td>\n",
       "      <td>2020</td>\n",
       "    </tr>\n",
       "  </tbody>\n",
       "</table>\n",
       "</div>"
      ],
      "text/plain": [
       "      NOME IDADE_ALUNO_2020                  VARIAVEL           VALOR   ANO\n",
       "0  ALUNO-1               11  INSTITUICAO_ENSINO_ALUNO  Escola Pública  2020\n",
       "1  ALUNO-2              NaN  INSTITUICAO_ENSINO_ALUNO             NaN  2020\n",
       "2  ALUNO-3               12  INSTITUICAO_ENSINO_ALUNO  Escola Pública  2020\n",
       "3  ALUNO-4               10  INSTITUICAO_ENSINO_ALUNO  Escola Pública  2020\n",
       "4  ALUNO-5               10  INSTITUICAO_ENSINO_ALUNO  Escola Pública  2020"
      ]
     },
     "execution_count": 23,
     "metadata": {},
     "output_type": "execute_result"
    }
   ],
   "source": [
    "long_data.head()"
   ]
  },
  {
   "cell_type": "code",
   "execution_count": 24,
   "metadata": {},
   "outputs": [],
   "source": [
    "quartzo_analysis = long_data[['NOME', 'ANO', 'VARIAVEL', 'VALOR']]\n",
    "topazio_analysis = long_data[['NOME', 'ANO', 'VARIAVEL', 'VALOR']]"
   ]
  },
  {
   "cell_type": "code",
   "execution_count": 25,
   "metadata": {},
   "outputs": [
    {
     "data": {
      "text/plain": [
       "array(['INSTITUICAO_ENSINO_ALUNO', 'ANOS_PM', 'FASE_TURMA',\n",
       "       'PONTO_VIRADA', 'INDE', 'INDE_CONCEITO', 'PEDRA', 'DESTAQUE_IEG',\n",
       "       'DESTAQUE_IDA', 'DESTAQUE_IPV', 'IAA', 'IEG', 'IPS', 'IDA', 'IPP',\n",
       "       'IPV', 'IAN', 'FASE', 'TURMA', 'SINALIZADOR_INGRESSANTE',\n",
       "       'REC_EQUIPE_1', 'REC_EQUIPE_2', 'REC_EQUIPE_3', 'REC_EQUIPE_4',\n",
       "       'NIVEL_IDEAL', 'DEFASAGEM', 'ANO_INGRESSO', 'BOLSISTA', 'CG', 'CF',\n",
       "       'CT', 'NOTA_PORT', 'NOTA_MAT', 'NOTA_ING', 'QTD_AVAL', 'REC_AVA_1',\n",
       "       'REC_AVA_2', 'REC_AVA_3', 'REC_AVA_4', 'INDICADO_BOLSA'],\n",
       "      dtype=object)"
      ]
     },
     "execution_count": 25,
     "metadata": {},
     "output_type": "execute_result"
    }
   ],
   "source": [
    "quartzo_analysis['VARIAVEL'].unique()"
   ]
  },
  {
   "cell_type": "code",
   "execution_count": 26,
   "metadata": {},
   "outputs": [],
   "source": [
    "columns_to_keep = ['IAA', 'IEG', 'IPS', 'IDA', 'IPP',\n",
    "       'IPV', 'IAN', 'PEDRA']\n",
    "\n",
    "quartzo_analysis = quartzo_analysis[quartzo_analysis['VARIAVEL'].isin(columns_to_keep)]\n",
    "topazio_analysis = topazio_analysis[topazio_analysis['VARIAVEL'].isin(columns_to_keep)]"
   ]
  },
  {
   "cell_type": "code",
   "execution_count": 27,
   "metadata": {},
   "outputs": [],
   "source": [
    "quartzo_analysis = quartzo_analysis.pivot_table(index=['NOME', 'ANO'], columns='VARIAVEL', values='VALOR', aggfunc='first').rename_axis(None, axis=1).reset_index()\n",
    "topazio_analysis = topazio_analysis.pivot_table(index=['NOME', 'ANO'], columns='VARIAVEL', values='VALOR', aggfunc='first').rename_axis(None, axis=1).reset_index()"
   ]
  },
  {
   "cell_type": "code",
   "execution_count": 28,
   "metadata": {},
   "outputs": [],
   "source": [
    "quartzo_analysis['QUARTZO'] = quartzo_analysis.apply(lambda row: 1 if row['PEDRA']=='Quartzo' else 0, axis=1)\n",
    "topazio_analysis['TOPAZIO'] = topazio_analysis.apply(lambda row: 1 if row['PEDRA']=='Topázio' else 0, axis=1)"
   ]
  },
  {
   "cell_type": "code",
   "execution_count": 29,
   "metadata": {},
   "outputs": [
    {
     "data": {
      "text/html": [
       "<div>\n",
       "<style scoped>\n",
       "    .dataframe tbody tr th:only-of-type {\n",
       "        vertical-align: middle;\n",
       "    }\n",
       "\n",
       "    .dataframe tbody tr th {\n",
       "        vertical-align: top;\n",
       "    }\n",
       "\n",
       "    .dataframe thead th {\n",
       "        text-align: right;\n",
       "    }\n",
       "</style>\n",
       "<table border=\"1\" class=\"dataframe\">\n",
       "  <thead>\n",
       "    <tr style=\"text-align: right;\">\n",
       "      <th></th>\n",
       "      <th>NOME</th>\n",
       "      <th>ANO</th>\n",
       "      <th>IAA</th>\n",
       "      <th>IAN</th>\n",
       "      <th>IDA</th>\n",
       "      <th>IEG</th>\n",
       "      <th>IPP</th>\n",
       "      <th>IPS</th>\n",
       "      <th>IPV</th>\n",
       "      <th>PEDRA</th>\n",
       "      <th>QUARTZO</th>\n",
       "    </tr>\n",
       "  </thead>\n",
       "  <tbody>\n",
       "    <tr>\n",
       "      <th>0</th>\n",
       "      <td>ALUNO-1</td>\n",
       "      <td>2020</td>\n",
       "      <td>8.500020000000001</td>\n",
       "      <td>10</td>\n",
       "      <td>7</td>\n",
       "      <td>8.7</td>\n",
       "      <td>5.9375</td>\n",
       "      <td>7.5</td>\n",
       "      <td>7.75</td>\n",
       "      <td>Ametista</td>\n",
       "      <td>0</td>\n",
       "    </tr>\n",
       "    <tr>\n",
       "      <th>1</th>\n",
       "      <td>ALUNO-1</td>\n",
       "      <td>2021</td>\n",
       "      <td>7.5</td>\n",
       "      <td>5.0</td>\n",
       "      <td>8.8</td>\n",
       "      <td>6.3</td>\n",
       "      <td>7.7</td>\n",
       "      <td>6.9</td>\n",
       "      <td>8.1</td>\n",
       "      <td>Ametista</td>\n",
       "      <td>0</td>\n",
       "    </tr>\n",
       "    <tr>\n",
       "      <th>2</th>\n",
       "      <td>ALUNO-10</td>\n",
       "      <td>2020</td>\n",
       "      <td>5.83333</td>\n",
       "      <td>10</td>\n",
       "      <td>0</td>\n",
       "      <td>5.2</td>\n",
       "      <td>7.96875</td>\n",
       "      <td>3.75</td>\n",
       "      <td>6.8333325</td>\n",
       "      <td>Quartzo</td>\n",
       "      <td>1</td>\n",
       "    </tr>\n",
       "    <tr>\n",
       "      <th>3</th>\n",
       "      <td>ALUNO-100</td>\n",
       "      <td>2020</td>\n",
       "      <td>9.000020000000001</td>\n",
       "      <td>5</td>\n",
       "      <td>7.5</td>\n",
       "      <td>6.5</td>\n",
       "      <td>6.875</td>\n",
       "      <td>4.375</td>\n",
       "      <td>7.916665</td>\n",
       "      <td>Ágata</td>\n",
       "      <td>0</td>\n",
       "    </tr>\n",
       "    <tr>\n",
       "      <th>4</th>\n",
       "      <td>ALUNO-100</td>\n",
       "      <td>2021</td>\n",
       "      <td>8.5</td>\n",
       "      <td>5.0</td>\n",
       "      <td>0.0</td>\n",
       "      <td>0.0</td>\n",
       "      <td>6.3</td>\n",
       "      <td>3.8</td>\n",
       "      <td>3.8</td>\n",
       "      <td>Quartzo</td>\n",
       "      <td>1</td>\n",
       "    </tr>\n",
       "  </tbody>\n",
       "</table>\n",
       "</div>"
      ],
      "text/plain": [
       "        NOME   ANO                IAA  IAN  IDA  IEG      IPP    IPS  \\\n",
       "0    ALUNO-1  2020  8.500020000000001   10    7  8.7   5.9375    7.5   \n",
       "1    ALUNO-1  2021                7.5  5.0  8.8  6.3      7.7    6.9   \n",
       "2   ALUNO-10  2020            5.83333   10    0  5.2  7.96875   3.75   \n",
       "3  ALUNO-100  2020  9.000020000000001    5  7.5  6.5    6.875  4.375   \n",
       "4  ALUNO-100  2021                8.5  5.0  0.0  0.0      6.3    3.8   \n",
       "\n",
       "         IPV     PEDRA  QUARTZO  \n",
       "0       7.75  Ametista        0  \n",
       "1        8.1  Ametista        0  \n",
       "2  6.8333325   Quartzo        1  \n",
       "3   7.916665     Ágata        0  \n",
       "4        3.8   Quartzo        1  "
      ]
     },
     "execution_count": 29,
     "metadata": {},
     "output_type": "execute_result"
    }
   ],
   "source": [
    "quartzo_analysis.head()"
   ]
  },
  {
   "cell_type": "code",
   "execution_count": 30,
   "metadata": {},
   "outputs": [
    {
     "data": {
      "text/html": [
       "<div>\n",
       "<style scoped>\n",
       "    .dataframe tbody tr th:only-of-type {\n",
       "        vertical-align: middle;\n",
       "    }\n",
       "\n",
       "    .dataframe tbody tr th {\n",
       "        vertical-align: top;\n",
       "    }\n",
       "\n",
       "    .dataframe thead th {\n",
       "        text-align: right;\n",
       "    }\n",
       "</style>\n",
       "<table border=\"1\" class=\"dataframe\">\n",
       "  <thead>\n",
       "    <tr style=\"text-align: right;\">\n",
       "      <th></th>\n",
       "      <th>NOME</th>\n",
       "      <th>ANO</th>\n",
       "      <th>IAA</th>\n",
       "      <th>IAN</th>\n",
       "      <th>IDA</th>\n",
       "      <th>IEG</th>\n",
       "      <th>IPP</th>\n",
       "      <th>IPS</th>\n",
       "      <th>IPV</th>\n",
       "      <th>PEDRA</th>\n",
       "      <th>TOPAZIO</th>\n",
       "    </tr>\n",
       "  </thead>\n",
       "  <tbody>\n",
       "    <tr>\n",
       "      <th>0</th>\n",
       "      <td>ALUNO-1</td>\n",
       "      <td>2020</td>\n",
       "      <td>8.500020000000001</td>\n",
       "      <td>10</td>\n",
       "      <td>7</td>\n",
       "      <td>8.7</td>\n",
       "      <td>5.9375</td>\n",
       "      <td>7.5</td>\n",
       "      <td>7.75</td>\n",
       "      <td>Ametista</td>\n",
       "      <td>0</td>\n",
       "    </tr>\n",
       "    <tr>\n",
       "      <th>1</th>\n",
       "      <td>ALUNO-1</td>\n",
       "      <td>2021</td>\n",
       "      <td>7.5</td>\n",
       "      <td>5.0</td>\n",
       "      <td>8.8</td>\n",
       "      <td>6.3</td>\n",
       "      <td>7.7</td>\n",
       "      <td>6.9</td>\n",
       "      <td>8.1</td>\n",
       "      <td>Ametista</td>\n",
       "      <td>0</td>\n",
       "    </tr>\n",
       "    <tr>\n",
       "      <th>2</th>\n",
       "      <td>ALUNO-10</td>\n",
       "      <td>2020</td>\n",
       "      <td>5.83333</td>\n",
       "      <td>10</td>\n",
       "      <td>0</td>\n",
       "      <td>5.2</td>\n",
       "      <td>7.96875</td>\n",
       "      <td>3.75</td>\n",
       "      <td>6.8333325</td>\n",
       "      <td>Quartzo</td>\n",
       "      <td>0</td>\n",
       "    </tr>\n",
       "    <tr>\n",
       "      <th>3</th>\n",
       "      <td>ALUNO-100</td>\n",
       "      <td>2020</td>\n",
       "      <td>9.000020000000001</td>\n",
       "      <td>5</td>\n",
       "      <td>7.5</td>\n",
       "      <td>6.5</td>\n",
       "      <td>6.875</td>\n",
       "      <td>4.375</td>\n",
       "      <td>7.916665</td>\n",
       "      <td>Ágata</td>\n",
       "      <td>0</td>\n",
       "    </tr>\n",
       "    <tr>\n",
       "      <th>4</th>\n",
       "      <td>ALUNO-100</td>\n",
       "      <td>2021</td>\n",
       "      <td>8.5</td>\n",
       "      <td>5.0</td>\n",
       "      <td>0.0</td>\n",
       "      <td>0.0</td>\n",
       "      <td>6.3</td>\n",
       "      <td>3.8</td>\n",
       "      <td>3.8</td>\n",
       "      <td>Quartzo</td>\n",
       "      <td>0</td>\n",
       "    </tr>\n",
       "  </tbody>\n",
       "</table>\n",
       "</div>"
      ],
      "text/plain": [
       "        NOME   ANO                IAA  IAN  IDA  IEG      IPP    IPS  \\\n",
       "0    ALUNO-1  2020  8.500020000000001   10    7  8.7   5.9375    7.5   \n",
       "1    ALUNO-1  2021                7.5  5.0  8.8  6.3      7.7    6.9   \n",
       "2   ALUNO-10  2020            5.83333   10    0  5.2  7.96875   3.75   \n",
       "3  ALUNO-100  2020  9.000020000000001    5  7.5  6.5    6.875  4.375   \n",
       "4  ALUNO-100  2021                8.5  5.0  0.0  0.0      6.3    3.8   \n",
       "\n",
       "         IPV     PEDRA  TOPAZIO  \n",
       "0       7.75  Ametista        0  \n",
       "1        8.1  Ametista        0  \n",
       "2  6.8333325   Quartzo        0  \n",
       "3   7.916665     Ágata        0  \n",
       "4        3.8   Quartzo        0  "
      ]
     },
     "execution_count": 30,
     "metadata": {},
     "output_type": "execute_result"
    }
   ],
   "source": [
    "topazio_analysis.head()"
   ]
  },
  {
   "cell_type": "code",
   "execution_count": 31,
   "metadata": {},
   "outputs": [
    {
     "data": {
      "image/png": "[encoded data removed]",
      "text/plain": [
       "<Figure size 1000x200 with 2 Axes>"
      ]
     },
     "metadata": {},
     "output_type": "display_data"
    },
    {
     "data": {
      "text/plain": [
       "<Figure size 800x550 with 0 Axes>"
      ]
     },
     "metadata": {},
     "output_type": "display_data"
    }
   ],
   "source": [
    "# Selecionar as colunas de interesse\n",
    "cols_of_interest = ['QUARTZO', 'IAA', 'IAN', 'IDA', 'IEG', 'IPP', 'IPS', 'IPV']\n",
    "\n",
    "# Converter as colunas para tipo numérico, se necessário\n",
    "quartzo_analysis[cols_of_interest] = quartzo_analysis[cols_of_interest].apply(pd.to_numeric, errors='coerce')\n",
    "\n",
    "# Calcular a matriz de correlação\n",
    "correlation_matrix = quartzo_analysis[cols_of_interest].corr()\n",
    "\n",
    "plt.figure(figsize=(10, 2))\n",
    "sns.heatmap(correlation_matrix.iloc[[0]], annot=True, vmin=-1, vmax=1, cmap=sequential_palette)\n",
    "plt.title('Matriz de Correlação entre Indicadores e alunos Quartzo')\n",
    "plt.show()\n",
    "\n",
    "plt.savefig('../reports/figures/correlation_matrix_quartzo.png')"
   ]
  },
  {
   "cell_type": "code",
   "execution_count": 32,
   "metadata": {},
   "outputs": [
    {
     "data": {
      "image/png": "[encoded data removed]",
      "text/plain": [
       "<Figure size 1000x200 with 2 Axes>"
      ]
     },
     "metadata": {},
     "output_type": "display_data"
    },
    {
     "data": {
      "text/plain": [
       "<Figure size 800x550 with 0 Axes>"
      ]
     },
     "metadata": {},
     "output_type": "display_data"
    }
   ],
   "source": [
    "cols_of_interest = ['TOPAZIO', 'IAA', 'IAN', 'IDA', 'IEG', 'IPP', 'IPS', 'IPV']\n",
    "\n",
    "topazio_analysis[cols_of_interest] = topazio_analysis[cols_of_interest].apply(pd.to_numeric, errors='coerce')\n",
    "correlation_matrix = topazio_analysis[cols_of_interest].corr()\n",
    "plt.figure(figsize=(10, 2))\n",
    "sns.heatmap(correlation_matrix.iloc[[0]], annot=True, vmin=-1, vmax=1, cmap=sequential_palette)\n",
    "plt.title('Matriz de Correlação entre Indicadores e alunos Topázio')\n",
    "plt.show()\n",
    "\n",
    "plt.savefig('../reports/figures/correlation_matrix_topazio.png')\n"
   ]
  },
  {
   "cell_type": "code",
   "execution_count": 33,
   "metadata": {},
   "outputs": [],
   "source": [
    "quartzo_processed = quartzo_analysis.drop(columns=['PEDRA'])\n",
    "quartzo_processed['ID'] = quartzo_processed['NOME'] + '-' + quartzo_processed['ANO']\n",
    "quartzo_processed = quartzo_processed.drop(columns=['NOME', 'ANO'])\n",
    "quartzo_processed = quartzo_processed.set_index('ID')"
   ]
  },
  {
   "cell_type": "code",
   "execution_count": 34,
   "metadata": {},
   "outputs": [
    {
     "data": {
      "text/html": [
       "<div>\n",
       "<style scoped>\n",
       "    .dataframe tbody tr th:only-of-type {\n",
       "        vertical-align: middle;\n",
       "    }\n",
       "\n",
       "    .dataframe tbody tr th {\n",
       "        vertical-align: top;\n",
       "    }\n",
       "\n",
       "    .dataframe thead th {\n",
       "        text-align: right;\n",
       "    }\n",
       "</style>\n",
       "<table border=\"1\" class=\"dataframe\">\n",
       "  <thead>\n",
       "    <tr style=\"text-align: right;\">\n",
       "      <th></th>\n",
       "      <th>IAA</th>\n",
       "      <th>IAN</th>\n",
       "      <th>IDA</th>\n",
       "      <th>IEG</th>\n",
       "      <th>IPP</th>\n",
       "      <th>IPS</th>\n",
       "      <th>IPV</th>\n",
       "      <th>QUARTZO</th>\n",
       "    </tr>\n",
       "    <tr>\n",
       "      <th>ID</th>\n",
       "      <th></th>\n",
       "      <th></th>\n",
       "      <th></th>\n",
       "      <th></th>\n",
       "      <th></th>\n",
       "      <th></th>\n",
       "      <th></th>\n",
       "      <th></th>\n",
       "    </tr>\n",
       "  </thead>\n",
       "  <tbody>\n",
       "    <tr>\n",
       "      <th>ALUNO-1-2020</th>\n",
       "      <td>8.50002</td>\n",
       "      <td>10.0</td>\n",
       "      <td>7.0</td>\n",
       "      <td>8.7</td>\n",
       "      <td>5.93750</td>\n",
       "      <td>7.500</td>\n",
       "      <td>7.750000</td>\n",
       "      <td>0</td>\n",
       "    </tr>\n",
       "    <tr>\n",
       "      <th>ALUNO-1-2021</th>\n",
       "      <td>7.50000</td>\n",
       "      <td>5.0</td>\n",
       "      <td>8.8</td>\n",
       "      <td>6.3</td>\n",
       "      <td>7.70000</td>\n",
       "      <td>6.900</td>\n",
       "      <td>8.100000</td>\n",
       "      <td>0</td>\n",
       "    </tr>\n",
       "    <tr>\n",
       "      <th>ALUNO-10-2020</th>\n",
       "      <td>5.83333</td>\n",
       "      <td>10.0</td>\n",
       "      <td>0.0</td>\n",
       "      <td>5.2</td>\n",
       "      <td>7.96875</td>\n",
       "      <td>3.750</td>\n",
       "      <td>6.833333</td>\n",
       "      <td>1</td>\n",
       "    </tr>\n",
       "    <tr>\n",
       "      <th>ALUNO-100-2020</th>\n",
       "      <td>9.00002</td>\n",
       "      <td>5.0</td>\n",
       "      <td>7.5</td>\n",
       "      <td>6.5</td>\n",
       "      <td>6.87500</td>\n",
       "      <td>4.375</td>\n",
       "      <td>7.916665</td>\n",
       "      <td>0</td>\n",
       "    </tr>\n",
       "    <tr>\n",
       "      <th>ALUNO-100-2021</th>\n",
       "      <td>8.50000</td>\n",
       "      <td>5.0</td>\n",
       "      <td>0.0</td>\n",
       "      <td>0.0</td>\n",
       "      <td>6.30000</td>\n",
       "      <td>3.800</td>\n",
       "      <td>3.800000</td>\n",
       "      <td>1</td>\n",
       "    </tr>\n",
       "  </tbody>\n",
       "</table>\n",
       "</div>"
      ],
      "text/plain": [
       "                    IAA   IAN  IDA  IEG      IPP    IPS       IPV  QUARTZO\n",
       "ID                                                                        \n",
       "ALUNO-1-2020    8.50002  10.0  7.0  8.7  5.93750  7.500  7.750000        0\n",
       "ALUNO-1-2021    7.50000   5.0  8.8  6.3  7.70000  6.900  8.100000        0\n",
       "ALUNO-10-2020   5.83333  10.0  0.0  5.2  7.96875  3.750  6.833333        1\n",
       "ALUNO-100-2020  9.00002   5.0  7.5  6.5  6.87500  4.375  7.916665        0\n",
       "ALUNO-100-2021  8.50000   5.0  0.0  0.0  6.30000  3.800  3.800000        1"
      ]
     },
     "execution_count": 34,
     "metadata": {},
     "output_type": "execute_result"
    }
   ],
   "source": [
    "quartzo_processed.head()"
   ]
  },
  {
   "cell_type": "code",
   "execution_count": 35,
   "metadata": {},
   "outputs": [
    {
     "data": {
      "text/html": [
       "<style type=\"text/css\">\n",
       "#T_868a4_row9_col1 {\n",
       "  background-color: lightgreen;\n",
       "}\n",
       "</style>\n",
       "<table id=\"T_868a4\">\n",
       "  <thead>\n",
       "    <tr>\n",
       "      <th class=\"blank level0\" >&nbsp;</th>\n",
       "      <th id=\"T_868a4_level0_col0\" class=\"col_heading level0 col0\" >Description</th>\n",
       "      <th id=\"T_868a4_level0_col1\" class=\"col_heading level0 col1\" >Value</th>\n",
       "    </tr>\n",
       "  </thead>\n",
       "  <tbody>\n",
       "    <tr>\n",
       "      <th id=\"T_868a4_level0_row0\" class=\"row_heading level0 row0\" >0</th>\n",
       "      <td id=\"T_868a4_row0_col0\" class=\"data row0 col0\" >Session id</td>\n",
       "      <td id=\"T_868a4_row0_col1\" class=\"data row0 col1\" >123</td>\n",
       "    </tr>\n",
       "    <tr>\n",
       "      <th id=\"T_868a4_level0_row1\" class=\"row_heading level0 row1\" >1</th>\n",
       "      <td id=\"T_868a4_row1_col0\" class=\"data row1 col0\" >Target</td>\n",
       "      <td id=\"T_868a4_row1_col1\" class=\"data row1 col1\" >QUARTZO</td>\n",
       "    </tr>\n",
       "    <tr>\n",
       "      <th id=\"T_868a4_level0_row2\" class=\"row_heading level0 row2\" >2</th>\n",
       "      <td id=\"T_868a4_row2_col0\" class=\"data row2 col0\" >Target type</td>\n",
       "      <td id=\"T_868a4_row2_col1\" class=\"data row2 col1\" >Binary</td>\n",
       "    </tr>\n",
       "    <tr>\n",
       "      <th id=\"T_868a4_level0_row3\" class=\"row_heading level0 row3\" >3</th>\n",
       "      <td id=\"T_868a4_row3_col0\" class=\"data row3 col0\" >Original data shape</td>\n",
       "      <td id=\"T_868a4_row3_col1\" class=\"data row3 col1\" >(2276, 8)</td>\n",
       "    </tr>\n",
       "    <tr>\n",
       "      <th id=\"T_868a4_level0_row4\" class=\"row_heading level0 row4\" >4</th>\n",
       "      <td id=\"T_868a4_row4_col0\" class=\"data row4 col0\" >Transformed data shape</td>\n",
       "      <td id=\"T_868a4_row4_col1\" class=\"data row4 col1\" >(2276, 8)</td>\n",
       "    </tr>\n",
       "    <tr>\n",
       "      <th id=\"T_868a4_level0_row5\" class=\"row_heading level0 row5\" >5</th>\n",
       "      <td id=\"T_868a4_row5_col0\" class=\"data row5 col0\" >Transformed train set shape</td>\n",
       "      <td id=\"T_868a4_row5_col1\" class=\"data row5 col1\" >(1820, 8)</td>\n",
       "    </tr>\n",
       "    <tr>\n",
       "      <th id=\"T_868a4_level0_row6\" class=\"row_heading level0 row6\" >6</th>\n",
       "      <td id=\"T_868a4_row6_col0\" class=\"data row6 col0\" >Transformed test set shape</td>\n",
       "      <td id=\"T_868a4_row6_col1\" class=\"data row6 col1\" >(456, 8)</td>\n",
       "    </tr>\n",
       "    <tr>\n",
       "      <th id=\"T_868a4_level0_row7\" class=\"row_heading level0 row7\" >7</th>\n",
       "      <td id=\"T_868a4_row7_col0\" class=\"data row7 col0\" >Numeric features</td>\n",
       "      <td id=\"T_868a4_row7_col1\" class=\"data row7 col1\" >7</td>\n",
       "    </tr>\n",
       "    <tr>\n",
       "      <th id=\"T_868a4_level0_row8\" class=\"row_heading level0 row8\" >8</th>\n",
       "      <td id=\"T_868a4_row8_col0\" class=\"data row8 col0\" >Rows with missing values</td>\n",
       "      <td id=\"T_868a4_row8_col1\" class=\"data row8 col1\" >0.0%</td>\n",
       "    </tr>\n",
       "    <tr>\n",
       "      <th id=\"T_868a4_level0_row9\" class=\"row_heading level0 row9\" >9</th>\n",
       "      <td id=\"T_868a4_row9_col0\" class=\"data row9 col0\" >Preprocess</td>\n",
       "      <td id=\"T_868a4_row9_col1\" class=\"data row9 col1\" >True</td>\n",
       "    </tr>\n",
       "    <tr>\n",
       "      <th id=\"T_868a4_level0_row10\" class=\"row_heading level0 row10\" >10</th>\n",
       "      <td id=\"T_868a4_row10_col0\" class=\"data row10 col0\" >Imputation type</td>\n",
       "      <td id=\"T_868a4_row10_col1\" class=\"data row10 col1\" >simple</td>\n",
       "    </tr>\n",
       "    <tr>\n",
       "      <th id=\"T_868a4_level0_row11\" class=\"row_heading level0 row11\" >11</th>\n",
       "      <td id=\"T_868a4_row11_col0\" class=\"data row11 col0\" >Numeric imputation</td>\n",
       "      <td id=\"T_868a4_row11_col1\" class=\"data row11 col1\" >mean</td>\n",
       "    </tr>\n",
       "    <tr>\n",
       "      <th id=\"T_868a4_level0_row12\" class=\"row_heading level0 row12\" >12</th>\n",
       "      <td id=\"T_868a4_row12_col0\" class=\"data row12 col0\" >Categorical imputation</td>\n",
       "      <td id=\"T_868a4_row12_col1\" class=\"data row12 col1\" >mode</td>\n",
       "    </tr>\n",
       "    <tr>\n",
       "      <th id=\"T_868a4_level0_row13\" class=\"row_heading level0 row13\" >13</th>\n",
       "      <td id=\"T_868a4_row13_col0\" class=\"data row13 col0\" >Fold Generator</td>\n",
       "      <td id=\"T_868a4_row13_col1\" class=\"data row13 col1\" >StratifiedKFold</td>\n",
       "    </tr>\n",
       "    <tr>\n",
       "      <th id=\"T_868a4_level0_row14\" class=\"row_heading level0 row14\" >14</th>\n",
       "      <td id=\"T_868a4_row14_col0\" class=\"data row14 col0\" >Fold Number</td>\n",
       "      <td id=\"T_868a4_row14_col1\" class=\"data row14 col1\" >10</td>\n",
       "    </tr>\n",
       "    <tr>\n",
       "      <th id=\"T_868a4_level0_row15\" class=\"row_heading level0 row15\" >15</th>\n",
       "      <td id=\"T_868a4_row15_col0\" class=\"data row15 col0\" >CPU Jobs</td>\n",
       "      <td id=\"T_868a4_row15_col1\" class=\"data row15 col1\" >-1</td>\n",
       "    </tr>\n",
       "    <tr>\n",
       "      <th id=\"T_868a4_level0_row16\" class=\"row_heading level0 row16\" >16</th>\n",
       "      <td id=\"T_868a4_row16_col0\" class=\"data row16 col0\" >Use GPU</td>\n",
       "      <td id=\"T_868a4_row16_col1\" class=\"data row16 col1\" >False</td>\n",
       "    </tr>\n",
       "    <tr>\n",
       "      <th id=\"T_868a4_level0_row17\" class=\"row_heading level0 row17\" >17</th>\n",
       "      <td id=\"T_868a4_row17_col0\" class=\"data row17 col0\" >Log Experiment</td>\n",
       "      <td id=\"T_868a4_row17_col1\" class=\"data row17 col1\" >False</td>\n",
       "    </tr>\n",
       "    <tr>\n",
       "      <th id=\"T_868a4_level0_row18\" class=\"row_heading level0 row18\" >18</th>\n",
       "      <td id=\"T_868a4_row18_col0\" class=\"data row18 col0\" >Experiment Name</td>\n",
       "      <td id=\"T_868a4_row18_col1\" class=\"data row18 col1\" >clf-default-name</td>\n",
       "    </tr>\n",
       "    <tr>\n",
       "      <th id=\"T_868a4_level0_row19\" class=\"row_heading level0 row19\" >19</th>\n",
       "      <td id=\"T_868a4_row19_col0\" class=\"data row19 col0\" >USI</td>\n",
       "      <td id=\"T_868a4_row19_col1\" class=\"data row19 col1\" >2b01</td>\n",
       "    </tr>\n",
       "  </tbody>\n",
       "</table>\n"
      ],
      "text/plain": [
       "<pandas.io.formats.style.Styler at 0x307deee90>"
      ]
     },
     "metadata": {},
     "output_type": "display_data"
    }
   ],
   "source": [
    "analysis = setup(data=quartzo_processed, target='QUARTZO', session_id=123, train_size=0.8)"
   ]
  },
  {
   "cell_type": "code",
   "execution_count": 36,
   "metadata": {},
   "outputs": [
    {
     "data": {
      "text/html": [],
      "text/plain": [
       "<IPython.core.display.HTML object>"
      ]
     },
     "metadata": {},
     "output_type": "display_data"
    },
    {
     "data": {
      "text/html": [
       "<style type=\"text/css\">\n",
       "#T_0de2e th {\n",
       "  text-align: left;\n",
       "}\n",
       "#T_0de2e_row0_col0, #T_0de2e_row0_col3, #T_0de2e_row0_col4, #T_0de2e_row0_col5, #T_0de2e_row0_col6, #T_0de2e_row1_col0, #T_0de2e_row1_col1, #T_0de2e_row1_col2, #T_0de2e_row1_col3, #T_0de2e_row1_col4, #T_0de2e_row1_col7, #T_0de2e_row2_col0, #T_0de2e_row2_col1, #T_0de2e_row2_col2, #T_0de2e_row2_col4, #T_0de2e_row2_col7, #T_0de2e_row3_col0, #T_0de2e_row3_col1, #T_0de2e_row3_col2, #T_0de2e_row3_col3, #T_0de2e_row3_col4, #T_0de2e_row3_col5, #T_0de2e_row3_col6, #T_0de2e_row3_col7, #T_0de2e_row4_col0, #T_0de2e_row4_col1, #T_0de2e_row4_col2, #T_0de2e_row4_col3, #T_0de2e_row4_col4, #T_0de2e_row4_col5, #T_0de2e_row4_col6, #T_0de2e_row4_col7, #T_0de2e_row5_col0, #T_0de2e_row5_col1, #T_0de2e_row5_col2, #T_0de2e_row5_col3, #T_0de2e_row5_col4, #T_0de2e_row5_col5, #T_0de2e_row5_col6, #T_0de2e_row5_col7, #T_0de2e_row6_col0, #T_0de2e_row6_col1, #T_0de2e_row6_col2, #T_0de2e_row6_col3, #T_0de2e_row6_col4, #T_0de2e_row6_col5, #T_0de2e_row6_col6, #T_0de2e_row6_col7, #T_0de2e_row7_col0, #T_0de2e_row7_col1, #T_0de2e_row7_col2, #T_0de2e_row7_col3, #T_0de2e_row7_col4, #T_0de2e_row7_col5, #T_0de2e_row7_col6, #T_0de2e_row7_col7, #T_0de2e_row8_col0, #T_0de2e_row8_col1, #T_0de2e_row8_col2, #T_0de2e_row8_col3, #T_0de2e_row8_col4, #T_0de2e_row8_col5, #T_0de2e_row8_col6, #T_0de2e_row8_col7, #T_0de2e_row9_col0, #T_0de2e_row9_col1, #T_0de2e_row9_col2, #T_0de2e_row9_col3, #T_0de2e_row9_col5, #T_0de2e_row9_col6, #T_0de2e_row9_col7, #T_0de2e_row10_col0, #T_0de2e_row10_col1, #T_0de2e_row10_col2, #T_0de2e_row10_col3, #T_0de2e_row10_col4, #T_0de2e_row10_col5, #T_0de2e_row10_col6, #T_0de2e_row10_col7, #T_0de2e_row11_col0, #T_0de2e_row11_col1, #T_0de2e_row11_col2, #T_0de2e_row11_col3, #T_0de2e_row11_col4, #T_0de2e_row11_col5, #T_0de2e_row11_col6, #T_0de2e_row11_col7, #T_0de2e_row12_col0, #T_0de2e_row12_col1, #T_0de2e_row12_col2, #T_0de2e_row12_col3, #T_0de2e_row12_col4, #T_0de2e_row12_col5, #T_0de2e_row12_col6, #T_0de2e_row12_col7, #T_0de2e_row13_col0, #T_0de2e_row13_col1, #T_0de2e_row13_col2, #T_0de2e_row13_col3, #T_0de2e_row13_col4, #T_0de2e_row13_col5, #T_0de2e_row13_col6, #T_0de2e_row13_col7 {\n",
       "  text-align: left;\n",
       "}\n",
       "#T_0de2e_row0_col1, #T_0de2e_row0_col2, #T_0de2e_row0_col7, #T_0de2e_row1_col5, #T_0de2e_row1_col6, #T_0de2e_row2_col3, #T_0de2e_row2_col5, #T_0de2e_row2_col6, #T_0de2e_row9_col4 {\n",
       "  text-align: left;\n",
       "  background-color: yellow;\n",
       "}\n",
       "#T_0de2e_row0_col8, #T_0de2e_row1_col8, #T_0de2e_row2_col8, #T_0de2e_row3_col8, #T_0de2e_row4_col8, #T_0de2e_row5_col8, #T_0de2e_row6_col8, #T_0de2e_row7_col8, #T_0de2e_row8_col8, #T_0de2e_row9_col8, #T_0de2e_row12_col8, #T_0de2e_row13_col8 {\n",
       "  text-align: left;\n",
       "  background-color: lightgrey;\n",
       "}\n",
       "#T_0de2e_row10_col8, #T_0de2e_row11_col8 {\n",
       "  text-align: left;\n",
       "  background-color: yellow;\n",
       "  background-color: lightgrey;\n",
       "}\n",
       "</style>\n",
       "<table id=\"T_0de2e\">\n",
       "  <thead>\n",
       "    <tr>\n",
       "      <th class=\"blank level0\" >&nbsp;</th>\n",
       "      <th id=\"T_0de2e_level0_col0\" class=\"col_heading level0 col0\" >Model</th>\n",
       "      <th id=\"T_0de2e_level0_col1\" class=\"col_heading level0 col1\" >Accuracy</th>\n",
       "      <th id=\"T_0de2e_level0_col2\" class=\"col_heading level0 col2\" >AUC</th>\n",
       "      <th id=\"T_0de2e_level0_col3\" class=\"col_heading level0 col3\" >Recall</th>\n",
       "      <th id=\"T_0de2e_level0_col4\" class=\"col_heading level0 col4\" >Prec.</th>\n",
       "      <th id=\"T_0de2e_level0_col5\" class=\"col_heading level0 col5\" >F1</th>\n",
       "      <th id=\"T_0de2e_level0_col6\" class=\"col_heading level0 col6\" >Kappa</th>\n",
       "      <th id=\"T_0de2e_level0_col7\" class=\"col_heading level0 col7\" >MCC</th>\n",
       "      <th id=\"T_0de2e_level0_col8\" class=\"col_heading level0 col8\" >TT (Sec)</th>\n",
       "    </tr>\n",
       "  </thead>\n",
       "  <tbody>\n",
       "    <tr>\n",
       "      <th id=\"T_0de2e_level0_row0\" class=\"row_heading level0 row0\" >et</th>\n",
       "      <td id=\"T_0de2e_row0_col0\" class=\"data row0 col0\" >Extra Trees Classifier</td>\n",
       "      <td id=\"T_0de2e_row0_col1\" class=\"data row0 col1\" >0.9676</td>\n",
       "      <td id=\"T_0de2e_row0_col2\" class=\"data row0 col2\" >0.9933</td>\n",
       "      <td id=\"T_0de2e_row0_col3\" class=\"data row0 col3\" >0.8549</td>\n",
       "      <td id=\"T_0de2e_row0_col4\" class=\"data row0 col4\" >0.9419</td>\n",
       "      <td id=\"T_0de2e_row0_col5\" class=\"data row0 col5\" >0.8956</td>\n",
       "      <td id=\"T_0de2e_row0_col6\" class=\"data row0 col6\" >0.8764</td>\n",
       "      <td id=\"T_0de2e_row0_col7\" class=\"data row0 col7\" >0.8784</td>\n",
       "      <td id=\"T_0de2e_row0_col8\" class=\"data row0 col8\" >0.0260</td>\n",
       "    </tr>\n",
       "    <tr>\n",
       "      <th id=\"T_0de2e_level0_row1\" class=\"row_heading level0 row1\" >lr</th>\n",
       "      <td id=\"T_0de2e_row1_col0\" class=\"data row1 col0\" >Logistic Regression</td>\n",
       "      <td id=\"T_0de2e_row1_col1\" class=\"data row1 col1\" >0.9670</td>\n",
       "      <td id=\"T_0de2e_row1_col2\" class=\"data row1 col2\" >0.9928</td>\n",
       "      <td id=\"T_0de2e_row1_col3\" class=\"data row1 col3\" >0.8818</td>\n",
       "      <td id=\"T_0de2e_row1_col4\" class=\"data row1 col4\" >0.9146</td>\n",
       "      <td id=\"T_0de2e_row1_col5\" class=\"data row1 col5\" >0.8971</td>\n",
       "      <td id=\"T_0de2e_row1_col6\" class=\"data row1 col6\" >0.8775</td>\n",
       "      <td id=\"T_0de2e_row1_col7\" class=\"data row1 col7\" >0.8783</td>\n",
       "      <td id=\"T_0de2e_row1_col8\" class=\"data row1 col8\" >0.2940</td>\n",
       "    </tr>\n",
       "    <tr>\n",
       "      <th id=\"T_0de2e_level0_row2\" class=\"row_heading level0 row2\" >ada</th>\n",
       "      <td id=\"T_0de2e_row2_col0\" class=\"data row2 col0\" >Ada Boost Classifier</td>\n",
       "      <td id=\"T_0de2e_row2_col1\" class=\"data row2 col1\" >0.9670</td>\n",
       "      <td id=\"T_0de2e_row2_col2\" class=\"data row2 col2\" >0.9882</td>\n",
       "      <td id=\"T_0de2e_row2_col3\" class=\"data row2 col3\" >0.8824</td>\n",
       "      <td id=\"T_0de2e_row2_col4\" class=\"data row2 col4\" >0.9131</td>\n",
       "      <td id=\"T_0de2e_row2_col5\" class=\"data row2 col5\" >0.8971</td>\n",
       "      <td id=\"T_0de2e_row2_col6\" class=\"data row2 col6\" >0.8775</td>\n",
       "      <td id=\"T_0de2e_row2_col7\" class=\"data row2 col7\" >0.8779</td>\n",
       "      <td id=\"T_0de2e_row2_col8\" class=\"data row2 col8\" >0.0170</td>\n",
       "    </tr>\n",
       "    <tr>\n",
       "      <th id=\"T_0de2e_level0_row3\" class=\"row_heading level0 row3\" >lightgbm</th>\n",
       "      <td id=\"T_0de2e_row3_col0\" class=\"data row3 col0\" >Light Gradient Boosting Machine</td>\n",
       "      <td id=\"T_0de2e_row3_col1\" class=\"data row3 col1\" >0.9659</td>\n",
       "      <td id=\"T_0de2e_row3_col2\" class=\"data row3 col2\" >0.9917</td>\n",
       "      <td id=\"T_0de2e_row3_col3\" class=\"data row3 col3\" >0.8753</td>\n",
       "      <td id=\"T_0de2e_row3_col4\" class=\"data row3 col4\" >0.9149</td>\n",
       "      <td id=\"T_0de2e_row3_col5\" class=\"data row3 col5\" >0.8934</td>\n",
       "      <td id=\"T_0de2e_row3_col6\" class=\"data row3 col6\" >0.8732</td>\n",
       "      <td id=\"T_0de2e_row3_col7\" class=\"data row3 col7\" >0.8743</td>\n",
       "      <td id=\"T_0de2e_row3_col8\" class=\"data row3 col8\" >0.2350</td>\n",
       "    </tr>\n",
       "    <tr>\n",
       "      <th id=\"T_0de2e_level0_row4\" class=\"row_heading level0 row4\" >gbc</th>\n",
       "      <td id=\"T_0de2e_row4_col0\" class=\"data row4 col0\" >Gradient Boosting Classifier</td>\n",
       "      <td id=\"T_0de2e_row4_col1\" class=\"data row4 col1\" >0.9643</td>\n",
       "      <td id=\"T_0de2e_row4_col2\" class=\"data row4 col2\" >0.9917</td>\n",
       "      <td id=\"T_0de2e_row4_col3\" class=\"data row4 col3\" >0.8553</td>\n",
       "      <td id=\"T_0de2e_row4_col4\" class=\"data row4 col4\" >0.9221</td>\n",
       "      <td id=\"T_0de2e_row4_col5\" class=\"data row4 col5\" >0.8863</td>\n",
       "      <td id=\"T_0de2e_row4_col6\" class=\"data row4 col6\" >0.8652</td>\n",
       "      <td id=\"T_0de2e_row4_col7\" class=\"data row4 col7\" >0.8668</td>\n",
       "      <td id=\"T_0de2e_row4_col8\" class=\"data row4 col8\" >0.0360</td>\n",
       "    </tr>\n",
       "    <tr>\n",
       "      <th id=\"T_0de2e_level0_row5\" class=\"row_heading level0 row5\" >rf</th>\n",
       "      <td id=\"T_0de2e_row5_col0\" class=\"data row5 col0\" >Random Forest Classifier</td>\n",
       "      <td id=\"T_0de2e_row5_col1\" class=\"data row5 col1\" >0.9626</td>\n",
       "      <td id=\"T_0de2e_row5_col2\" class=\"data row5 col2\" >0.9907</td>\n",
       "      <td id=\"T_0de2e_row5_col3\" class=\"data row5 col3\" >0.8416</td>\n",
       "      <td id=\"T_0de2e_row5_col4\" class=\"data row5 col4\" >0.9249</td>\n",
       "      <td id=\"T_0de2e_row5_col5\" class=\"data row5 col5\" >0.8801</td>\n",
       "      <td id=\"T_0de2e_row5_col6\" class=\"data row5 col6\" >0.8580</td>\n",
       "      <td id=\"T_0de2e_row5_col7\" class=\"data row5 col7\" >0.8602</td>\n",
       "      <td id=\"T_0de2e_row5_col8\" class=\"data row5 col8\" >0.0340</td>\n",
       "    </tr>\n",
       "    <tr>\n",
       "      <th id=\"T_0de2e_level0_row6\" class=\"row_heading level0 row6\" >svm</th>\n",
       "      <td id=\"T_0de2e_row6_col0\" class=\"data row6 col0\" >SVM - Linear Kernel</td>\n",
       "      <td id=\"T_0de2e_row6_col1\" class=\"data row6 col1\" >0.9577</td>\n",
       "      <td id=\"T_0de2e_row6_col2\" class=\"data row6 col2\" >0.9921</td>\n",
       "      <td id=\"T_0de2e_row6_col3\" class=\"data row6 col3\" >0.8543</td>\n",
       "      <td id=\"T_0de2e_row6_col4\" class=\"data row6 col4\" >0.8978</td>\n",
       "      <td id=\"T_0de2e_row6_col5\" class=\"data row6 col5\" >0.8651</td>\n",
       "      <td id=\"T_0de2e_row6_col6\" class=\"data row6 col6\" >0.8404</td>\n",
       "      <td id=\"T_0de2e_row6_col7\" class=\"data row6 col7\" >0.8477</td>\n",
       "      <td id=\"T_0de2e_row6_col8\" class=\"data row6 col8\" >0.0060</td>\n",
       "    </tr>\n",
       "    <tr>\n",
       "      <th id=\"T_0de2e_level0_row7\" class=\"row_heading level0 row7\" >lda</th>\n",
       "      <td id=\"T_0de2e_row7_col0\" class=\"data row7 col0\" >Linear Discriminant Analysis</td>\n",
       "      <td id=\"T_0de2e_row7_col1\" class=\"data row7 col1\" >0.9560</td>\n",
       "      <td id=\"T_0de2e_row7_col2\" class=\"data row7 col2\" >0.9903</td>\n",
       "      <td id=\"T_0de2e_row7_col3\" class=\"data row7 col3\" >0.8276</td>\n",
       "      <td id=\"T_0de2e_row7_col4\" class=\"data row7 col4\" >0.8990</td>\n",
       "      <td id=\"T_0de2e_row7_col5\" class=\"data row7 col5\" >0.8597</td>\n",
       "      <td id=\"T_0de2e_row7_col6\" class=\"data row7 col6\" >0.8337</td>\n",
       "      <td id=\"T_0de2e_row7_col7\" class=\"data row7 col7\" >0.8361</td>\n",
       "      <td id=\"T_0de2e_row7_col8\" class=\"data row7 col8\" >0.0060</td>\n",
       "    </tr>\n",
       "    <tr>\n",
       "      <th id=\"T_0de2e_level0_row8\" class=\"row_heading level0 row8\" >knn</th>\n",
       "      <td id=\"T_0de2e_row8_col0\" class=\"data row8 col0\" >K Neighbors Classifier</td>\n",
       "      <td id=\"T_0de2e_row8_col1\" class=\"data row8 col1\" >0.9533</td>\n",
       "      <td id=\"T_0de2e_row8_col2\" class=\"data row8 col2\" >0.9770</td>\n",
       "      <td id=\"T_0de2e_row8_col3\" class=\"data row8 col3\" >0.8045</td>\n",
       "      <td id=\"T_0de2e_row8_col4\" class=\"data row8 col4\" >0.8990</td>\n",
       "      <td id=\"T_0de2e_row8_col5\" class=\"data row8 col5\" >0.8487</td>\n",
       "      <td id=\"T_0de2e_row8_col6\" class=\"data row8 col6\" >0.8212</td>\n",
       "      <td id=\"T_0de2e_row8_col7\" class=\"data row8 col7\" >0.8232</td>\n",
       "      <td id=\"T_0de2e_row8_col8\" class=\"data row8 col8\" >0.0100</td>\n",
       "    </tr>\n",
       "    <tr>\n",
       "      <th id=\"T_0de2e_level0_row9\" class=\"row_heading level0 row9\" >ridge</th>\n",
       "      <td id=\"T_0de2e_row9_col0\" class=\"data row9 col0\" >Ridge Classifier</td>\n",
       "      <td id=\"T_0de2e_row9_col1\" class=\"data row9 col1\" >0.9505</td>\n",
       "      <td id=\"T_0de2e_row9_col2\" class=\"data row9 col2\" >0.9903</td>\n",
       "      <td id=\"T_0de2e_row9_col3\" class=\"data row9 col3\" >0.7233</td>\n",
       "      <td id=\"T_0de2e_row9_col4\" class=\"data row9 col4\" >0.9643</td>\n",
       "      <td id=\"T_0de2e_row9_col5\" class=\"data row9 col5\" >0.8251</td>\n",
       "      <td id=\"T_0de2e_row9_col6\" class=\"data row9 col6\" >0.7971</td>\n",
       "      <td id=\"T_0de2e_row9_col7\" class=\"data row9 col7\" >0.8091</td>\n",
       "      <td id=\"T_0de2e_row9_col8\" class=\"data row9 col8\" >0.0080</td>\n",
       "    </tr>\n",
       "    <tr>\n",
       "      <th id=\"T_0de2e_level0_row10\" class=\"row_heading level0 row10\" >nb</th>\n",
       "      <td id=\"T_0de2e_row10_col0\" class=\"data row10 col0\" >Naive Bayes</td>\n",
       "      <td id=\"T_0de2e_row10_col1\" class=\"data row10 col1\" >0.9500</td>\n",
       "      <td id=\"T_0de2e_row10_col2\" class=\"data row10 col2\" >0.9811</td>\n",
       "      <td id=\"T_0de2e_row10_col3\" class=\"data row10 col3\" >0.8822</td>\n",
       "      <td id=\"T_0de2e_row10_col4\" class=\"data row10 col4\" >0.8292</td>\n",
       "      <td id=\"T_0de2e_row10_col5\" class=\"data row10 col5\" >0.8529</td>\n",
       "      <td id=\"T_0de2e_row10_col6\" class=\"data row10 col6\" >0.8229</td>\n",
       "      <td id=\"T_0de2e_row10_col7\" class=\"data row10 col7\" >0.8249</td>\n",
       "      <td id=\"T_0de2e_row10_col8\" class=\"data row10 col8\" >0.0040</td>\n",
       "    </tr>\n",
       "    <tr>\n",
       "      <th id=\"T_0de2e_level0_row11\" class=\"row_heading level0 row11\" >qda</th>\n",
       "      <td id=\"T_0de2e_row11_col0\" class=\"data row11 col0\" >Quadratic Discriminant Analysis</td>\n",
       "      <td id=\"T_0de2e_row11_col1\" class=\"data row11 col1\" >0.9423</td>\n",
       "      <td id=\"T_0de2e_row11_col2\" class=\"data row11 col2\" >0.9794</td>\n",
       "      <td id=\"T_0de2e_row11_col3\" class=\"data row11 col3\" >0.7910</td>\n",
       "      <td id=\"T_0de2e_row11_col4\" class=\"data row11 col4\" >0.8515</td>\n",
       "      <td id=\"T_0de2e_row11_col5\" class=\"data row11 col5\" >0.8179</td>\n",
       "      <td id=\"T_0de2e_row11_col6\" class=\"data row11 col6\" >0.7838</td>\n",
       "      <td id=\"T_0de2e_row11_col7\" class=\"data row11 col7\" >0.7860</td>\n",
       "      <td id=\"T_0de2e_row11_col8\" class=\"data row11 col8\" >0.0040</td>\n",
       "    </tr>\n",
       "    <tr>\n",
       "      <th id=\"T_0de2e_level0_row12\" class=\"row_heading level0 row12\" >dt</th>\n",
       "      <td id=\"T_0de2e_row12_col0\" class=\"data row12 col0\" >Decision Tree Classifier</td>\n",
       "      <td id=\"T_0de2e_row12_col1\" class=\"data row12 col1\" >0.9335</td>\n",
       "      <td id=\"T_0de2e_row12_col2\" class=\"data row12 col2\" >0.8859</td>\n",
       "      <td id=\"T_0de2e_row12_col3\" class=\"data row12 col3\" >0.8152</td>\n",
       "      <td id=\"T_0de2e_row12_col4\" class=\"data row12 col4\" >0.7866</td>\n",
       "      <td id=\"T_0de2e_row12_col5\" class=\"data row12 col5\" >0.7996</td>\n",
       "      <td id=\"T_0de2e_row12_col6\" class=\"data row12 col6\" >0.7598</td>\n",
       "      <td id=\"T_0de2e_row12_col7\" class=\"data row12 col7\" >0.7607</td>\n",
       "      <td id=\"T_0de2e_row12_col8\" class=\"data row12 col8\" >0.0050</td>\n",
       "    </tr>\n",
       "    <tr>\n",
       "      <th id=\"T_0de2e_level0_row13\" class=\"row_heading level0 row13\" >dummy</th>\n",
       "      <td id=\"T_0de2e_row13_col0\" class=\"data row13 col0\" >Dummy Classifier</td>\n",
       "      <td id=\"T_0de2e_row13_col1\" class=\"data row13 col1\" >0.8368</td>\n",
       "      <td id=\"T_0de2e_row13_col2\" class=\"data row13 col2\" >0.5000</td>\n",
       "      <td id=\"T_0de2e_row13_col3\" class=\"data row13 col3\" >0.0000</td>\n",
       "      <td id=\"T_0de2e_row13_col4\" class=\"data row13 col4\" >0.0000</td>\n",
       "      <td id=\"T_0de2e_row13_col5\" class=\"data row13 col5\" >0.0000</td>\n",
       "      <td id=\"T_0de2e_row13_col6\" class=\"data row13 col6\" >0.0000</td>\n",
       "      <td id=\"T_0de2e_row13_col7\" class=\"data row13 col7\" >0.0000</td>\n",
       "      <td id=\"T_0de2e_row13_col8\" class=\"data row13 col8\" >0.0050</td>\n",
       "    </tr>\n",
       "  </tbody>\n",
       "</table>\n"
      ],
      "text/plain": [
       "<pandas.io.formats.style.Styler at 0x307dee5f0>"
      ]
     },
     "metadata": {},
     "output_type": "display_data"
    },
    {
     "data": {
      "text/html": [],
      "text/plain": [
       "<IPython.core.display.HTML object>"
      ]
     },
     "metadata": {},
     "output_type": "display_data"
    },
    {
     "data": {
      "text/html": [
       "<style>#sk-container-id-1 {\n",
       "  /* Definition of color scheme common for light and dark mode */\n",
       "  --sklearn-color-text: black;\n",
       "  --sklearn-color-line: gray;\n",
       "  /* Definition of color scheme for unfitted estimators */\n",
       "  --sklearn-color-unfitted-level-0: #fff5e6;\n",
       "  --sklearn-color-unfitted-level-1: #f6e4d2;\n",
       "  --sklearn-color-unfitted-level-2: #ffe0b3;\n",
       "  --sklearn-color-unfitted-level-3: chocolate;\n",
       "  /* Definition of color scheme for fitted estimators */\n",
       "  --sklearn-color-fitted-level-0: #f0f8ff;\n",
       "  --sklearn-color-fitted-level-1: #d4ebff;\n",
       "  --sklearn-color-fitted-level-2: #b3dbfd;\n",
       "  --sklearn-color-fitted-level-3: cornflowerblue;\n",
       "\n",
       "  /* Specific color for light theme */\n",
       "  --sklearn-color-text-on-default-background: var(--sg-text-color, var(--theme-code-foreground, var(--jp-content-font-color1, black)));\n",
       "  --sklearn-color-background: var(--sg-background-color, var(--theme-background, var(--jp-layout-color0, white)));\n",
       "  --sklearn-color-border-box: var(--sg-text-color, var(--theme-code-foreground, var(--jp-content-font-color1, black)));\n",
       "  --sklearn-color-icon: #696969;\n",
       "\n",
       "  @media (prefers-color-scheme: dark) {\n",
       "    /* Redefinition of color scheme for dark theme */\n",
       "    --sklearn-color-text-on-default-background: var(--sg-text-color, var(--theme-code-foreground, var(--jp-content-font-color1, white)));\n",
       "    --sklearn-color-background: var(--sg-background-color, var(--theme-background, var(--jp-layout-color0, #111)));\n",
       "    --sklearn-color-border-box: var(--sg-text-color, var(--theme-code-foreground, var(--jp-content-font-color1, white)));\n",
       "    --sklearn-color-icon: #878787;\n",
       "  }\n",
       "}\n",
       "\n",
       "#sk-container-id-1 {\n",
       "  color: var(--sklearn-color-text);\n",
       "}\n",
       "\n",
       "#sk-container-id-1 pre {\n",
       "  padding: 0;\n",
       "}\n",
       "\n",
       "#sk-container-id-1 input.sk-hidden--visually {\n",
       "  border: 0;\n",
       "  clip: rect(1px 1px 1px 1px);\n",
       "  clip: rect(1px, 1px, 1px, 1px);\n",
       "  height: 1px;\n",
       "  margin: -1px;\n",
       "  overflow: hidden;\n",
       "  padding: 0;\n",
       "  position: absolute;\n",
       "  width: 1px;\n",
       "}\n",
       "\n",
       "#sk-container-id-1 div.sk-dashed-wrapped {\n",
       "  border: 1px dashed var(--sklearn-color-line);\n",
       "  margin: 0 0.4em 0.5em 0.4em;\n",
       "  box-sizing: border-box;\n",
       "  padding-bottom: 0.4em;\n",
       "  background-color: var(--sklearn-color-background);\n",
       "}\n",
       "\n",
       "#sk-container-id-1 div.sk-container {\n",
       "  /* jupyter's `normalize.less` sets `[hidden] { display: none; }`\n",
       "     but bootstrap.min.css set `[hidden] { display: none !important; }`\n",
       "     so we also need the `!important` here to be able to override the\n",
       "     default hidden behavior on the sphinx rendered scikit-learn.org.\n",
       "     See: https://github.com/scikit-learn/scikit-learn/issues/21755 */\n",
       "  display: inline-block !important;\n",
       "  position: relative;\n",
       "}\n",
       "\n",
       "#sk-container-id-1 div.sk-text-repr-fallback {\n",
       "  display: none;\n",
       "}\n",
       "\n",
       "div.sk-parallel-item,\n",
       "div.sk-serial,\n",
       "div.sk-item {\n",
       "  /* draw centered vertical line to link estimators */\n",
       "  background-image: linear-gradient(var(--sklearn-color-text-on-default-background), var(--sklearn-color-text-on-default-background));\n",
       "  background-size: 2px 100%;\n",
       "  background-repeat: no-repeat;\n",
       "  background-position: center center;\n",
       "}\n",
       "\n",
       "/* Parallel-specific style estimator block */\n",
       "\n",
       "#sk-container-id-1 div.sk-parallel-item::after {\n",
       "  content: \"\";\n",
       "  width: 100%;\n",
       "  border-bottom: 2px solid var(--sklearn-color-text-on-default-background);\n",
       "  flex-grow: 1;\n",
       "}\n",
       "\n",
       "#sk-container-id-1 div.sk-parallel {\n",
       "  display: flex;\n",
       "  align-items: stretch;\n",
       "  justify-content: center;\n",
       "  background-color: var(--sklearn-color-background);\n",
       "  position: relative;\n",
       "}\n",
       "\n",
       "#sk-container-id-1 div.sk-parallel-item {\n",
       "  display: flex;\n",
       "  flex-direction: column;\n",
       "}\n",
       "\n",
       "#sk-container-id-1 div.sk-parallel-item:first-child::after {\n",
       "  align-self: flex-end;\n",
       "  width: 50%;\n",
       "}\n",
       "\n",
       "#sk-container-id-1 div.sk-parallel-item:last-child::after {\n",
       "  align-self: flex-start;\n",
       "  width: 50%;\n",
       "}\n",
       "\n",
       "#sk-container-id-1 div.sk-parallel-item:only-child::after {\n",
       "  width: 0;\n",
       "}\n",
       "\n",
       "/* Serial-specific style estimator block */\n",
       "\n",
       "#sk-container-id-1 div.sk-serial {\n",
       "  display: flex;\n",
       "  flex-direction: column;\n",
       "  align-items: center;\n",
       "  background-color: var(--sklearn-color-background);\n",
       "  padding-right: 1em;\n",
       "  padding-left: 1em;\n",
       "}\n",
       "\n",
       "\n",
       "/* Toggleable style: style used for estimator/Pipeline/ColumnTransformer box that is\n",
       "clickable and can be expanded/collapsed.\n",
       "- Pipeline and ColumnTransformer use this feature and define the default style\n",
       "- Estimators will overwrite some part of the style using the `sk-estimator` class\n",
       "*/\n",
       "\n",
       "/* Pipeline and ColumnTransformer style (default) */\n",
       "\n",
       "#sk-container-id-1 div.sk-toggleable {\n",
       "  /* Default theme specific background. It is overwritten whether we have a\n",
       "  specific estimator or a Pipeline/ColumnTransformer */\n",
       "  background-color: var(--sklearn-color-background);\n",
       "}\n",
       "\n",
       "/* Toggleable label */\n",
       "#sk-container-id-1 label.sk-toggleable__label {\n",
       "  cursor: pointer;\n",
       "  display: block;\n",
       "  width: 100%;\n",
       "  margin-bottom: 0;\n",
       "  padding: 0.5em;\n",
       "  box-sizing: border-box;\n",
       "  text-align: center;\n",
       "}\n",
       "\n",
       "#sk-container-id-1 label.sk-toggleable__label-arrow:before {\n",
       "  /* Arrow on the left of the label */\n",
       "  content: \"▸\";\n",
       "  float: left;\n",
       "  margin-right: 0.25em;\n",
       "  color: var(--sklearn-color-icon);\n",
       "}\n",
       "\n",
       "#sk-container-id-1 label.sk-toggleable__label-arrow:hover:before {\n",
       "  color: var(--sklearn-color-text);\n",
       "}\n",
       "\n",
       "/* Toggleable content - dropdown */\n",
       "\n",
       "#sk-container-id-1 div.sk-toggleable__content {\n",
       "  max-height: 0;\n",
       "  max-width: 0;\n",
       "  overflow: hidden;\n",
       "  text-align: left;\n",
       "  /* unfitted */\n",
       "  background-color: var(--sklearn-color-unfitted-level-0);\n",
       "}\n",
       "\n",
       "#sk-container-id-1 div.sk-toggleable__content.fitted {\n",
       "  /* fitted */\n",
       "  background-color: var(--sklearn-color-fitted-level-0);\n",
       "}\n",
       "\n",
       "#sk-container-id-1 div.sk-toggleable__content pre {\n",
       "  margin: 0.2em;\n",
       "  border-radius: 0.25em;\n",
       "  color: var(--sklearn-color-text);\n",
       "  /* unfitted */\n",
       "  background-color: var(--sklearn-color-unfitted-level-0);\n",
       "}\n",
       "\n",
       "#sk-container-id-1 div.sk-toggleable__content.fitted pre {\n",
       "  /* unfitted */\n",
       "  background-color: var(--sklearn-color-fitted-level-0);\n",
       "}\n",
       "\n",
       "#sk-container-id-1 input.sk-toggleable__control:checked~div.sk-toggleable__content {\n",
       "  /* Expand drop-down */\n",
       "  max-height: 200px;\n",
       "  max-width: 100%;\n",
       "  overflow: auto;\n",
       "}\n",
       "\n",
       "#sk-container-id-1 input.sk-toggleable__control:checked~label.sk-toggleable__label-arrow:before {\n",
       "  content: \"▾\";\n",
       "}\n",
       "\n",
       "/* Pipeline/ColumnTransformer-specific style */\n",
       "\n",
       "#sk-container-id-1 div.sk-label input.sk-toggleable__control:checked~label.sk-toggleable__label {\n",
       "  color: var(--sklearn-color-text);\n",
       "  background-color: var(--sklearn-color-unfitted-level-2);\n",
       "}\n",
       "\n",
       "#sk-container-id-1 div.sk-label.fitted input.sk-toggleable__control:checked~label.sk-toggleable__label {\n",
       "  background-color: var(--sklearn-color-fitted-level-2);\n",
       "}\n",
       "\n",
       "/* Estimator-specific style */\n",
       "\n",
       "/* Colorize estimator box */\n",
       "#sk-container-id-1 div.sk-estimator input.sk-toggleable__control:checked~label.sk-toggleable__label {\n",
       "  /* unfitted */\n",
       "  background-color: var(--sklearn-color-unfitted-level-2);\n",
       "}\n",
       "\n",
       "#sk-container-id-1 div.sk-estimator.fitted input.sk-toggleable__control:checked~label.sk-toggleable__label {\n",
       "  /* fitted */\n",
       "  background-color: var(--sklearn-color-fitted-level-2);\n",
       "}\n",
       "\n",
       "#sk-container-id-1 div.sk-label label.sk-toggleable__label,\n",
       "#sk-container-id-1 div.sk-label label {\n",
       "  /* The background is the default theme color */\n",
       "  color: var(--sklearn-color-text-on-default-background);\n",
       "}\n",
       "\n",
       "/* On hover, darken the color of the background */\n",
       "#sk-container-id-1 div.sk-label:hover label.sk-toggleable__label {\n",
       "  color: var(--sklearn-color-text);\n",
       "  background-color: var(--sklearn-color-unfitted-level-2);\n",
       "}\n",
       "\n",
       "/* Label box, darken color on hover, fitted */\n",
       "#sk-container-id-1 div.sk-label.fitted:hover label.sk-toggleable__label.fitted {\n",
       "  color: var(--sklearn-color-text);\n",
       "  background-color: var(--sklearn-color-fitted-level-2);\n",
       "}\n",
       "\n",
       "/* Estimator label */\n",
       "\n",
       "#sk-container-id-1 div.sk-label label {\n",
       "  font-family: monospace;\n",
       "  font-weight: bold;\n",
       "  display: inline-block;\n",
       "  line-height: 1.2em;\n",
       "}\n",
       "\n",
       "#sk-container-id-1 div.sk-label-container {\n",
       "  text-align: center;\n",
       "}\n",
       "\n",
       "/* Estimator-specific */\n",
       "#sk-container-id-1 div.sk-estimator {\n",
       "  font-family: monospace;\n",
       "  border: 1px dotted var(--sklearn-color-border-box);\n",
       "  border-radius: 0.25em;\n",
       "  box-sizing: border-box;\n",
       "  margin-bottom: 0.5em;\n",
       "  /* unfitted */\n",
       "  background-color: var(--sklearn-color-unfitted-level-0);\n",
       "}\n",
       "\n",
       "#sk-container-id-1 div.sk-estimator.fitted {\n",
       "  /* fitted */\n",
       "  background-color: var(--sklearn-color-fitted-level-0);\n",
       "}\n",
       "\n",
       "/* on hover */\n",
       "#sk-container-id-1 div.sk-estimator:hover {\n",
       "  /* unfitted */\n",
       "  background-color: var(--sklearn-color-unfitted-level-2);\n",
       "}\n",
       "\n",
       "#sk-container-id-1 div.sk-estimator.fitted:hover {\n",
       "  /* fitted */\n",
       "  background-color: var(--sklearn-color-fitted-level-2);\n",
       "}\n",
       "\n",
       "/* Specification for estimator info (e.g. \"i\" and \"?\") */\n",
       "\n",
       "/* Common style for \"i\" and \"?\" */\n",
       "\n",
       ".sk-estimator-doc-link,\n",
       "a:link.sk-estimator-doc-link,\n",
       "a:visited.sk-estimator-doc-link {\n",
       "  float: right;\n",
       "  font-size: smaller;\n",
       "  line-height: 1em;\n",
       "  font-family: monospace;\n",
       "  background-color: var(--sklearn-color-background);\n",
       "  border-radius: 1em;\n",
       "  height: 1em;\n",
       "  width: 1em;\n",
       "  text-decoration: none !important;\n",
       "  margin-left: 1ex;\n",
       "  /* unfitted */\n",
       "  border: var(--sklearn-color-unfitted-level-1) 1pt solid;\n",
       "  color: var(--sklearn-color-unfitted-level-1);\n",
       "}\n",
       "\n",
       ".sk-estimator-doc-link.fitted,\n",
       "a:link.sk-estimator-doc-link.fitted,\n",
       "a:visited.sk-estimator-doc-link.fitted {\n",
       "  /* fitted */\n",
       "  border: var(--sklearn-color-fitted-level-1) 1pt solid;\n",
       "  color: var(--sklearn-color-fitted-level-1);\n",
       "}\n",
       "\n",
       "/* On hover */\n",
       "div.sk-estimator:hover .sk-estimator-doc-link:hover,\n",
       ".sk-estimator-doc-link:hover,\n",
       "div.sk-label-container:hover .sk-estimator-doc-link:hover,\n",
       ".sk-estimator-doc-link:hover {\n",
       "  /* unfitted */\n",
       "  background-color: var(--sklearn-color-unfitted-level-3);\n",
       "  color: var(--sklearn-color-background);\n",
       "  text-decoration: none;\n",
       "}\n",
       "\n",
       "div.sk-estimator.fitted:hover .sk-estimator-doc-link.fitted:hover,\n",
       ".sk-estimator-doc-link.fitted:hover,\n",
       "div.sk-label-container:hover .sk-estimator-doc-link.fitted:hover,\n",
       ".sk-estimator-doc-link.fitted:hover {\n",
       "  /* fitted */\n",
       "  background-color: var(--sklearn-color-fitted-level-3);\n",
       "  color: var(--sklearn-color-background);\n",
       "  text-decoration: none;\n",
       "}\n",
       "\n",
       "/* Span, style for the box shown on hovering the info icon */\n",
       ".sk-estimator-doc-link span {\n",
       "  display: none;\n",
       "  z-index: 9999;\n",
       "  position: relative;\n",
       "  font-weight: normal;\n",
       "  right: .2ex;\n",
       "  padding: .5ex;\n",
       "  margin: .5ex;\n",
       "  width: min-content;\n",
       "  min-width: 20ex;\n",
       "  max-width: 50ex;\n",
       "  color: var(--sklearn-color-text);\n",
       "  box-shadow: 2pt 2pt 4pt #999;\n",
       "  /* unfitted */\n",
       "  background: var(--sklearn-color-unfitted-level-0);\n",
       "  border: .5pt solid var(--sklearn-color-unfitted-level-3);\n",
       "}\n",
       "\n",
       ".sk-estimator-doc-link.fitted span {\n",
       "  /* fitted */\n",
       "  background: var(--sklearn-color-fitted-level-0);\n",
       "  border: var(--sklearn-color-fitted-level-3);\n",
       "}\n",
       "\n",
       ".sk-estimator-doc-link:hover span {\n",
       "  display: block;\n",
       "}\n",
       "\n",
       "/* \"?\"-specific style due to the `<a>` HTML tag */\n",
       "\n",
       "#sk-container-id-1 a.estimator_doc_link {\n",
       "  float: right;\n",
       "  font-size: 1rem;\n",
       "  line-height: 1em;\n",
       "  font-family: monospace;\n",
       "  background-color: var(--sklearn-color-background);\n",
       "  border-radius: 1rem;\n",
       "  height: 1rem;\n",
       "  width: 1rem;\n",
       "  text-decoration: none;\n",
       "  /* unfitted */\n",
       "  color: var(--sklearn-color-unfitted-level-1);\n",
       "  border: var(--sklearn-color-unfitted-level-1) 1pt solid;\n",
       "}\n",
       "\n",
       "#sk-container-id-1 a.estimator_doc_link.fitted {\n",
       "  /* fitted */\n",
       "  border: var(--sklearn-color-fitted-level-1) 1pt solid;\n",
       "  color: var(--sklearn-color-fitted-level-1);\n",
       "}\n",
       "\n",
       "/* On hover */\n",
       "#sk-container-id-1 a.estimator_doc_link:hover {\n",
       "  /* unfitted */\n",
       "  background-color: var(--sklearn-color-unfitted-level-3);\n",
       "  color: var(--sklearn-color-background);\n",
       "  text-decoration: none;\n",
       "}\n",
       "\n",
       "#sk-container-id-1 a.estimator_doc_link.fitted:hover {\n",
       "  /* fitted */\n",
       "  background-color: var(--sklearn-color-fitted-level-3);\n",
       "}\n",
       "</style><div id=\"sk-container-id-1\" class=\"sk-top-container\"><div class=\"sk-text-repr-fallback\"><pre>ExtraTreesClassifier(bootstrap=False, ccp_alpha=0.0, class_weight=None,\n",
       "                     criterion=&#x27;gini&#x27;, max_depth=None, max_features=&#x27;sqrt&#x27;,\n",
       "                     max_leaf_nodes=None, max_samples=None,\n",
       "                     min_impurity_decrease=0.0, min_samples_leaf=1,\n",
       "                     min_samples_split=2, min_weight_fraction_leaf=0.0,\n",
       "                     monotonic_cst=None, n_estimators=100, n_jobs=-1,\n",
       "                     oob_score=False, random_state=123, verbose=0,\n",
       "                     warm_start=False)</pre><b>In a Jupyter environment, please rerun this cell to show the HTML representation or trust the notebook. <br />On GitHub, the HTML representation is unable to render, please try loading this page with nbviewer.org.</b></div><div class=\"sk-container\" hidden><div class=\"sk-item\"><div class=\"sk-estimator fitted sk-toggleable\"><input class=\"sk-toggleable__control sk-hidden--visually\" id=\"sk-estimator-id-1\" type=\"checkbox\" checked><label for=\"sk-estimator-id-1\" class=\"sk-toggleable__label fitted sk-toggleable__label-arrow fitted\">&nbsp;&nbsp;ExtraTreesClassifier<a class=\"sk-estimator-doc-link fitted\" rel=\"noreferrer\" target=\"_blank\" href=\"https://scikit-learn.org/1.4/modules/generated/sklearn.ensemble.ExtraTreesClassifier.html\">?<span>Documentation for ExtraTreesClassifier</span></a><span class=\"sk-estimator-doc-link fitted\">i<span>Fitted</span></span></label><div class=\"sk-toggleable__content fitted\"><pre>ExtraTreesClassifier(bootstrap=False, ccp_alpha=0.0, class_weight=None,\n",
       "                     criterion=&#x27;gini&#x27;, max_depth=None, max_features=&#x27;sqrt&#x27;,\n",
       "                     max_leaf_nodes=None, max_samples=None,\n",
       "                     min_impurity_decrease=0.0, min_samples_leaf=1,\n",
       "                     min_samples_split=2, min_weight_fraction_leaf=0.0,\n",
       "                     monotonic_cst=None, n_estimators=100, n_jobs=-1,\n",
       "                     oob_score=False, random_state=123, verbose=0,\n",
       "                     warm_start=False)</pre></div> </div></div></div></div>"
      ],
      "text/plain": [
       "ExtraTreesClassifier(bootstrap=False, ccp_alpha=0.0, class_weight=None,\n",
       "                     criterion='gini', max_depth=None, max_features='sqrt',\n",
       "                     max_leaf_nodes=None, max_samples=None,\n",
       "                     min_impurity_decrease=0.0, min_samples_leaf=1,\n",
       "                     min_samples_split=2, min_weight_fraction_leaf=0.0,\n",
       "                     monotonic_cst=None, n_estimators=100, n_jobs=-1,\n",
       "                     oob_score=False, random_state=123, verbose=0,\n",
       "                     warm_start=False)"
      ]
     },
     "execution_count": 36,
     "metadata": {},
     "output_type": "execute_result"
    }
   ],
   "source": [
    "analysis.compare_models()"
   ]
  },
  {
   "cell_type": "code",
   "execution_count": 37,
   "metadata": {},
   "outputs": [
    {
     "data": {
      "text/html": [],
      "text/plain": [
       "<IPython.core.display.HTML object>"
      ]
     },
     "metadata": {},
     "output_type": "display_data"
    },
    {
     "data": {
      "text/html": [
       "<style type=\"text/css\">\n",
       "#T_130e8_row10_col0, #T_130e8_row10_col1, #T_130e8_row10_col2, #T_130e8_row10_col3, #T_130e8_row10_col4, #T_130e8_row10_col5, #T_130e8_row10_col6 {\n",
       "  background: yellow;\n",
       "}\n",
       "</style>\n",
       "<table id=\"T_130e8\">\n",
       "  <thead>\n",
       "    <tr>\n",
       "      <th class=\"blank level0\" >&nbsp;</th>\n",
       "      <th id=\"T_130e8_level0_col0\" class=\"col_heading level0 col0\" >Accuracy</th>\n",
       "      <th id=\"T_130e8_level0_col1\" class=\"col_heading level0 col1\" >AUC</th>\n",
       "      <th id=\"T_130e8_level0_col2\" class=\"col_heading level0 col2\" >Recall</th>\n",
       "      <th id=\"T_130e8_level0_col3\" class=\"col_heading level0 col3\" >Prec.</th>\n",
       "      <th id=\"T_130e8_level0_col4\" class=\"col_heading level0 col4\" >F1</th>\n",
       "      <th id=\"T_130e8_level0_col5\" class=\"col_heading level0 col5\" >Kappa</th>\n",
       "      <th id=\"T_130e8_level0_col6\" class=\"col_heading level0 col6\" >MCC</th>\n",
       "    </tr>\n",
       "    <tr>\n",
       "      <th class=\"index_name level0\" >Fold</th>\n",
       "      <th class=\"blank col0\" >&nbsp;</th>\n",
       "      <th class=\"blank col1\" >&nbsp;</th>\n",
       "      <th class=\"blank col2\" >&nbsp;</th>\n",
       "      <th class=\"blank col3\" >&nbsp;</th>\n",
       "      <th class=\"blank col4\" >&nbsp;</th>\n",
       "      <th class=\"blank col5\" >&nbsp;</th>\n",
       "      <th class=\"blank col6\" >&nbsp;</th>\n",
       "    </tr>\n",
       "  </thead>\n",
       "  <tbody>\n",
       "    <tr>\n",
       "      <th id=\"T_130e8_level0_row0\" class=\"row_heading level0 row0\" >0</th>\n",
       "      <td id=\"T_130e8_row0_col0\" class=\"data row0 col0\" >0.9615</td>\n",
       "      <td id=\"T_130e8_row0_col1\" class=\"data row0 col1\" >0.9854</td>\n",
       "      <td id=\"T_130e8_row0_col2\" class=\"data row0 col2\" >0.8966</td>\n",
       "      <td id=\"T_130e8_row0_col3\" class=\"data row0 col3\" >0.8667</td>\n",
       "      <td id=\"T_130e8_row0_col4\" class=\"data row0 col4\" >0.8814</td>\n",
       "      <td id=\"T_130e8_row0_col5\" class=\"data row0 col5\" >0.8584</td>\n",
       "      <td id=\"T_130e8_row0_col6\" class=\"data row0 col6\" >0.8586</td>\n",
       "    </tr>\n",
       "    <tr>\n",
       "      <th id=\"T_130e8_level0_row1\" class=\"row_heading level0 row1\" >1</th>\n",
       "      <td id=\"T_130e8_row1_col0\" class=\"data row1 col0\" >0.9505</td>\n",
       "      <td id=\"T_130e8_row1_col1\" class=\"data row1 col1\" >0.9779</td>\n",
       "      <td id=\"T_130e8_row1_col2\" class=\"data row1 col2\" >0.8621</td>\n",
       "      <td id=\"T_130e8_row1_col3\" class=\"data row1 col3\" >0.8333</td>\n",
       "      <td id=\"T_130e8_row1_col4\" class=\"data row1 col4\" >0.8475</td>\n",
       "      <td id=\"T_130e8_row1_col5\" class=\"data row1 col5\" >0.8180</td>\n",
       "      <td id=\"T_130e8_row1_col6\" class=\"data row1 col6\" >0.8181</td>\n",
       "    </tr>\n",
       "    <tr>\n",
       "      <th id=\"T_130e8_level0_row2\" class=\"row_heading level0 row2\" >2</th>\n",
       "      <td id=\"T_130e8_row2_col0\" class=\"data row2 col0\" >0.9615</td>\n",
       "      <td id=\"T_130e8_row2_col1\" class=\"data row2 col1\" >0.9894</td>\n",
       "      <td id=\"T_130e8_row2_col2\" class=\"data row2 col2\" >0.8966</td>\n",
       "      <td id=\"T_130e8_row2_col3\" class=\"data row2 col3\" >0.8667</td>\n",
       "      <td id=\"T_130e8_row2_col4\" class=\"data row2 col4\" >0.8814</td>\n",
       "      <td id=\"T_130e8_row2_col5\" class=\"data row2 col5\" >0.8584</td>\n",
       "      <td id=\"T_130e8_row2_col6\" class=\"data row2 col6\" >0.8586</td>\n",
       "    </tr>\n",
       "    <tr>\n",
       "      <th id=\"T_130e8_level0_row3\" class=\"row_heading level0 row3\" >3</th>\n",
       "      <td id=\"T_130e8_row3_col0\" class=\"data row3 col0\" >0.9286</td>\n",
       "      <td id=\"T_130e8_row3_col1\" class=\"data row3 col1\" >0.9700</td>\n",
       "      <td id=\"T_130e8_row3_col2\" class=\"data row3 col2\" >0.8667</td>\n",
       "      <td id=\"T_130e8_row3_col3\" class=\"data row3 col3\" >0.7429</td>\n",
       "      <td id=\"T_130e8_row3_col4\" class=\"data row3 col4\" >0.8000</td>\n",
       "      <td id=\"T_130e8_row3_col5\" class=\"data row3 col5\" >0.7568</td>\n",
       "      <td id=\"T_130e8_row3_col6\" class=\"data row3 col6\" >0.7602</td>\n",
       "    </tr>\n",
       "    <tr>\n",
       "      <th id=\"T_130e8_level0_row4\" class=\"row_heading level0 row4\" >4</th>\n",
       "      <td id=\"T_130e8_row4_col0\" class=\"data row4 col0\" >0.9396</td>\n",
       "      <td id=\"T_130e8_row4_col1\" class=\"data row4 col1\" >0.9724</td>\n",
       "      <td id=\"T_130e8_row4_col2\" class=\"data row4 col2\" >0.9667</td>\n",
       "      <td id=\"T_130e8_row4_col3\" class=\"data row4 col3\" >0.7436</td>\n",
       "      <td id=\"T_130e8_row4_col4\" class=\"data row4 col4\" >0.8406</td>\n",
       "      <td id=\"T_130e8_row4_col5\" class=\"data row4 col5\" >0.8041</td>\n",
       "      <td id=\"T_130e8_row4_col6\" class=\"data row4 col6\" >0.8146</td>\n",
       "    </tr>\n",
       "    <tr>\n",
       "      <th id=\"T_130e8_level0_row5\" class=\"row_heading level0 row5\" >5</th>\n",
       "      <td id=\"T_130e8_row5_col0\" class=\"data row5 col0\" >0.9725</td>\n",
       "      <td id=\"T_130e8_row5_col1\" class=\"data row5 col1\" >0.9965</td>\n",
       "      <td id=\"T_130e8_row5_col2\" class=\"data row5 col2\" >0.9000</td>\n",
       "      <td id=\"T_130e8_row5_col3\" class=\"data row5 col3\" >0.9310</td>\n",
       "      <td id=\"T_130e8_row5_col4\" class=\"data row5 col4\" >0.9153</td>\n",
       "      <td id=\"T_130e8_row5_col5\" class=\"data row5 col5\" >0.8989</td>\n",
       "      <td id=\"T_130e8_row5_col6\" class=\"data row5 col6\" >0.8991</td>\n",
       "    </tr>\n",
       "    <tr>\n",
       "      <th id=\"T_130e8_level0_row6\" class=\"row_heading level0 row6\" >6</th>\n",
       "      <td id=\"T_130e8_row6_col0\" class=\"data row6 col0\" >0.9396</td>\n",
       "      <td id=\"T_130e8_row6_col1\" class=\"data row6 col1\" >0.9796</td>\n",
       "      <td id=\"T_130e8_row6_col2\" class=\"data row6 col2\" >0.8333</td>\n",
       "      <td id=\"T_130e8_row6_col3\" class=\"data row6 col3\" >0.8065</td>\n",
       "      <td id=\"T_130e8_row6_col4\" class=\"data row6 col4\" >0.8197</td>\n",
       "      <td id=\"T_130e8_row6_col5\" class=\"data row6 col5\" >0.7834</td>\n",
       "      <td id=\"T_130e8_row6_col6\" class=\"data row6 col6\" >0.7835</td>\n",
       "    </tr>\n",
       "    <tr>\n",
       "      <th id=\"T_130e8_level0_row7\" class=\"row_heading level0 row7\" >7</th>\n",
       "      <td id=\"T_130e8_row7_col0\" class=\"data row7 col0\" >0.9505</td>\n",
       "      <td id=\"T_130e8_row7_col1\" class=\"data row7 col1\" >0.9882</td>\n",
       "      <td id=\"T_130e8_row7_col2\" class=\"data row7 col2\" >0.8000</td>\n",
       "      <td id=\"T_130e8_row7_col3\" class=\"data row7 col3\" >0.8889</td>\n",
       "      <td id=\"T_130e8_row7_col4\" class=\"data row7 col4\" >0.8421</td>\n",
       "      <td id=\"T_130e8_row7_col5\" class=\"data row7 col5\" >0.8129</td>\n",
       "      <td id=\"T_130e8_row7_col6\" class=\"data row7 col6\" >0.8145</td>\n",
       "    </tr>\n",
       "    <tr>\n",
       "      <th id=\"T_130e8_level0_row8\" class=\"row_heading level0 row8\" >8</th>\n",
       "      <td id=\"T_130e8_row8_col0\" class=\"data row8 col0\" >0.9451</td>\n",
       "      <td id=\"T_130e8_row8_col1\" class=\"data row8 col1\" >0.9750</td>\n",
       "      <td id=\"T_130e8_row8_col2\" class=\"data row8 col2\" >0.9000</td>\n",
       "      <td id=\"T_130e8_row8_col3\" class=\"data row8 col3\" >0.7941</td>\n",
       "      <td id=\"T_130e8_row8_col4\" class=\"data row8 col4\" >0.8438</td>\n",
       "      <td id=\"T_130e8_row8_col5\" class=\"data row8 col5\" >0.8106</td>\n",
       "      <td id=\"T_130e8_row8_col6\" class=\"data row8 col6\" >0.8129</td>\n",
       "    </tr>\n",
       "    <tr>\n",
       "      <th id=\"T_130e8_level0_row9\" class=\"row_heading level0 row9\" >9</th>\n",
       "      <td id=\"T_130e8_row9_col0\" class=\"data row9 col0\" >0.9505</td>\n",
       "      <td id=\"T_130e8_row9_col1\" class=\"data row9 col1\" >0.9770</td>\n",
       "      <td id=\"T_130e8_row9_col2\" class=\"data row9 col2\" >0.9000</td>\n",
       "      <td id=\"T_130e8_row9_col3\" class=\"data row9 col3\" >0.8182</td>\n",
       "      <td id=\"T_130e8_row9_col4\" class=\"data row9 col4\" >0.8571</td>\n",
       "      <td id=\"T_130e8_row9_col5\" class=\"data row9 col5\" >0.8273</td>\n",
       "      <td id=\"T_130e8_row9_col6\" class=\"data row9 col6\" >0.8287</td>\n",
       "    </tr>\n",
       "    <tr>\n",
       "      <th id=\"T_130e8_level0_row10\" class=\"row_heading level0 row10\" >Mean</th>\n",
       "      <td id=\"T_130e8_row10_col0\" class=\"data row10 col0\" >0.9500</td>\n",
       "      <td id=\"T_130e8_row10_col1\" class=\"data row10 col1\" >0.9811</td>\n",
       "      <td id=\"T_130e8_row10_col2\" class=\"data row10 col2\" >0.8822</td>\n",
       "      <td id=\"T_130e8_row10_col3\" class=\"data row10 col3\" >0.8292</td>\n",
       "      <td id=\"T_130e8_row10_col4\" class=\"data row10 col4\" >0.8529</td>\n",
       "      <td id=\"T_130e8_row10_col5\" class=\"data row10 col5\" >0.8229</td>\n",
       "      <td id=\"T_130e8_row10_col6\" class=\"data row10 col6\" >0.8249</td>\n",
       "    </tr>\n",
       "    <tr>\n",
       "      <th id=\"T_130e8_level0_row11\" class=\"row_heading level0 row11\" >Std</th>\n",
       "      <td id=\"T_130e8_row11_col0\" class=\"data row11 col0\" >0.0122</td>\n",
       "      <td id=\"T_130e8_row11_col1\" class=\"data row11 col1\" >0.0080</td>\n",
       "      <td id=\"T_130e8_row11_col2\" class=\"data row11 col2\" >0.0428</td>\n",
       "      <td id=\"T_130e8_row11_col3\" class=\"data row11 col3\" >0.0578</td>\n",
       "      <td id=\"T_130e8_row11_col4\" class=\"data row11 col4\" >0.0313</td>\n",
       "      <td id=\"T_130e8_row11_col5\" class=\"data row11 col5\" >0.0386</td>\n",
       "      <td id=\"T_130e8_row11_col6\" class=\"data row11 col6\" >0.0375</td>\n",
       "    </tr>\n",
       "  </tbody>\n",
       "</table>\n"
      ],
      "text/plain": [
       "<pandas.io.formats.style.Styler at 0x307a501f0>"
      ]
     },
     "metadata": {},
     "output_type": "display_data"
    },
    {
     "data": {
      "text/html": [],
      "text/plain": [
       "<IPython.core.display.HTML object>"
      ]
     },
     "metadata": {},
     "output_type": "display_data"
    }
   ],
   "source": [
    "model = analysis.create_model('nb')"
   ]
  },
  {
   "cell_type": "code",
   "execution_count": 38,
   "metadata": {},
   "outputs": [
    {
     "data": {
      "text/html": [],
      "text/plain": [
       "<IPython.core.display.HTML object>"
      ]
     },
     "metadata": {},
     "output_type": "display_data"
    },
    {
     "data": {
      "image/png": "[encoded data removed]",
      "text/plain": [
       "<Figure size 800x550 with 1 Axes>"
      ]
     },
     "metadata": {},
     "output_type": "display_data"
    }
   ],
   "source": [
    "plot_model(model, plot='auc')"
   ]
  }
 ],
 "metadata": {
  "kernelspec": {
   "display_name": "passos_magicos",
   "language": "python",
   "name": "python3"
  },
  "language_info": {
   "codemirror_mode": {
    "name": "ipython",
    "version": 3
   },
   "file_extension": ".py",
   "mimetype": "text/x-python",
   "name": "python",
   "nbconvert_exporter": "python",
   "pygments_lexer": "ipython3",
   "version": "3.10.16"
  }
 },
 "nbformat": 4,
 "nbformat_minor": 2
}
